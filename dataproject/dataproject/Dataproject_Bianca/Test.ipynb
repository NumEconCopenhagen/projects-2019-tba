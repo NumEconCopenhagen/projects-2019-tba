#%% Change working directory from the workspace root to the ipynb file location. Turn this addition off with the DataScience.changeDirOnImportExport setting
import os
try:
	os.chdir(os.path.join(os.getcwd(), 'dataproject\dataproject\Dataproject_Bianca'))
	print(os.getcwd())
except:
	pass

#%%
# Setup
import pandas as pd
import numpy as np


#%%
#setup to download data directly from the databank
import pandas_datareader
import datetime


#%%
#setup to download data directly from world data bank
from pandas_datareader import wb


#%%
#define countries we are looking for
countries = ["CN","JP","BR","US","DK","ES","TM","IN","NG"]


#%%
#define indicator
indicators = {"NY.GDP.PCAP.KD":"GDP per capita", "NY.GDP.MKTP.CD":"GDP(current US $)", "SP.POP.TOTL":"Population total", 
              "SP.URB.TOTL.IN.ZS":"Urban Population in %", "SP.DYN.TFRT.IN":"Fertility Rate", "SE.ADT.LITR.ZS": "Literacy rate, adult total in %" }


#%%
#example download world data bank shown in the lecture
data_wb = wb.download(indicator= indicators, country= countries, start=1990, end=2017)
data_wb = data_wb.rename(columns = {"NY.GDP.PCAP.KD":"gdp_pC","NY.GDP.MKTP.CD":"gdp", "SP.POP.TOTL":"pop", "SP.URB.TOTL.IN.ZS":"urban_pop%", 
                                    "SP.DYN.TFRT.IN":"frt", "SE.ADT.LITR.ZS":"litr"})
data_wb = data_wb.reset_index()
data_wb.head(-5)

#%% [markdown]
# IMPORTANT: Change the following code to your's and if you run it twice you need to change the name or we figure sth out on how to overwrite the existing one

#%%
# save datasheet as excel (just to see it)_index=false to avoid saving the index
writer = pd.ExcelWriter('pandas_simple.xlsx', engine='xlsxwriter')
#data_wb.to_excel(r"C:\Users\BKirs\OneDrive\03_Master\07_IntroToProgramming\DataProject_IP\projects-2019-tba\dataproject\dataproject\Dataproject_Bianca\data_wb1.xlsx")
data_wb.to_excel(r"./data_wb2.xlsx")

#%%
# Bianca
#to round all the numbers:
round(data_wb.head(),2)


#%%
# Bianca
#new variable for gdp
data_wb['gdp_in_bil'] = data_wb['gdp']/1000000000
data_wb['gdp_in_millions'] = data_wb['gdp']/1000000
#other way to round:
#    data_wb['gdp_in_millions'] = round(data_wb['gdp']/1000000,2)

#to seperate:

#format('gdp_in_millions', ',d')
#"{:,}".format(y)
#data_wb['gdp_in_millions'] = '{:,.2f}'.format(data_wb['gdp_in_millions'])

round(data_wb.head(),2) #just to check


#%%
# Bianca
#drop old variable for gdp
del data_wb['gdp']
round(data_wb.head(),2)


#%%
data_wb.shape #how many obs and variables


#%%
#summary statistics
data_wb.describe()

#%% [markdown]
# Maybe use a gdp in Millions and then do sth to decimals

#%%
# detect for missing data
## count missing data
data_wb.isnull().sum().sum()


#%%
## number of observations
data_wb.count()


#%%
## missing value of each variable
data_wb.isnull().sum()


#%%
# drop litr
data_wb.drop(['litr'], axis = 1, inplace = True)


#%%
#search for the nine missing values in frt
data_wb.groupby('year').mean()


#%%
#show frt only for 2017
data_wb.loc[data_wb['year'] == "2017", :].head(-1)


#%%
# drop the year for which the data is missing 
I = data_wb['year'] == "2017"
data_wb.drop(data_wb[I].index, inplace = True)
# => data cleaning done


#%%
#summary statistics
data_wb.describe()


#%%
data_wb.shape


#%%
data_wb.count()
#=>data cleaning finished


#%%
# make some cool groupby things see lecture basic_data
##empl.groupby('municipality')['e'].mean().head(10)
##empl.groupby('year')['e'].mean().plot
# demean to compare it better
##stocks2.groupby('firm')['close_demeaned'].plot(legend=True); 
##plt.title('Stock price: deviation from time-average'); 
# perform summary statistics
## nameofdataset.describe()
# maybe create an interactive table for each country
##see load_save_and_structure_data
#correlation table?
# maybe perform a simple regression
# world maps as diagramm

#%% [markdown]
# Fertility rate//
# Group B//
# Change the number

#%%



