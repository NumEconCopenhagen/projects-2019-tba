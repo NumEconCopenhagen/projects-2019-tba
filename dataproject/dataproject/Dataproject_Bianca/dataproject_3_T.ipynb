{
 "cells": [
  {
   "cell_type": "code",
   "execution_count": 2,
   "metadata": {},
   "outputs": [],
   "source": [
    "# Setup\n",
    "import pandas as pd\n",
    "import numpy as np"
   ]
  },
  {
   "cell_type": "code",
   "execution_count": 3,
   "metadata": {},
   "outputs": [],
   "source": [
    "#setup to download data directly from the databank\n",
    "import pandas_datareader\n",
    "import datetime"
   ]
  },
  {
   "cell_type": "code",
   "execution_count": 4,
   "metadata": {},
   "outputs": [],
   "source": [
    "#setup to download data directly from world data bank\n",
    "from pandas_datareader import wb"
   ]
  },
  {
   "cell_type": "code",
   "execution_count": 5,
   "metadata": {},
   "outputs": [],
   "source": [
    "#define countries we are looking for\n",
    "countries = [\"CN\",\"JP\",\"BR\",\"US\",\"DK\",\"ES\",\"TM\",\"IN\",\"NG\"]"
   ]
  },
  {
   "cell_type": "code",
   "execution_count": 6,
   "metadata": {},
   "outputs": [],
   "source": [
    "#define indicator\n",
    "indicators = {\"NY.GDP.PCAP.KD\":\"GDP per capita\", \"NY.GDP.MKTP.CD\":\"GDP(current US $)\", \"SP.POP.TOTL\":\"Population total\", \n",
    "              \"SP.URB.TOTL.IN.ZS\":\"Urban Population in %\", \"SP.DYN.TFRT.IN\":\"Fertility Rate\", \"SE.ADT.LITR.ZS\": \"Literacy rate, adult total in %\" }"
   ]
  },
  {
   "cell_type": "code",
   "execution_count": 8,
   "metadata": {},
   "outputs": [
    {
     "data": {
      "text/html": [
       "<div>\n",
       "<style scoped>\n",
       "    .dataframe tbody tr th:only-of-type {\n",
       "        vertical-align: middle;\n",
       "    }\n",
       "\n",
       "    .dataframe tbody tr th {\n",
       "        vertical-align: top;\n",
       "    }\n",
       "\n",
       "    .dataframe thead th {\n",
       "        text-align: right;\n",
       "    }\n",
       "</style>\n",
       "<table border=\"1\" class=\"dataframe\">\n",
       "  <thead>\n",
       "    <tr style=\"text-align: right;\">\n",
       "      <th></th>\n",
       "      <th>country</th>\n",
       "      <th>year</th>\n",
       "      <th>gdp_pC</th>\n",
       "      <th>gdp</th>\n",
       "      <th>pop</th>\n",
       "      <th>urban_pop%</th>\n",
       "      <th>frt</th>\n",
       "      <th>litr</th>\n",
       "    </tr>\n",
       "  </thead>\n",
       "  <tbody>\n",
       "    <tr>\n",
       "      <th>0</th>\n",
       "      <td>Brazil</td>\n",
       "      <td>2017</td>\n",
       "      <td>10888.982385</td>\n",
       "      <td>2.055506e+12</td>\n",
       "      <td>209288278</td>\n",
       "      <td>86.309</td>\n",
       "      <td>NaN</td>\n",
       "      <td>NaN</td>\n",
       "    </tr>\n",
       "    <tr>\n",
       "      <th>1</th>\n",
       "      <td>Brazil</td>\n",
       "      <td>2016</td>\n",
       "      <td>10868.653444</td>\n",
       "      <td>1.793989e+12</td>\n",
       "      <td>207652865</td>\n",
       "      <td>86.042</td>\n",
       "      <td>1.726</td>\n",
       "      <td>NaN</td>\n",
       "    </tr>\n",
       "    <tr>\n",
       "      <th>2</th>\n",
       "      <td>Brazil</td>\n",
       "      <td>2015</td>\n",
       "      <td>11351.565748</td>\n",
       "      <td>1.802214e+12</td>\n",
       "      <td>205962108</td>\n",
       "      <td>85.770</td>\n",
       "      <td>1.740</td>\n",
       "      <td>92.04790</td>\n",
       "    </tr>\n",
       "    <tr>\n",
       "      <th>3</th>\n",
       "      <td>Brazil</td>\n",
       "      <td>2014</td>\n",
       "      <td>11870.148408</td>\n",
       "      <td>2.455994e+12</td>\n",
       "      <td>204213133</td>\n",
       "      <td>85.492</td>\n",
       "      <td>1.753</td>\n",
       "      <td>91.72943</td>\n",
       "    </tr>\n",
       "    <tr>\n",
       "      <th>4</th>\n",
       "      <td>Brazil</td>\n",
       "      <td>2013</td>\n",
       "      <td>11915.417054</td>\n",
       "      <td>2.472807e+12</td>\n",
       "      <td>202408632</td>\n",
       "      <td>85.209</td>\n",
       "      <td>1.765</td>\n",
       "      <td>91.48424</td>\n",
       "    </tr>\n",
       "  </tbody>\n",
       "</table>\n",
       "</div>"
      ],
      "text/plain": [
       "  country  year        gdp_pC           gdp        pop  urban_pop%    frt  \\\n",
       "0  Brazil  2017  10888.982385  2.055506e+12  209288278      86.309    NaN   \n",
       "1  Brazil  2016  10868.653444  1.793989e+12  207652865      86.042  1.726   \n",
       "2  Brazil  2015  11351.565748  1.802214e+12  205962108      85.770  1.740   \n",
       "3  Brazil  2014  11870.148408  2.455994e+12  204213133      85.492  1.753   \n",
       "4  Brazil  2013  11915.417054  2.472807e+12  202408632      85.209  1.765   \n",
       "\n",
       "       litr  \n",
       "0       NaN  \n",
       "1       NaN  \n",
       "2  92.04790  \n",
       "3  91.72943  \n",
       "4  91.48424  "
      ]
     },
     "execution_count": 8,
     "metadata": {},
     "output_type": "execute_result"
    }
   ],
   "source": [
    "#example download world data bank shown in the lecture\n",
    "data_wb = wb.download(indicator= indicators, country= countries, start=1990, end=2017)\n",
    "data_wb = data_wb.rename(columns = {\"NY.GDP.PCAP.KD\":\"gdp_pC\",\"NY.GDP.MKTP.CD\":\"gdp\", \"SP.POP.TOTL\":\"pop\", \"SP.URB.TOTL.IN.ZS\":\"urban_pop%\", \n",
    "                                    \"SP.DYN.TFRT.IN\":\"frt\", \"SE.ADT.LITR.ZS\":\"litr\"})\n",
    "data_wb = data_wb.reset_index()\n",
    "data_wb.head(5)"
   ]
  },
  {
   "cell_type": "markdown",
   "metadata": {},
   "source": [
    "IMPORTANT: Change the following code to your's and if you run it twice you need to change the name or we figure sth out on how to overwrite the existing one"
   ]
  },
  {
   "cell_type": "code",
   "execution_count": 8,
   "metadata": {},
   "outputs": [],
   "source": [
    "# save datasheet as excel (just to see it)_index=false to avoid saving the index\n",
    "writer = pd.ExcelWriter('pandas_simple.xlsx', engine='xlsxwriter')\n",
    "#data_wb.to_excel(r\"C:\\Users\\BKirs\\OneDrive\\03_Master\\07_IntroToProgramming\\DataProject_IP\\projects-2019-tba\\dataproject\\dataproject\\Dataproject_Bianca\\data_wb1.xlsx\")\n",
    "\n",
    "#Bianca: simply in the same folder\n",
    "data_wb.to_excel(r\"./data_wb1.xlsx\")"
   ]
  },
  {
   "cell_type": "code",
   "execution_count": 9,
   "metadata": {},
   "outputs": [
    {
     "data": {
      "text/plain": [
       "country        object\n",
       "year           object\n",
       "gdp_pC        float64\n",
       "gdp           float64\n",
       "pop             int64\n",
       "urban_pop%    float64\n",
       "frt           float64\n",
       "litr          float64\n",
       "dtype: object"
      ]
     },
     "execution_count": 9,
     "metadata": {},
     "output_type": "execute_result"
    }
   ],
   "source": [
    "#Tonje \n",
    "data_wb.dtypes"
   ]
  },
  {
   "cell_type": "markdown",
   "metadata": {},
   "source": [
    "IMPORTANT: Find a way to combine the 2 decimals and the format of floats"
   ]
  },
  {
   "cell_type": "code",
   "execution_count": 10,
   "metadata": {},
   "outputs": [
    {
     "data": {
      "text/html": [
       "<div>\n",
       "<style scoped>\n",
       "    .dataframe tbody tr th:only-of-type {\n",
       "        vertical-align: middle;\n",
       "    }\n",
       "\n",
       "    .dataframe tbody tr th {\n",
       "        vertical-align: top;\n",
       "    }\n",
       "\n",
       "    .dataframe thead th {\n",
       "        text-align: right;\n",
       "    }\n",
       "</style>\n",
       "<table border=\"1\" class=\"dataframe\">\n",
       "  <thead>\n",
       "    <tr style=\"text-align: right;\">\n",
       "      <th></th>\n",
       "      <th>country</th>\n",
       "      <th>year</th>\n",
       "      <th>gdp_pC</th>\n",
       "      <th>gdp</th>\n",
       "      <th>pop</th>\n",
       "      <th>urban_pop%</th>\n",
       "      <th>frt</th>\n",
       "      <th>litr</th>\n",
       "    </tr>\n",
       "  </thead>\n",
       "  <tbody>\n",
       "    <tr>\n",
       "      <th>0</th>\n",
       "      <td>Brazil</td>\n",
       "      <td>2017</td>\n",
       "      <td>10,888.9823851831</td>\n",
       "      <td>2,055,505,502,224.73</td>\n",
       "      <td>209288278</td>\n",
       "      <td>86.309</td>\n",
       "      <td>nan</td>\n",
       "      <td>nan</td>\n",
       "    </tr>\n",
       "    <tr>\n",
       "      <th>1</th>\n",
       "      <td>Brazil</td>\n",
       "      <td>2016</td>\n",
       "      <td>10,868.6534435352</td>\n",
       "      <td>1,793,989,048,409.29</td>\n",
       "      <td>207652865</td>\n",
       "      <td>86.042</td>\n",
       "      <td>1.726</td>\n",
       "      <td>nan</td>\n",
       "    </tr>\n",
       "    <tr>\n",
       "      <th>2</th>\n",
       "      <td>Brazil</td>\n",
       "      <td>2015</td>\n",
       "      <td>11,351.5657481703</td>\n",
       "      <td>1,802,214,373,741.32</td>\n",
       "      <td>205962108</td>\n",
       "      <td>85.77</td>\n",
       "      <td>1.74</td>\n",
       "      <td>92.0479</td>\n",
       "    </tr>\n",
       "    <tr>\n",
       "      <th>3</th>\n",
       "      <td>Brazil</td>\n",
       "      <td>2014</td>\n",
       "      <td>11,870.1484076345</td>\n",
       "      <td>2,455,993,625,159.37</td>\n",
       "      <td>204213133</td>\n",
       "      <td>85.492</td>\n",
       "      <td>1.753</td>\n",
       "      <td>91.7294299999999</td>\n",
       "    </tr>\n",
       "    <tr>\n",
       "      <th>4</th>\n",
       "      <td>Brazil</td>\n",
       "      <td>2013</td>\n",
       "      <td>11,915.4170541095</td>\n",
       "      <td>2,472,806,919,901.67</td>\n",
       "      <td>202408632</td>\n",
       "      <td>85.209</td>\n",
       "      <td>1.765</td>\n",
       "      <td>91.48424</td>\n",
       "    </tr>\n",
       "  </tbody>\n",
       "</table>\n",
       "</div>"
      ],
      "text/plain": [
       "  country  year            gdp_pC                  gdp        pop  urban_pop%  \\\n",
       "0  Brazil  2017 10,888.9823851831 2,055,505,502,224.73  209288278      86.309   \n",
       "1  Brazil  2016 10,868.6534435352 1,793,989,048,409.29  207652865      86.042   \n",
       "2  Brazil  2015 11,351.5657481703 1,802,214,373,741.32  205962108       85.77   \n",
       "3  Brazil  2014 11,870.1484076345 2,455,993,625,159.37  204213133      85.492   \n",
       "4  Brazil  2013 11,915.4170541095 2,472,806,919,901.67  202408632      85.209   \n",
       "\n",
       "    frt             litr  \n",
       "0   nan              nan  \n",
       "1 1.726              nan  \n",
       "2  1.74          92.0479  \n",
       "3 1.753 91.7294299999999  \n",
       "4 1.765         91.48424  "
      ]
     },
     "execution_count": 10,
     "metadata": {},
     "output_type": "execute_result"
    }
   ],
   "source": [
    "# Bianca\n",
    "#make the data pretty:\n",
    "pd.options.display.float_format = '{:,}'.format\n",
    "pd.set_option(\"precision\", 2)\n",
    "# other way: pd.set_option('display.float_format', lambda x: '%.2f' % x)\n",
    "\n",
    "data_wb.head(5)\n",
    "\n",
    "#round(data_wb.head(),2)"
   ]
  },
  {
   "cell_type": "code",
   "execution_count": 11,
   "metadata": {},
   "outputs": [
    {
     "data": {
      "text/html": [
       "<div>\n",
       "<style scoped>\n",
       "    .dataframe tbody tr th:only-of-type {\n",
       "        vertical-align: middle;\n",
       "    }\n",
       "\n",
       "    .dataframe tbody tr th {\n",
       "        vertical-align: top;\n",
       "    }\n",
       "\n",
       "    .dataframe thead th {\n",
       "        text-align: right;\n",
       "    }\n",
       "</style>\n",
       "<table border=\"1\" class=\"dataframe\">\n",
       "  <thead>\n",
       "    <tr style=\"text-align: right;\">\n",
       "      <th></th>\n",
       "      <th>country</th>\n",
       "      <th>year</th>\n",
       "      <th>gdp_pC</th>\n",
       "      <th>gdp</th>\n",
       "      <th>pop</th>\n",
       "      <th>urban_pop%</th>\n",
       "      <th>frt</th>\n",
       "      <th>litr</th>\n",
       "      <th>gdp_in_bil</th>\n",
       "      <th>gdp_in_millions</th>\n",
       "    </tr>\n",
       "  </thead>\n",
       "  <tbody>\n",
       "    <tr>\n",
       "      <th>0</th>\n",
       "      <td>Brazil</td>\n",
       "      <td>2017</td>\n",
       "      <td>10,888.98</td>\n",
       "      <td>2,055,505,502,224.73</td>\n",
       "      <td>209288278</td>\n",
       "      <td>86.31</td>\n",
       "      <td>nan</td>\n",
       "      <td>nan</td>\n",
       "      <td>2,055.51</td>\n",
       "      <td>2,055,505.5</td>\n",
       "    </tr>\n",
       "    <tr>\n",
       "      <th>1</th>\n",
       "      <td>Brazil</td>\n",
       "      <td>2016</td>\n",
       "      <td>10,868.65</td>\n",
       "      <td>1,793,989,048,409.29</td>\n",
       "      <td>207652865</td>\n",
       "      <td>86.04</td>\n",
       "      <td>1.73</td>\n",
       "      <td>nan</td>\n",
       "      <td>1,793.99</td>\n",
       "      <td>1,793,989.05</td>\n",
       "    </tr>\n",
       "    <tr>\n",
       "      <th>2</th>\n",
       "      <td>Brazil</td>\n",
       "      <td>2015</td>\n",
       "      <td>11,351.57</td>\n",
       "      <td>1,802,214,373,741.32</td>\n",
       "      <td>205962108</td>\n",
       "      <td>85.77</td>\n",
       "      <td>1.74</td>\n",
       "      <td>92.05</td>\n",
       "      <td>1,802.21</td>\n",
       "      <td>1,802,214.37</td>\n",
       "    </tr>\n",
       "    <tr>\n",
       "      <th>3</th>\n",
       "      <td>Brazil</td>\n",
       "      <td>2014</td>\n",
       "      <td>11,870.15</td>\n",
       "      <td>2,455,993,625,159.37</td>\n",
       "      <td>204213133</td>\n",
       "      <td>85.49</td>\n",
       "      <td>1.75</td>\n",
       "      <td>91.73</td>\n",
       "      <td>2,455.99</td>\n",
       "      <td>2,455,993.63</td>\n",
       "    </tr>\n",
       "    <tr>\n",
       "      <th>4</th>\n",
       "      <td>Brazil</td>\n",
       "      <td>2013</td>\n",
       "      <td>11,915.42</td>\n",
       "      <td>2,472,806,919,901.67</td>\n",
       "      <td>202408632</td>\n",
       "      <td>85.21</td>\n",
       "      <td>1.76</td>\n",
       "      <td>91.48</td>\n",
       "      <td>2,472.81</td>\n",
       "      <td>2,472,806.92</td>\n",
       "    </tr>\n",
       "  </tbody>\n",
       "</table>\n",
       "</div>"
      ],
      "text/plain": [
       "  country  year    gdp_pC                  gdp        pop  urban_pop%  frt  \\\n",
       "0  Brazil  2017 10,888.98 2,055,505,502,224.73  209288278       86.31  nan   \n",
       "1  Brazil  2016 10,868.65 1,793,989,048,409.29  207652865       86.04 1.73   \n",
       "2  Brazil  2015 11,351.57 1,802,214,373,741.32  205962108       85.77 1.74   \n",
       "3  Brazil  2014 11,870.15 2,455,993,625,159.37  204213133       85.49 1.75   \n",
       "4  Brazil  2013 11,915.42 2,472,806,919,901.67  202408632       85.21 1.76   \n",
       "\n",
       "   litr  gdp_in_bil  gdp_in_millions  \n",
       "0   nan    2,055.51      2,055,505.5  \n",
       "1   nan    1,793.99     1,793,989.05  \n",
       "2 92.05    1,802.21     1,802,214.37  \n",
       "3 91.73    2,455.99     2,455,993.63  \n",
       "4 91.48    2,472.81     2,472,806.92  "
      ]
     },
     "execution_count": 11,
     "metadata": {},
     "output_type": "execute_result"
    }
   ],
   "source": [
    "# Bianca\n",
    "#new variable for gdp\n",
    "data_wb['gdp_in_bil'] = data_wb['gdp']/1000000000\n",
    "data_wb['gdp_in_millions'] = data_wb['gdp']/1000000\n",
    "#other way to round:\n",
    "#    data_wb['gdp_in_millions'] = round(data_wb['gdp']/1000000,2)\n",
    "\n",
    "round(data_wb.head(),2) #just to check"
   ]
  },
  {
   "cell_type": "code",
   "execution_count": 12,
   "metadata": {},
   "outputs": [
    {
     "data": {
      "text/html": [
       "<div>\n",
       "<style scoped>\n",
       "    .dataframe tbody tr th:only-of-type {\n",
       "        vertical-align: middle;\n",
       "    }\n",
       "\n",
       "    .dataframe tbody tr th {\n",
       "        vertical-align: top;\n",
       "    }\n",
       "\n",
       "    .dataframe thead th {\n",
       "        text-align: right;\n",
       "    }\n",
       "</style>\n",
       "<table border=\"1\" class=\"dataframe\">\n",
       "  <thead>\n",
       "    <tr style=\"text-align: right;\">\n",
       "      <th></th>\n",
       "      <th>country</th>\n",
       "      <th>year</th>\n",
       "      <th>gdp_pC</th>\n",
       "      <th>pop</th>\n",
       "      <th>urban_pop%</th>\n",
       "      <th>frt</th>\n",
       "      <th>litr</th>\n",
       "      <th>gdp_in_bil</th>\n",
       "      <th>gdp_in_millions</th>\n",
       "    </tr>\n",
       "  </thead>\n",
       "  <tbody>\n",
       "    <tr>\n",
       "      <th>0</th>\n",
       "      <td>Brazil</td>\n",
       "      <td>2017</td>\n",
       "      <td>10,888.98</td>\n",
       "      <td>209288278</td>\n",
       "      <td>86.31</td>\n",
       "      <td>nan</td>\n",
       "      <td>nan</td>\n",
       "      <td>2,055.51</td>\n",
       "      <td>2,055,505.5</td>\n",
       "    </tr>\n",
       "    <tr>\n",
       "      <th>1</th>\n",
       "      <td>Brazil</td>\n",
       "      <td>2016</td>\n",
       "      <td>10,868.65</td>\n",
       "      <td>207652865</td>\n",
       "      <td>86.04</td>\n",
       "      <td>1.73</td>\n",
       "      <td>nan</td>\n",
       "      <td>1,793.99</td>\n",
       "      <td>1,793,989.05</td>\n",
       "    </tr>\n",
       "    <tr>\n",
       "      <th>2</th>\n",
       "      <td>Brazil</td>\n",
       "      <td>2015</td>\n",
       "      <td>11,351.57</td>\n",
       "      <td>205962108</td>\n",
       "      <td>85.77</td>\n",
       "      <td>1.74</td>\n",
       "      <td>92.05</td>\n",
       "      <td>1,802.21</td>\n",
       "      <td>1,802,214.37</td>\n",
       "    </tr>\n",
       "    <tr>\n",
       "      <th>3</th>\n",
       "      <td>Brazil</td>\n",
       "      <td>2014</td>\n",
       "      <td>11,870.15</td>\n",
       "      <td>204213133</td>\n",
       "      <td>85.49</td>\n",
       "      <td>1.75</td>\n",
       "      <td>91.73</td>\n",
       "      <td>2,455.99</td>\n",
       "      <td>2,455,993.63</td>\n",
       "    </tr>\n",
       "    <tr>\n",
       "      <th>4</th>\n",
       "      <td>Brazil</td>\n",
       "      <td>2013</td>\n",
       "      <td>11,915.42</td>\n",
       "      <td>202408632</td>\n",
       "      <td>85.21</td>\n",
       "      <td>1.76</td>\n",
       "      <td>91.48</td>\n",
       "      <td>2,472.81</td>\n",
       "      <td>2,472,806.92</td>\n",
       "    </tr>\n",
       "  </tbody>\n",
       "</table>\n",
       "</div>"
      ],
      "text/plain": [
       "  country  year    gdp_pC        pop  urban_pop%  frt  litr  gdp_in_bil  \\\n",
       "0  Brazil  2017 10,888.98  209288278       86.31  nan   nan    2,055.51   \n",
       "1  Brazil  2016 10,868.65  207652865       86.04 1.73   nan    1,793.99   \n",
       "2  Brazil  2015 11,351.57  205962108       85.77 1.74 92.05    1,802.21   \n",
       "3  Brazil  2014 11,870.15  204213133       85.49 1.75 91.73    2,455.99   \n",
       "4  Brazil  2013 11,915.42  202408632       85.21 1.76 91.48    2,472.81   \n",
       "\n",
       "   gdp_in_millions  \n",
       "0      2,055,505.5  \n",
       "1     1,793,989.05  \n",
       "2     1,802,214.37  \n",
       "3     2,455,993.63  \n",
       "4     2,472,806.92  "
      ]
     },
     "execution_count": 12,
     "metadata": {},
     "output_type": "execute_result"
    }
   ],
   "source": [
    "# Bianca\n",
    "#drop old variable for gdp\n",
    "del data_wb['gdp']\n",
    "round(data_wb.head(),2)\n",
    "\n",
    "#drop old GDP\n",
    "#data_wb.drop(['gdp'], axis = 1, inplace = True)\n",
    "\n",
    "#check that its droped \n",
    "#data_wb.head(5)\n",
    "\n",
    "#new interpretation of GDP: GDP (current $US), measured in 100 millions -> change description"
   ]
  },
  {
   "cell_type": "code",
   "execution_count": 13,
   "metadata": {},
   "outputs": [
    {
     "data": {
      "text/plain": [
       "(252, 9)"
      ]
     },
     "execution_count": 13,
     "metadata": {},
     "output_type": "execute_result"
    }
   ],
   "source": [
    "data_wb.shape #how many obs and variables"
   ]
  },
  {
   "cell_type": "code",
   "execution_count": 14,
   "metadata": {},
   "outputs": [
    {
     "data": {
      "text/html": [
       "<div>\n",
       "<style scoped>\n",
       "    .dataframe tbody tr th:only-of-type {\n",
       "        vertical-align: middle;\n",
       "    }\n",
       "\n",
       "    .dataframe tbody tr th {\n",
       "        vertical-align: top;\n",
       "    }\n",
       "\n",
       "    .dataframe thead th {\n",
       "        text-align: right;\n",
       "    }\n",
       "</style>\n",
       "<table border=\"1\" class=\"dataframe\">\n",
       "  <thead>\n",
       "    <tr style=\"text-align: right;\">\n",
       "      <th></th>\n",
       "      <th>gdp_pC</th>\n",
       "      <th>pop</th>\n",
       "      <th>urban_pop%</th>\n",
       "      <th>frt</th>\n",
       "      <th>litr</th>\n",
       "      <th>gdp_in_bil</th>\n",
       "      <th>gdp_in_millions</th>\n",
       "    </tr>\n",
       "  </thead>\n",
       "  <tbody>\n",
       "    <tr>\n",
       "      <th>count</th>\n",
       "      <td>252.0</td>\n",
       "      <td>252.0</td>\n",
       "      <td>252.0</td>\n",
       "      <td>243.0</td>\n",
       "      <td>37.0</td>\n",
       "      <td>252.0</td>\n",
       "      <td>252.0</td>\n",
       "    </tr>\n",
       "    <tr>\n",
       "      <th>mean</th>\n",
       "      <td>21,233.39634238703</td>\n",
       "      <td>353,535,362.6825397</td>\n",
       "      <td>62.67078174603172</td>\n",
       "      <td>2.500788065843621</td>\n",
       "      <td>86.99691945945946</td>\n",
       "      <td>2,711.9587098137304</td>\n",
       "      <td>2,711,958.7098137317</td>\n",
       "    </tr>\n",
       "    <tr>\n",
       "      <th>std</th>\n",
       "      <td>20,848.112381275565</td>\n",
       "      <td>464,366,860.29945743</td>\n",
       "      <td>22.30939273104207</td>\n",
       "      <td>1.429511972921093</td>\n",
       "      <td>15.3933906871932</td>\n",
       "      <td>4,160.880644975223</td>\n",
       "      <td>4,160,880.6449752236</td>\n",
       "    </tr>\n",
       "    <tr>\n",
       "      <th>min</th>\n",
       "      <td>530.894738000648</td>\n",
       "      <td>3,683,966.0</td>\n",
       "      <td>25.547</td>\n",
       "      <td>1.13</td>\n",
       "      <td>48.22207</td>\n",
       "      <td>2.37875997544506</td>\n",
       "      <td>2,378.75997544506</td>\n",
       "    </tr>\n",
       "    <tr>\n",
       "      <th>25%</th>\n",
       "      <td>2,131.2548240995525</td>\n",
       "      <td>40,015,504.75</td>\n",
       "      <td>42.5715</td>\n",
       "      <td>1.5470000000000002</td>\n",
       "      <td>88.61624</td>\n",
       "      <td>275.6118545847615</td>\n",
       "      <td>275,611.8545847615</td>\n",
       "    </tr>\n",
       "    <tr>\n",
       "      <th>50%</th>\n",
       "      <td>9,117.394508632831</td>\n",
       "      <td>133,683,074.5</td>\n",
       "      <td>76.0985</td>\n",
       "      <td>1.926</td>\n",
       "      <td>91.48424</td>\n",
       "      <td>684.5027534737676</td>\n",
       "      <td>684,502.7534737675</td>\n",
       "    </tr>\n",
       "    <tr>\n",
       "      <th>75%</th>\n",
       "      <td>42,252.611495064804</td>\n",
       "      <td>309,914,885.75</td>\n",
       "      <td>81.5765</td>\n",
       "      <td>2.8605</td>\n",
       "      <td>97.75069</td>\n",
       "      <td>3,939.73453781613</td>\n",
       "      <td>3,939,734.5378161296</td>\n",
       "    </tr>\n",
       "    <tr>\n",
       "      <th>max</th>\n",
       "      <td>61,582.166068968</td>\n",
       "      <td>1,386,395,000.0</td>\n",
       "      <td>91.535</td>\n",
       "      <td>6.49</td>\n",
       "      <td>99.7</td>\n",
       "      <td>19,390.604</td>\n",
       "      <td>19,390,604.0</td>\n",
       "    </tr>\n",
       "  </tbody>\n",
       "</table>\n",
       "</div>"
      ],
      "text/plain": [
       "                   gdp_pC                  pop        urban_pop%  \\\n",
       "count               252.0                252.0             252.0   \n",
       "mean   21,233.39634238703  353,535,362.6825397 62.67078174603172   \n",
       "std   20,848.112381275565 464,366,860.29945743 22.30939273104207   \n",
       "min      530.894738000648          3,683,966.0            25.547   \n",
       "25%   2,131.2548240995525        40,015,504.75           42.5715   \n",
       "50%    9,117.394508632831        133,683,074.5           76.0985   \n",
       "75%   42,252.611495064804       309,914,885.75           81.5765   \n",
       "max      61,582.166068968      1,386,395,000.0            91.535   \n",
       "\n",
       "                     frt              litr          gdp_in_bil  \\\n",
       "count              243.0              37.0               252.0   \n",
       "mean   2.500788065843621 86.99691945945946 2,711.9587098137304   \n",
       "std    1.429511972921093  15.3933906871932  4,160.880644975223   \n",
       "min                 1.13          48.22207    2.37875997544506   \n",
       "25%   1.5470000000000002          88.61624   275.6118545847615   \n",
       "50%                1.926          91.48424   684.5027534737676   \n",
       "75%               2.8605          97.75069   3,939.73453781613   \n",
       "max                 6.49              99.7          19,390.604   \n",
       "\n",
       "           gdp_in_millions  \n",
       "count                252.0  \n",
       "mean  2,711,958.7098137317  \n",
       "std   4,160,880.6449752236  \n",
       "min      2,378.75997544506  \n",
       "25%     275,611.8545847615  \n",
       "50%     684,502.7534737675  \n",
       "75%   3,939,734.5378161296  \n",
       "max           19,390,604.0  "
      ]
     },
     "execution_count": 14,
     "metadata": {},
     "output_type": "execute_result"
    }
   ],
   "source": [
    "#summary statistics\n",
    "data_wb.describe()"
   ]
  },
  {
   "cell_type": "code",
   "execution_count": 15,
   "metadata": {},
   "outputs": [
    {
     "data": {
      "text/plain": [
       "224"
      ]
     },
     "execution_count": 15,
     "metadata": {},
     "output_type": "execute_result"
    }
   ],
   "source": [
    "# detect for missing data\n",
    "## count missing data\n",
    "data_wb.isnull().sum().sum()"
   ]
  },
  {
   "cell_type": "code",
   "execution_count": 16,
   "metadata": {},
   "outputs": [
    {
     "data": {
      "text/plain": [
       "country            252\n",
       "year               252\n",
       "gdp_pC             252\n",
       "pop                252\n",
       "urban_pop%         252\n",
       "frt                243\n",
       "litr                37\n",
       "gdp_in_bil         252\n",
       "gdp_in_millions    252\n",
       "dtype: int64"
      ]
     },
     "execution_count": 16,
     "metadata": {},
     "output_type": "execute_result"
    }
   ],
   "source": [
    "## number of observations\n",
    "data_wb.count()"
   ]
  },
  {
   "cell_type": "code",
   "execution_count": 17,
   "metadata": {},
   "outputs": [
    {
     "data": {
      "text/plain": [
       "country              0\n",
       "year                 0\n",
       "gdp_pC               0\n",
       "pop                  0\n",
       "urban_pop%           0\n",
       "frt                  9\n",
       "litr               215\n",
       "gdp_in_bil           0\n",
       "gdp_in_millions      0\n",
       "dtype: int64"
      ]
     },
     "execution_count": 17,
     "metadata": {},
     "output_type": "execute_result"
    }
   ],
   "source": [
    "## missing value of each variable\n",
    "data_wb.isnull().sum()"
   ]
  },
  {
   "cell_type": "code",
   "execution_count": 18,
   "metadata": {},
   "outputs": [],
   "source": [
    "# drop litr OR DELETE? AS BF?\n",
    "data_wb.drop(['litr'], axis = 1, inplace = True)"
   ]
  },
  {
   "cell_type": "code",
   "execution_count": 19,
   "metadata": {},
   "outputs": [
    {
     "data": {
      "text/html": [
       "<div>\n",
       "<style scoped>\n",
       "    .dataframe tbody tr th:only-of-type {\n",
       "        vertical-align: middle;\n",
       "    }\n",
       "\n",
       "    .dataframe tbody tr th {\n",
       "        vertical-align: top;\n",
       "    }\n",
       "\n",
       "    .dataframe thead th {\n",
       "        text-align: right;\n",
       "    }\n",
       "</style>\n",
       "<table border=\"1\" class=\"dataframe\">\n",
       "  <thead>\n",
       "    <tr style=\"text-align: right;\">\n",
       "      <th></th>\n",
       "      <th>gdp_pC</th>\n",
       "      <th>pop</th>\n",
       "      <th>urban_pop%</th>\n",
       "      <th>frt</th>\n",
       "      <th>gdp_in_bil</th>\n",
       "      <th>gdp_in_millions</th>\n",
       "    </tr>\n",
       "    <tr>\n",
       "      <th>year</th>\n",
       "      <th></th>\n",
       "      <th></th>\n",
       "      <th></th>\n",
       "      <th></th>\n",
       "      <th></th>\n",
       "      <th></th>\n",
       "    </tr>\n",
       "  </thead>\n",
       "  <tbody>\n",
       "    <tr>\n",
       "      <th>1990</th>\n",
       "      <td>17,322.45185489642</td>\n",
       "      <td>296,754,760.0</td>\n",
       "      <td>57.05544444444445</td>\n",
       "      <td>2.976555555555555</td>\n",
       "      <td>1,220.2763922451793</td>\n",
       "      <td>1,220,276.3922451795</td>\n",
       "    </tr>\n",
       "    <tr>\n",
       "      <th>1991</th>\n",
       "      <td>17,480.059862266076</td>\n",
       "      <td>301,483,292.6666667</td>\n",
       "      <td>57.391</td>\n",
       "      <td>2.9156111111111107</td>\n",
       "      <td>1,308.7053863987721</td>\n",
       "      <td>1,308,705.386398772</td>\n",
       "    </tr>\n",
       "    <tr>\n",
       "      <th>1992</th>\n",
       "      <td>17,614.304533926268</td>\n",
       "      <td>306,083,205.0</td>\n",
       "      <td>57.71377777777778</td>\n",
       "      <td>2.8597777777777775</td>\n",
       "      <td>1,377.0111991352699</td>\n",
       "      <td>1,377,011.1991352697</td>\n",
       "    </tr>\n",
       "    <tr>\n",
       "      <th>1993</th>\n",
       "      <td>17,609.77337467314</td>\n",
       "      <td>310,600,879.4444444</td>\n",
       "      <td>58.03633333333333</td>\n",
       "      <td>2.7882777777777776</td>\n",
       "      <td>1,465.414697145402</td>\n",
       "      <td>1,465,414.697145402</td>\n",
       "    </tr>\n",
       "    <tr>\n",
       "      <th>1994</th>\n",
       "      <td>18,033.666255943648</td>\n",
       "      <td>315,117,504.6666667</td>\n",
       "      <td>58.359222222222215</td>\n",
       "      <td>2.734611111111111</td>\n",
       "      <td>1,598.0838210612492</td>\n",
       "      <td>1,598,083.821061249</td>\n",
       "    </tr>\n",
       "    <tr>\n",
       "      <th>1995</th>\n",
       "      <td>18,406.356585672118</td>\n",
       "      <td>319,614,237.2222222</td>\n",
       "      <td>58.698333333333345</td>\n",
       "      <td>2.667777777777778</td>\n",
       "      <td>1,757.4432555540452</td>\n",
       "      <td>1,757,443.2555540449</td>\n",
       "    </tr>\n",
       "    <tr>\n",
       "      <th>1996</th>\n",
       "      <td>18,865.593012154946</td>\n",
       "      <td>324,075,633.0</td>\n",
       "      <td>59.05588888888888</td>\n",
       "      <td>2.614</td>\n",
       "      <td>1,768.647553147797</td>\n",
       "      <td>1,768,647.553147797</td>\n",
       "    </tr>\n",
       "    <tr>\n",
       "      <th>1997</th>\n",
       "      <td>19,293.235726557745</td>\n",
       "      <td>328,551,075.6666667</td>\n",
       "      <td>59.41988888888889</td>\n",
       "      <td>2.5695555555555556</td>\n",
       "      <td>1,788.6121711759208</td>\n",
       "      <td>1,788,612.1711759209</td>\n",
       "    </tr>\n",
       "    <tr>\n",
       "      <th>1998</th>\n",
       "      <td>19,603.763245310573</td>\n",
       "      <td>332,962,293.0</td>\n",
       "      <td>59.784555555555556</td>\n",
       "      <td>2.5311111111111106</td>\n",
       "      <td>1,809.0465411420353</td>\n",
       "      <td>1,809,046.5411420357</td>\n",
       "    </tr>\n",
       "    <tr>\n",
       "      <th>1999</th>\n",
       "      <td>20,055.022231265568</td>\n",
       "      <td>337,245,148.4444444</td>\n",
       "      <td>60.148777777777774</td>\n",
       "      <td>2.502388888888889</td>\n",
       "      <td>1,915.7523543837754</td>\n",
       "      <td>1,915,752.3543837753</td>\n",
       "    </tr>\n",
       "    <tr>\n",
       "      <th>2000</th>\n",
       "      <td>20,720.956232057753</td>\n",
       "      <td>341,418,281.1111111</td>\n",
       "      <td>60.50633333333334</td>\n",
       "      <td>2.493666666666667</td>\n",
       "      <td>2,037.0142013009236</td>\n",
       "      <td>2,037,014.2013009237</td>\n",
       "    </tr>\n",
       "    <tr>\n",
       "      <th>2001</th>\n",
       "      <td>20,890.638069264074</td>\n",
       "      <td>345,492,576.5555556</td>\n",
       "      <td>61.00966666666667</td>\n",
       "      <td>2.462944444444444</td>\n",
       "      <td>2,019.0482410580153</td>\n",
       "      <td>2,019,048.2410580153</td>\n",
       "    </tr>\n",
       "    <tr>\n",
       "      <th>2002</th>\n",
       "      <td>21,037.15397606411</td>\n",
       "      <td>349,501,391.8888889</td>\n",
       "      <td>61.58422222222222</td>\n",
       "      <td>2.4402777777777778</td>\n",
       "      <td>2,062.537840073159</td>\n",
       "      <td>2,062,537.8400731587</td>\n",
       "    </tr>\n",
       "    <tr>\n",
       "      <th>2003</th>\n",
       "      <td>21,287.159804621468</td>\n",
       "      <td>353,438,047.0</td>\n",
       "      <td>62.15677777777777</td>\n",
       "      <td>2.4305</td>\n",
       "      <td>2,223.3741820741416</td>\n",
       "      <td>2,223,374.1820741417</td>\n",
       "    </tr>\n",
       "    <tr>\n",
       "      <th>2004</th>\n",
       "      <td>21,829.80500076869</td>\n",
       "      <td>357,326,551.6666667</td>\n",
       "      <td>62.730777777777774</td>\n",
       "      <td>2.415388888888889</td>\n",
       "      <td>2,430.953581525291</td>\n",
       "      <td>2,430,953.581525291</td>\n",
       "    </tr>\n",
       "    <tr>\n",
       "      <th>2005</th>\n",
       "      <td>22,334.859762346234</td>\n",
       "      <td>361,201,371.1111111</td>\n",
       "      <td>63.30466666666668</td>\n",
       "      <td>2.3994444444444443</td>\n",
       "      <td>2,604.6239479684646</td>\n",
       "      <td>2,604,623.947968465</td>\n",
       "    </tr>\n",
       "    <tr>\n",
       "      <th>2006</th>\n",
       "      <td>22,922.760236735554</td>\n",
       "      <td>365,055,870.3333333</td>\n",
       "      <td>63.84977777777778</td>\n",
       "      <td>2.4048888888888893</td>\n",
       "      <td>2,773.352321646725</td>\n",
       "      <td>2,773,352.3216467253</td>\n",
       "    </tr>\n",
       "    <tr>\n",
       "      <th>2007</th>\n",
       "      <td>23,293.87242681227</td>\n",
       "      <td>368,866,720.5555556</td>\n",
       "      <td>64.37788888888889</td>\n",
       "      <td>2.3962222222222227</td>\n",
       "      <td>3,025.592533073376</td>\n",
       "      <td>3,025,592.533073376</td>\n",
       "    </tr>\n",
       "    <tr>\n",
       "      <th>2008</th>\n",
       "      <td>23,219.725230933473</td>\n",
       "      <td>372,629,864.4444444</td>\n",
       "      <td>64.90088888888889</td>\n",
       "      <td>2.3973333333333335</td>\n",
       "      <td>3,286.9063731227734</td>\n",
       "      <td>3,286,906.373122773</td>\n",
       "    </tr>\n",
       "    <tr>\n",
       "      <th>2009</th>\n",
       "      <td>22,292.23835850076</td>\n",
       "      <td>376,282,314.3333333</td>\n",
       "      <td>65.41444444444444</td>\n",
       "      <td>2.368444444444444</td>\n",
       "      <td>3,320.3856774352735</td>\n",
       "      <td>3,320,385.6774352733</td>\n",
       "    </tr>\n",
       "    <tr>\n",
       "      <th>2010</th>\n",
       "      <td>22,835.791360592528</td>\n",
       "      <td>379,853,381.3333333</td>\n",
       "      <td>65.92033333333335</td>\n",
       "      <td>2.358777777777778</td>\n",
       "      <td>3,641.1260518915315</td>\n",
       "      <td>3,641,126.051891531</td>\n",
       "    </tr>\n",
       "    <tr>\n",
       "      <th>2011</th>\n",
       "      <td>23,058.496224548682</td>\n",
       "      <td>383,321,600.3333333</td>\n",
       "      <td>66.36133333333333</td>\n",
       "      <td>2.3318333333333334</td>\n",
       "      <td>3,995.425479797499</td>\n",
       "      <td>3,995,425.4797974997</td>\n",
       "    </tr>\n",
       "    <tr>\n",
       "      <th>2012</th>\n",
       "      <td>23,223.296093959543</td>\n",
       "      <td>386,763,761.8888889</td>\n",
       "      <td>66.78377777777777</td>\n",
       "      <td>2.320611111111111</td>\n",
       "      <td>4,152.17223106911</td>\n",
       "      <td>4,152,172.2310691094</td>\n",
       "    </tr>\n",
       "    <tr>\n",
       "      <th>2013</th>\n",
       "      <td>23,510.02621315651</td>\n",
       "      <td>390,162,322.3333333</td>\n",
       "      <td>67.20377777777777</td>\n",
       "      <td>2.298722222222222</td>\n",
       "      <td>4,227.065555826366</td>\n",
       "      <td>4,227,065.555826366</td>\n",
       "    </tr>\n",
       "    <tr>\n",
       "      <th>2014</th>\n",
       "      <td>23,875.135365554997</td>\n",
       "      <td>393,588,005.7777778</td>\n",
       "      <td>67.62233333333334</td>\n",
       "      <td>2.2942777777777774</td>\n",
       "      <td>4,399.71592331797</td>\n",
       "      <td>4,399,715.923317971</td>\n",
       "    </tr>\n",
       "    <tr>\n",
       "      <th>2015</th>\n",
       "      <td>24,273.397464162506</td>\n",
       "      <td>397,032,474.4444444</td>\n",
       "      <td>68.04244444444446</td>\n",
       "      <td>2.2849444444444442</td>\n",
       "      <td>4,390.492720104455</td>\n",
       "      <td>4,390,492.720104454</td>\n",
       "    </tr>\n",
       "    <tr>\n",
       "      <th>2016</th>\n",
       "      <td>24,580.469857834265</td>\n",
       "      <td>400,528,213.4444444</td>\n",
       "      <td>68.46355555555554</td>\n",
       "      <td>2.2633333333333336</td>\n",
       "      <td>4,535.327094640479</td>\n",
       "      <td>4,535,327.094640479</td>\n",
       "    </tr>\n",
       "    <tr>\n",
       "      <th>2017</th>\n",
       "      <td>25,065.089226257143</td>\n",
       "      <td>404,039,377.4444444</td>\n",
       "      <td>68.88566666666667</td>\n",
       "      <td>nan</td>\n",
       "      <td>4,800.736547469485</td>\n",
       "      <td>4,800,736.547469486</td>\n",
       "    </tr>\n",
       "  </tbody>\n",
       "</table>\n",
       "</div>"
      ],
      "text/plain": [
       "                  gdp_pC                 pop         urban_pop%  \\\n",
       "year                                                              \n",
       "1990  17,322.45185489642       296,754,760.0  57.05544444444445   \n",
       "1991 17,480.059862266076 301,483,292.6666667             57.391   \n",
       "1992 17,614.304533926268       306,083,205.0  57.71377777777778   \n",
       "1993  17,609.77337467314 310,600,879.4444444  58.03633333333333   \n",
       "1994 18,033.666255943648 315,117,504.6666667 58.359222222222215   \n",
       "1995 18,406.356585672118 319,614,237.2222222 58.698333333333345   \n",
       "1996 18,865.593012154946       324,075,633.0  59.05588888888888   \n",
       "1997 19,293.235726557745 328,551,075.6666667  59.41988888888889   \n",
       "1998 19,603.763245310573       332,962,293.0 59.784555555555556   \n",
       "1999 20,055.022231265568 337,245,148.4444444 60.148777777777774   \n",
       "2000 20,720.956232057753 341,418,281.1111111  60.50633333333334   \n",
       "2001 20,890.638069264074 345,492,576.5555556  61.00966666666667   \n",
       "2002  21,037.15397606411 349,501,391.8888889  61.58422222222222   \n",
       "2003 21,287.159804621468       353,438,047.0  62.15677777777777   \n",
       "2004  21,829.80500076869 357,326,551.6666667 62.730777777777774   \n",
       "2005 22,334.859762346234 361,201,371.1111111  63.30466666666668   \n",
       "2006 22,922.760236735554 365,055,870.3333333  63.84977777777778   \n",
       "2007  23,293.87242681227 368,866,720.5555556  64.37788888888889   \n",
       "2008 23,219.725230933473 372,629,864.4444444  64.90088888888889   \n",
       "2009  22,292.23835850076 376,282,314.3333333  65.41444444444444   \n",
       "2010 22,835.791360592528 379,853,381.3333333  65.92033333333335   \n",
       "2011 23,058.496224548682 383,321,600.3333333  66.36133333333333   \n",
       "2012 23,223.296093959543 386,763,761.8888889  66.78377777777777   \n",
       "2013  23,510.02621315651 390,162,322.3333333  67.20377777777777   \n",
       "2014 23,875.135365554997 393,588,005.7777778  67.62233333333334   \n",
       "2015 24,273.397464162506 397,032,474.4444444  68.04244444444446   \n",
       "2016 24,580.469857834265 400,528,213.4444444  68.46355555555554   \n",
       "2017 25,065.089226257143 404,039,377.4444444  68.88566666666667   \n",
       "\n",
       "                    frt          gdp_in_bil      gdp_in_millions  \n",
       "year                                                              \n",
       "1990  2.976555555555555 1,220.2763922451793 1,220,276.3922451795  \n",
       "1991 2.9156111111111107 1,308.7053863987721  1,308,705.386398772  \n",
       "1992 2.8597777777777775 1,377.0111991352699 1,377,011.1991352697  \n",
       "1993 2.7882777777777776  1,465.414697145402  1,465,414.697145402  \n",
       "1994  2.734611111111111 1,598.0838210612492  1,598,083.821061249  \n",
       "1995  2.667777777777778 1,757.4432555540452 1,757,443.2555540449  \n",
       "1996              2.614  1,768.647553147797  1,768,647.553147797  \n",
       "1997 2.5695555555555556 1,788.6121711759208 1,788,612.1711759209  \n",
       "1998 2.5311111111111106 1,809.0465411420353 1,809,046.5411420357  \n",
       "1999  2.502388888888889 1,915.7523543837754 1,915,752.3543837753  \n",
       "2000  2.493666666666667 2,037.0142013009236 2,037,014.2013009237  \n",
       "2001  2.462944444444444 2,019.0482410580153 2,019,048.2410580153  \n",
       "2002 2.4402777777777778  2,062.537840073159 2,062,537.8400731587  \n",
       "2003             2.4305 2,223.3741820741416 2,223,374.1820741417  \n",
       "2004  2.415388888888889  2,430.953581525291  2,430,953.581525291  \n",
       "2005 2.3994444444444443 2,604.6239479684646  2,604,623.947968465  \n",
       "2006 2.4048888888888893  2,773.352321646725 2,773,352.3216467253  \n",
       "2007 2.3962222222222227  3,025.592533073376  3,025,592.533073376  \n",
       "2008 2.3973333333333335 3,286.9063731227734  3,286,906.373122773  \n",
       "2009  2.368444444444444 3,320.3856774352735 3,320,385.6774352733  \n",
       "2010  2.358777777777778 3,641.1260518915315  3,641,126.051891531  \n",
       "2011 2.3318333333333334  3,995.425479797499 3,995,425.4797974997  \n",
       "2012  2.320611111111111   4,152.17223106911 4,152,172.2310691094  \n",
       "2013  2.298722222222222  4,227.065555826366  4,227,065.555826366  \n",
       "2014 2.2942777777777774   4,399.71592331797  4,399,715.923317971  \n",
       "2015 2.2849444444444442  4,390.492720104455  4,390,492.720104454  \n",
       "2016 2.2633333333333336  4,535.327094640479  4,535,327.094640479  \n",
       "2017                nan  4,800.736547469485  4,800,736.547469486  "
      ]
     },
     "execution_count": 19,
     "metadata": {},
     "output_type": "execute_result"
    }
   ],
   "source": [
    "#search for the nine missing values in frt\n",
    "data_wb.groupby('year').mean()"
   ]
  },
  {
   "cell_type": "code",
   "execution_count": 20,
   "metadata": {},
   "outputs": [
    {
     "data": {
      "text/html": [
       "<div>\n",
       "<style scoped>\n",
       "    .dataframe tbody tr th:only-of-type {\n",
       "        vertical-align: middle;\n",
       "    }\n",
       "\n",
       "    .dataframe tbody tr th {\n",
       "        vertical-align: top;\n",
       "    }\n",
       "\n",
       "    .dataframe thead th {\n",
       "        text-align: right;\n",
       "    }\n",
       "</style>\n",
       "<table border=\"1\" class=\"dataframe\">\n",
       "  <thead>\n",
       "    <tr style=\"text-align: right;\">\n",
       "      <th></th>\n",
       "      <th>country</th>\n",
       "      <th>year</th>\n",
       "      <th>gdp_pC</th>\n",
       "      <th>pop</th>\n",
       "      <th>urban_pop%</th>\n",
       "      <th>frt</th>\n",
       "      <th>gdp_in_bil</th>\n",
       "      <th>gdp_in_millions</th>\n",
       "    </tr>\n",
       "  </thead>\n",
       "  <tbody>\n",
       "    <tr>\n",
       "      <th>0</th>\n",
       "      <td>Brazil</td>\n",
       "      <td>2017</td>\n",
       "      <td>10,888.9823851831</td>\n",
       "      <td>209288278</td>\n",
       "      <td>86.309</td>\n",
       "      <td>nan</td>\n",
       "      <td>2,055.50550222473</td>\n",
       "      <td>2,055,505.50222473</td>\n",
       "    </tr>\n",
       "    <tr>\n",
       "      <th>28</th>\n",
       "      <td>China</td>\n",
       "      <td>2017</td>\n",
       "      <td>7,329.08929913216</td>\n",
       "      <td>1386395000</td>\n",
       "      <td>57.96</td>\n",
       "      <td>nan</td>\n",
       "      <td>12,237.700479375</td>\n",
       "      <td>12,237,700.479375</td>\n",
       "    </tr>\n",
       "    <tr>\n",
       "      <th>56</th>\n",
       "      <td>Denmark</td>\n",
       "      <td>2017</td>\n",
       "      <td>61,582.166068968</td>\n",
       "      <td>5769603</td>\n",
       "      <td>87.757</td>\n",
       "      <td>nan</td>\n",
       "      <td>324.871968807469</td>\n",
       "      <td>324,871.968807469</td>\n",
       "    </tr>\n",
       "    <tr>\n",
       "      <th>84</th>\n",
       "      <td>Spain</td>\n",
       "      <td>2017</td>\n",
       "      <td>32,405.7508143881</td>\n",
       "      <td>46572028</td>\n",
       "      <td>80.08</td>\n",
       "      <td>nan</td>\n",
       "      <td>1,311.32001551599</td>\n",
       "      <td>1,311,320.01551599</td>\n",
       "    </tr>\n",
       "    <tr>\n",
       "      <th>112</th>\n",
       "      <td>India</td>\n",
       "      <td>2017</td>\n",
       "      <td>1,964.59518318563</td>\n",
       "      <td>1339180127</td>\n",
       "      <td>33.6</td>\n",
       "      <td>nan</td>\n",
       "      <td>2,600.81824355965</td>\n",
       "      <td>2,600,818.2435596497</td>\n",
       "    </tr>\n",
       "    <tr>\n",
       "      <th>140</th>\n",
       "      <td>Japan</td>\n",
       "      <td>2017</td>\n",
       "      <td>48,556.9272446078</td>\n",
       "      <td>126785797</td>\n",
       "      <td>91.535</td>\n",
       "      <td>nan</td>\n",
       "      <td>4,872.13694550759</td>\n",
       "      <td>4,872,136.94550759</td>\n",
       "    </tr>\n",
       "    <tr>\n",
       "      <th>168</th>\n",
       "      <td>Nigeria</td>\n",
       "      <td>2017</td>\n",
       "      <td>2,412.20283480133</td>\n",
       "      <td>190886311</td>\n",
       "      <td>49.519</td>\n",
       "      <td>nan</td>\n",
       "      <td>375.745486520656</td>\n",
       "      <td>375,745.486520656</td>\n",
       "    </tr>\n",
       "    <tr>\n",
       "      <th>196</th>\n",
       "      <td>Turkmenistan</td>\n",
       "      <td>2017</td>\n",
       "      <td>7,317.54950612294</td>\n",
       "      <td>5758075</td>\n",
       "      <td>51.153</td>\n",
       "      <td>nan</td>\n",
       "      <td>37.9262857142857</td>\n",
       "      <td>37,926.285714285696</td>\n",
       "    </tr>\n",
       "  </tbody>\n",
       "</table>\n",
       "</div>"
      ],
      "text/plain": [
       "          country  year            gdp_pC         pop  urban_pop%  frt  \\\n",
       "0          Brazil  2017 10,888.9823851831   209288278      86.309  nan   \n",
       "28          China  2017 7,329.08929913216  1386395000       57.96  nan   \n",
       "56        Denmark  2017  61,582.166068968     5769603      87.757  nan   \n",
       "84          Spain  2017 32,405.7508143881    46572028       80.08  nan   \n",
       "112         India  2017 1,964.59518318563  1339180127        33.6  nan   \n",
       "140         Japan  2017 48,556.9272446078   126785797      91.535  nan   \n",
       "168       Nigeria  2017 2,412.20283480133   190886311      49.519  nan   \n",
       "196  Turkmenistan  2017 7,317.54950612294     5758075      51.153  nan   \n",
       "\n",
       "           gdp_in_bil      gdp_in_millions  \n",
       "0   2,055.50550222473   2,055,505.50222473  \n",
       "28   12,237.700479375    12,237,700.479375  \n",
       "56   324.871968807469    324,871.968807469  \n",
       "84  1,311.32001551599   1,311,320.01551599  \n",
       "112 2,600.81824355965 2,600,818.2435596497  \n",
       "140 4,872.13694550759   4,872,136.94550759  \n",
       "168  375.745486520656    375,745.486520656  \n",
       "196  37.9262857142857  37,926.285714285696  "
      ]
     },
     "execution_count": 20,
     "metadata": {},
     "output_type": "execute_result"
    }
   ],
   "source": [
    "#show frt only for 2017\n",
    "data_wb.loc[data_wb['year'] == \"2017\", :].head(-1)"
   ]
  },
  {
   "cell_type": "code",
   "execution_count": 21,
   "metadata": {},
   "outputs": [],
   "source": [
    "# drop the year for which the data is missing \n",
    "I = data_wb['year'] == \"2017\"\n",
    "data_wb.drop(data_wb[I].index, inplace = True)\n",
    "# => data cleaning done"
   ]
  },
  {
   "cell_type": "code",
   "execution_count": 22,
   "metadata": {},
   "outputs": [
    {
     "data": {
      "text/html": [
       "<div>\n",
       "<style scoped>\n",
       "    .dataframe tbody tr th:only-of-type {\n",
       "        vertical-align: middle;\n",
       "    }\n",
       "\n",
       "    .dataframe tbody tr th {\n",
       "        vertical-align: top;\n",
       "    }\n",
       "\n",
       "    .dataframe thead th {\n",
       "        text-align: right;\n",
       "    }\n",
       "</style>\n",
       "<table border=\"1\" class=\"dataframe\">\n",
       "  <thead>\n",
       "    <tr style=\"text-align: right;\">\n",
       "      <th></th>\n",
       "      <th>gdp_pC</th>\n",
       "      <th>pop</th>\n",
       "      <th>urban_pop%</th>\n",
       "      <th>frt</th>\n",
       "      <th>gdp_in_bil</th>\n",
       "      <th>gdp_in_millions</th>\n",
       "    </tr>\n",
       "  </thead>\n",
       "  <tbody>\n",
       "    <tr>\n",
       "      <th>count</th>\n",
       "      <td>243.0</td>\n",
       "      <td>243.0</td>\n",
       "      <td>243.0</td>\n",
       "      <td>243.0</td>\n",
       "      <td>243.0</td>\n",
       "      <td>243.0</td>\n",
       "    </tr>\n",
       "    <tr>\n",
       "      <th>mean</th>\n",
       "      <td>21,091.48179113258</td>\n",
       "      <td>351,664,843.61728394</td>\n",
       "      <td>62.44060082304523</td>\n",
       "      <td>2.500788065843621</td>\n",
       "      <td>2,634.596567678332</td>\n",
       "      <td>2,634,596.567678333</td>\n",
       "    </tr>\n",
       "    <tr>\n",
       "      <th>std</th>\n",
       "      <td>20,765.76027926693</td>\n",
       "      <td>461,984,890.14733166</td>\n",
       "      <td>22.364281465961735</td>\n",
       "      <td>1.429511972921093</td>\n",
       "      <td>4,039.983839633184</td>\n",
       "      <td>4,039,983.839633183</td>\n",
       "    </tr>\n",
       "    <tr>\n",
       "      <th>min</th>\n",
       "      <td>530.894738000648</td>\n",
       "      <td>3,683,966.0</td>\n",
       "      <td>25.547</td>\n",
       "      <td>1.13</td>\n",
       "      <td>2.37875997544506</td>\n",
       "      <td>2,378.75997544506</td>\n",
       "    </tr>\n",
       "    <tr>\n",
       "      <th>25%</th>\n",
       "      <td>2,068.4600920008497</td>\n",
       "      <td>39,973,620.5</td>\n",
       "      <td>42.111999999999995</td>\n",
       "      <td>1.5470000000000002</td>\n",
       "      <td>271.0363222625155</td>\n",
       "      <td>271,036.3222625155</td>\n",
       "    </tr>\n",
       "    <tr>\n",
       "      <th>50%</th>\n",
       "      <td>8,924.89696137144</td>\n",
       "      <td>131,972,533.0</td>\n",
       "      <td>76.097</td>\n",
       "      <td>1.926</td>\n",
       "      <td>655.420645476906</td>\n",
       "      <td>655,420.645476906</td>\n",
       "    </tr>\n",
       "    <tr>\n",
       "      <th>75%</th>\n",
       "      <td>42,214.99489958621</td>\n",
       "      <td>308,054,975.0</td>\n",
       "      <td>81.391</td>\n",
       "      <td>2.8605</td>\n",
       "      <td>3,746.61477028235</td>\n",
       "      <td>3,746,614.7702823495</td>\n",
       "    </tr>\n",
       "    <tr>\n",
       "      <th>max</th>\n",
       "      <td>61,174.5451464235</td>\n",
       "      <td>1,378,665,000.0</td>\n",
       "      <td>91.457</td>\n",
       "      <td>6.49</td>\n",
       "      <td>18,624.475</td>\n",
       "      <td>18,624,475.0</td>\n",
       "    </tr>\n",
       "  </tbody>\n",
       "</table>\n",
       "</div>"
      ],
      "text/plain": [
       "                   gdp_pC                  pop         urban_pop%  \\\n",
       "count               243.0                243.0              243.0   \n",
       "mean   21,091.48179113258 351,664,843.61728394  62.44060082304523   \n",
       "std    20,765.76027926693 461,984,890.14733166 22.364281465961735   \n",
       "min      530.894738000648          3,683,966.0             25.547   \n",
       "25%   2,068.4600920008497         39,973,620.5 42.111999999999995   \n",
       "50%     8,924.89696137144        131,972,533.0             76.097   \n",
       "75%    42,214.99489958621        308,054,975.0             81.391   \n",
       "max     61,174.5451464235      1,378,665,000.0             91.457   \n",
       "\n",
       "                     frt         gdp_in_bil      gdp_in_millions  \n",
       "count              243.0              243.0                243.0  \n",
       "mean   2.500788065843621 2,634.596567678332  2,634,596.567678333  \n",
       "std    1.429511972921093 4,039.983839633184  4,039,983.839633183  \n",
       "min                 1.13   2.37875997544506    2,378.75997544506  \n",
       "25%   1.5470000000000002  271.0363222625155   271,036.3222625155  \n",
       "50%                1.926   655.420645476906    655,420.645476906  \n",
       "75%               2.8605  3,746.61477028235 3,746,614.7702823495  \n",
       "max                 6.49         18,624.475         18,624,475.0  "
      ]
     },
     "execution_count": 22,
     "metadata": {},
     "output_type": "execute_result"
    }
   ],
   "source": [
    "#summary statistics\n",
    "data_wb.describe()"
   ]
  },
  {
   "cell_type": "code",
   "execution_count": 23,
   "metadata": {},
   "outputs": [
    {
     "data": {
      "text/plain": [
       "(243, 8)"
      ]
     },
     "execution_count": 23,
     "metadata": {},
     "output_type": "execute_result"
    }
   ],
   "source": [
    "data_wb.shape"
   ]
  },
  {
   "cell_type": "code",
   "execution_count": 24,
   "metadata": {},
   "outputs": [
    {
     "data": {
      "text/plain": [
       "country            243\n",
       "year               243\n",
       "gdp_pC             243\n",
       "pop                243\n",
       "urban_pop%         243\n",
       "frt                243\n",
       "gdp_in_bil         243\n",
       "gdp_in_millions    243\n",
       "dtype: int64"
      ]
     },
     "execution_count": 24,
     "metadata": {},
     "output_type": "execute_result"
    }
   ],
   "source": [
    "data_wb.count()\n",
    "#=>data cleaning finished"
   ]
  },
  {
   "cell_type": "code",
   "execution_count": 25,
   "metadata": {},
   "outputs": [],
   "source": [
    "# make some cool groupby things see lecture basic_data\n",
    "##empl.groupby('municipality')['e'].mean().head(10)\n",
    "##empl.groupby('year')['e'].mean().plot\n",
    "# demean to compare it better\n",
    "##stocks2.groupby('firm')['close_demeaned'].plot(legend=True); \n",
    "##plt.title('Stock price: deviation from time-average'); \n",
    "# perform summary statistics\n",
    "## nameofdataset.describe()\n",
    "# maybe create an interactive table for each country\n",
    "##see load_save_and_structure_data\n",
    "#correlation table?\n",
    "# maybe perform a simple regression\n",
    "# world maps as diagramm"
   ]
  },
  {
   "cell_type": "markdown",
   "metadata": {},
   "source": [
    "Fertility rate//\n",
    "Group B//\n",
    "Change the number"
   ]
  },
  {
   "cell_type": "code",
   "execution_count": 26,
   "metadata": {},
   "outputs": [
    {
     "data": {
      "text/html": [
       "<div>\n",
       "<style scoped>\n",
       "    .dataframe tbody tr th:only-of-type {\n",
       "        vertical-align: middle;\n",
       "    }\n",
       "\n",
       "    .dataframe tbody tr th {\n",
       "        vertical-align: top;\n",
       "    }\n",
       "\n",
       "    .dataframe thead th {\n",
       "        text-align: right;\n",
       "    }\n",
       "</style>\n",
       "<table border=\"1\" class=\"dataframe\">\n",
       "  <thead>\n",
       "    <tr style=\"text-align: right;\">\n",
       "      <th></th>\n",
       "      <th>gdp_pC</th>\n",
       "      <th>pop</th>\n",
       "      <th>urban_pop%</th>\n",
       "      <th>frt</th>\n",
       "      <th>gdp_in_bil</th>\n",
       "      <th>gdp_in_millions</th>\n",
       "    </tr>\n",
       "    <tr>\n",
       "      <th>country</th>\n",
       "      <th></th>\n",
       "      <th></th>\n",
       "      <th></th>\n",
       "      <th></th>\n",
       "      <th></th>\n",
       "      <th></th>\n",
       "    </tr>\n",
       "  </thead>\n",
       "  <tbody>\n",
       "    <tr>\n",
       "      <th>Brazil</th>\n",
       "      <td>9,595.04</td>\n",
       "      <td>180,812,509.93</td>\n",
       "      <td>81.31</td>\n",
       "      <td>2.18</td>\n",
       "      <td>1,183.42</td>\n",
       "      <td>1,183,415.63</td>\n",
       "    </tr>\n",
       "    <tr>\n",
       "      <th>China</th>\n",
       "      <td>2,945.46</td>\n",
       "      <td>1,276,308,703.7</td>\n",
       "      <td>40.55</td>\n",
       "      <td>1.65</td>\n",
       "      <td>3,606.57</td>\n",
       "      <td>3,606,573.56</td>\n",
       "    </tr>\n",
       "    <tr>\n",
       "      <th>Denmark</th>\n",
       "      <td>54,864.22</td>\n",
       "      <td>5,401,958.63</td>\n",
       "      <td>85.86</td>\n",
       "      <td>1.76</td>\n",
       "      <td>238.79</td>\n",
       "      <td>238,786.51</td>\n",
       "    </tr>\n",
       "    <tr>\n",
       "      <th>India</th>\n",
       "      <td>994.89</td>\n",
       "      <td>1,104,088,507.19</td>\n",
       "      <td>28.89</td>\n",
       "      <td>3.11</td>\n",
       "      <td>935.46</td>\n",
       "      <td>935,458.79</td>\n",
       "    </tr>\n",
       "    <tr>\n",
       "      <th>Japan</th>\n",
       "      <td>42,941.81</td>\n",
       "      <td>126,685,574.48</td>\n",
       "      <td>83.94</td>\n",
       "      <td>1.4</td>\n",
       "      <td>4,715.85</td>\n",
       "      <td>4,715,846.81</td>\n",
       "    </tr>\n",
       "    <tr>\n",
       "      <th>Nigeria</th>\n",
       "      <td>1,820.09</td>\n",
       "      <td>135,188,798.89</td>\n",
       "      <td>38.11</td>\n",
       "      <td>6.03</td>\n",
       "      <td>203.29</td>\n",
       "      <td>203,289.55</td>\n",
       "    </tr>\n",
       "    <tr>\n",
       "      <th>Spain</th>\n",
       "      <td>28,067.42</td>\n",
       "      <td>42,809,614.85</td>\n",
       "      <td>77.17</td>\n",
       "      <td>1.28</td>\n",
       "      <td>972.34</td>\n",
       "      <td>972,343.34</td>\n",
       "    </tr>\n",
       "    <tr>\n",
       "      <th>Turkmenistan</th>\n",
       "      <td>3,568.09</td>\n",
       "      <td>4,675,784.89</td>\n",
       "      <td>46.95</td>\n",
       "      <td>3.1</td>\n",
       "      <td>13.47</td>\n",
       "      <td>13,465.1</td>\n",
       "    </tr>\n",
       "    <tr>\n",
       "      <th>United States</th>\n",
       "      <td>45,026.29</td>\n",
       "      <td>289,012,140.0</td>\n",
       "      <td>79.19</td>\n",
       "      <td>1.99</td>\n",
       "      <td>11,842.19</td>\n",
       "      <td>11,842,189.81</td>\n",
       "    </tr>\n",
       "  </tbody>\n",
       "</table>\n",
       "</div>"
      ],
      "text/plain": [
       "                 gdp_pC              pop  urban_pop%  frt  gdp_in_bil  \\\n",
       "country                                                                 \n",
       "Brazil         9,595.04   180,812,509.93       81.31 2.18    1,183.42   \n",
       "China          2,945.46  1,276,308,703.7       40.55 1.65    3,606.57   \n",
       "Denmark       54,864.22     5,401,958.63       85.86 1.76      238.79   \n",
       "India            994.89 1,104,088,507.19       28.89 3.11      935.46   \n",
       "Japan         42,941.81   126,685,574.48       83.94  1.4    4,715.85   \n",
       "Nigeria        1,820.09   135,188,798.89       38.11 6.03      203.29   \n",
       "Spain         28,067.42    42,809,614.85       77.17 1.28      972.34   \n",
       "Turkmenistan   3,568.09     4,675,784.89       46.95  3.1       13.47   \n",
       "United States 45,026.29    289,012,140.0       79.19 1.99   11,842.19   \n",
       "\n",
       "               gdp_in_millions  \n",
       "country                         \n",
       "Brazil            1,183,415.63  \n",
       "China             3,606,573.56  \n",
       "Denmark             238,786.51  \n",
       "India               935,458.79  \n",
       "Japan             4,715,846.81  \n",
       "Nigeria             203,289.55  \n",
       "Spain               972,343.34  \n",
       "Turkmenistan          13,465.1  \n",
       "United States    11,842,189.81  "
      ]
     },
     "execution_count": 26,
     "metadata": {},
     "output_type": "execute_result"
    }
   ],
   "source": [
    "#Marie: groupby country\n",
    "round(data_wb.groupby('country').mean(),2)\n",
    "\n",
    "##overview shows countries with a high gdp per capita have a low fertility rate. countries with a high gdp per capita have a huge \n",
    "##share of urban population"
   ]
  },
  {
   "cell_type": "code",
   "execution_count": 27,
   "metadata": {},
   "outputs": [],
   "source": [
    "#Tonje \n",
    "import matplotlib.pyplot as plt\n",
    "%matplotlib inline \n",
    "from ipywidgets import interact, interactive, fixed, interact_manual \n",
    "import ipywidgets as widgets \n"
   ]
  },
  {
   "cell_type": "code",
   "execution_count": 28,
   "metadata": {},
   "outputs": [
    {
     "data": {
      "text/plain": [
       "Int64Index([  1,   2,   3,   4,   5,   6,   7,   8,   9,  10,\n",
       "            ...\n",
       "            242, 243, 244, 245, 246, 247, 248, 249, 250, 251],\n",
       "           dtype='int64', length=243)"
      ]
     },
     "execution_count": 28,
     "metadata": {},
     "output_type": "execute_result"
    }
   ],
   "source": [
    "#Marie\n",
    "#index find out\n",
    "data_wb.index"
   ]
  },
  {
   "cell_type": "code",
   "execution_count": 29,
   "metadata": {},
   "outputs": [],
   "source": [
    "#Tonje \n",
    "country=data_wb[\"country\"]\n",
    "year=data_wb[\"year\"]\n",
    "gdp_pC=data_wb[\"gdp_pC\"]\n"
   ]
  },
  {
   "cell_type": "code",
   "execution_count": 30,
   "metadata": {},
   "outputs": [],
   "source": [
    "#Tonje \n",
    "def interactive_figure(country, data_wb):\n",
    "    \"\"\"define an interactive figure that uses countries and the dataframe as inputs \"\"\"\n",
    "    \n",
    "    data_country = data_wb[data_wb.country == country]\n",
    "    year = data_country.year\n",
    "    gdp_pC = data_country.gdp_pC\n",
    "    fig = plt.figure(dpi=100)\n",
    "    ax = fig.add_subplot(1,1,1)\n",
    "    ax.plot(year, gdp_pC)\n",
    "    ax.set_xlabel(\"Years\")\n",
    "    ax.set_ylabel(\"GDP per Capita\")\n",
    "    plt.xticks(rotation=90)\n",
    "    plt.gca().invert_xaxis()\n",
    "\n"
   ]
  },
  {
   "cell_type": "code",
   "execution_count": 31,
   "metadata": {
    "scrolled": false
   },
   "outputs": [
    {
     "data": {
      "image/png": "[encoded data removed]",
      "text/plain": [
       "<Figure size 600x400 with 1 Axes>"
      ]
     },
     "metadata": {
      "needs_background": "light"
     },
     "output_type": "display_data"
    },
    {
     "data": {
      "image/png": "[encoded data removed]",
      "text/plain": [
       "<Figure size 600x400 with 1 Axes>"
      ]
     },
     "metadata": {
      "needs_background": "light"
     },
     "output_type": "display_data"
    }
   ],
   "source": [
    "#Tonje\n",
    "#Just to check that it works for different inputs \n",
    "interactive_figure('Denmark',data_wb)\n",
    "interactive_figure('Brazil',data_wb)\n",
    "\n"
   ]
  },
  {
   "cell_type": "code",
   "execution_count": 32,
   "metadata": {},
   "outputs": [
    {
     "data": {
      "application/vnd.jupyter.widget-view+json": {
       "model_id": "8235365002ff45e69dbdc38bb0720a5f",
       "version_major": 2,
       "version_minor": 0
      },
      "text/plain": [
       "interactive(children=(Dropdown(description='Country', options=('Brazil', 'China', 'Denmark', 'Spain', 'India',…"
      ]
     },
     "metadata": {},
     "output_type": "display_data"
    }
   ],
   "source": [
    "#Tonje\n",
    "widgets.interact(interactive_figure,\n",
    "    year = widgets.fixed(year),\n",
    "    data_wb = widgets.fixed(data_wb),\n",
    "    country=widgets.Dropdown(description=\"Country\", options=data_wb.country.unique()),\n",
    "    gdp_pC=widgets.fixed(gdp_pC)\n",
    ");"
   ]
  },
  {
   "cell_type": "code",
   "execution_count": 33,
   "metadata": {},
   "outputs": [
    {
     "data": {
      "image/png": "[encoded data removed]",
      "text/plain": [
       "<Figure size 432x288 with 1 Axes>"
      ]
     },
     "metadata": {
      "needs_background": "light"
     },
     "output_type": "display_data"
    }
   ],
   "source": [
    "#Tonje: TRY\n",
    "#Average GDP per capita?\n",
    "ax = data_wb.groupby(\"country\")['gdp_pC'].mean().plot(kind='line', style='-o'); \n",
    "ax.set_ylabel('Avg. GDP per capita'); "
   ]
  },
  {
   "cell_type": "code",
   "execution_count": 34,
   "metadata": {},
   "outputs": [
    {
     "data": {
      "image/png": "[encoded data removed]",
      "text/plain": [
       "<Figure size 432x288 with 1 Axes>"
      ]
     },
     "metadata": {
      "needs_background": "light"
     },
     "output_type": "display_data"
    }
   ],
   "source": [
    "#Tonje: TRY\n",
    "X=data_wb.country\n",
    "Y=data_wb.groupby(\"country\")['gdp_pC'].mean().plot(kind='line', style='-o'); "
   ]
  },
  {
   "cell_type": "code",
   "execution_count": 35,
   "metadata": {},
   "outputs": [
    {
     "data": {
      "text/plain": [
       "Text(0, 0.5, 'Avg. annual fertility rate')"
      ]
     },
     "execution_count": 35,
     "metadata": {},
     "output_type": "execute_result"
    },
    {
     "data": {
      "image/png": "[encoded data removed]",
      "text/plain": [
       "<Figure size 432x288 with 1 Axes>"
      ]
     },
     "metadata": {
      "needs_background": "light"
     },
     "output_type": "display_data"
    }
   ],
   "source": [
    "#reinnehmen Marie\n",
    "ax = data_wb.groupby('country').frt.mean().plot(kind='bar')\n",
    "ax.set_ylabel('Avg. annual fertility rate')"
   ]
  },
  {
   "cell_type": "code",
   "execution_count": 36,
   "metadata": {},
   "outputs": [
    {
     "data": {
      "image/png": "[encoded data removed]",
      "text/plain": [
       "<Figure size 432x288 with 1 Axes>"
      ]
     },
     "metadata": {
      "needs_background": "light"
     },
     "output_type": "display_data"
    }
   ],
   "source": [
    "#reinnehmen Marie\n",
    "def annual_growth(x): \n",
    "    x_last    = x.values[-1]\n",
    "    x_first   = x.values[0]\n",
    "    num_years = len(x)\n",
    "    \n",
    "    growth_annualized = (x_last/x_first)**(1/num_years) - 1.0\n",
    "    return growth_annualized\n",
    "\n",
    "ax = data_wb.groupby('country')['frt'].agg(annual_growth).plot(kind='bar')\n",
    "ax.set_ylabel('Annual growth (fertility rate) from first to last year'); "
   ]
  },
  {
   "cell_type": "code",
   "execution_count": 37,
   "metadata": {},
   "outputs": [],
   "source": [
    "# Bianca\n",
    "# try folium circle\n",
    "# Python God: https://www.kaggle.com/rachan/how-to-folium-for-maps-heatmaps-time-analysis\n",
    "#https://blog.prototypr.io/interactive-maps-with-python-part-1-aa1563dbe5a9\n",
    "\n",
    "import folium"
   ]
  },
  {
   "cell_type": "code",
   "execution_count": 38,
   "metadata": {},
   "outputs": [
    {
     "data": {
      "text/html": [
       "<div>\n",
       "<style scoped>\n",
       "    .dataframe tbody tr th:only-of-type {\n",
       "        vertical-align: middle;\n",
       "    }\n",
       "\n",
       "    .dataframe tbody tr th {\n",
       "        vertical-align: top;\n",
       "    }\n",
       "\n",
       "    .dataframe thead th {\n",
       "        text-align: right;\n",
       "    }\n",
       "</style>\n",
       "<table border=\"1\" class=\"dataframe\">\n",
       "  <thead>\n",
       "    <tr style=\"text-align: right;\">\n",
       "      <th></th>\n",
       "      <th>gdp_pC</th>\n",
       "      <th>pop</th>\n",
       "      <th>urban_pop%</th>\n",
       "      <th>frt</th>\n",
       "      <th>gdp_in_bil</th>\n",
       "      <th>gdp_in_millions</th>\n",
       "    </tr>\n",
       "    <tr>\n",
       "      <th>country</th>\n",
       "      <th></th>\n",
       "      <th></th>\n",
       "      <th></th>\n",
       "      <th></th>\n",
       "      <th></th>\n",
       "      <th></th>\n",
       "    </tr>\n",
       "  </thead>\n",
       "  <tbody>\n",
       "    <tr>\n",
       "      <th>Brazil</th>\n",
       "      <td>9,595.044474040149</td>\n",
       "      <td>180,812,509.92592594</td>\n",
       "      <td>81.30911111111111</td>\n",
       "      <td>2.179925925925926</td>\n",
       "      <td>1,183.4156320703592</td>\n",
       "      <td>1,183,415.6320703593</td>\n",
       "    </tr>\n",
       "    <tr>\n",
       "      <th>China</th>\n",
       "      <td>2,945.4643286685964</td>\n",
       "      <td>1,276,308,703.7037036</td>\n",
       "      <td>40.55207407407407</td>\n",
       "      <td>1.6533703703703704</td>\n",
       "      <td>3,606.573560972753</td>\n",
       "      <td>3,606,573.560972753</td>\n",
       "    </tr>\n",
       "    <tr>\n",
       "      <th>Denmark</th>\n",
       "      <td>54,864.22462146124</td>\n",
       "      <td>5,401,958.62962963</td>\n",
       "      <td>85.86040740740742</td>\n",
       "      <td>1.7607407407407407</td>\n",
       "      <td>238.78650975806516</td>\n",
       "      <td>238,786.5097580652</td>\n",
       "    </tr>\n",
       "    <tr>\n",
       "      <th>India</th>\n",
       "      <td>994.891572655445</td>\n",
       "      <td>1,104,088,507.1851852</td>\n",
       "      <td>28.891740740740747</td>\n",
       "      <td>3.113185185185185</td>\n",
       "      <td>935.4587895314128</td>\n",
       "      <td>935,458.7895314127</td>\n",
       "    </tr>\n",
       "    <tr>\n",
       "      <th>Japan</th>\n",
       "      <td>42,941.81097519505</td>\n",
       "      <td>126,685,574.48148148</td>\n",
       "      <td>83.9354074074074</td>\n",
       "      <td>1.3951851851851853</td>\n",
       "      <td>4,715.8468104487365</td>\n",
       "      <td>4,715,846.810448736</td>\n",
       "    </tr>\n",
       "    <tr>\n",
       "      <th>Nigeria</th>\n",
       "      <td>1,820.0941732234444</td>\n",
       "      <td>135,188,798.8888889</td>\n",
       "      <td>38.11422222222223</td>\n",
       "      <td>6.028370370370372</td>\n",
       "      <td>203.28955441223545</td>\n",
       "      <td>203,289.55441223548</td>\n",
       "    </tr>\n",
       "    <tr>\n",
       "      <th>Spain</th>\n",
       "      <td>28,067.420728963334</td>\n",
       "      <td>42,809,614.85185185</td>\n",
       "      <td>77.1717037037037</td>\n",
       "      <td>1.2848148148148146</td>\n",
       "      <td>972.3433364964282</td>\n",
       "      <td>972,343.3364964281</td>\n",
       "    </tr>\n",
       "    <tr>\n",
       "      <th>Turkmenistan</th>\n",
       "      <td>3,568.0943748309674</td>\n",
       "      <td>4,675,784.888888889</td>\n",
       "      <td>46.94514814814815</td>\n",
       "      <td>3.099777777777777</td>\n",
       "      <td>13.465100600194567</td>\n",
       "      <td>13,465.100600194568</td>\n",
       "    </tr>\n",
       "    <tr>\n",
       "      <th>United States</th>\n",
       "      <td>45,026.29087115506</td>\n",
       "      <td>289,012,140.0</td>\n",
       "      <td>79.18559259259261</td>\n",
       "      <td>1.9917222222222226</td>\n",
       "      <td>11,842.189814814818</td>\n",
       "      <td>11,842,189.814814815</td>\n",
       "    </tr>\n",
       "  </tbody>\n",
       "</table>\n",
       "</div>"
      ],
      "text/plain": [
       "                           gdp_pC                   pop         urban_pop%  \\\n",
       "country                                                                      \n",
       "Brazil         9,595.044474040149  180,812,509.92592594  81.30911111111111   \n",
       "China         2,945.4643286685964 1,276,308,703.7037036  40.55207407407407   \n",
       "Denmark        54,864.22462146124    5,401,958.62962963  85.86040740740742   \n",
       "India            994.891572655445 1,104,088,507.1851852 28.891740740740747   \n",
       "Japan          42,941.81097519505  126,685,574.48148148   83.9354074074074   \n",
       "Nigeria       1,820.0941732234444   135,188,798.8888889  38.11422222222223   \n",
       "Spain         28,067.420728963334   42,809,614.85185185   77.1717037037037   \n",
       "Turkmenistan  3,568.0943748309674   4,675,784.888888889  46.94514814814815   \n",
       "United States  45,026.29087115506         289,012,140.0  79.18559259259261   \n",
       "\n",
       "                             frt          gdp_in_bil      gdp_in_millions  \n",
       "country                                                                    \n",
       "Brazil         2.179925925925926 1,183.4156320703592 1,183,415.6320703593  \n",
       "China         1.6533703703703704  3,606.573560972753  3,606,573.560972753  \n",
       "Denmark       1.7607407407407407  238.78650975806516   238,786.5097580652  \n",
       "India          3.113185185185185   935.4587895314128   935,458.7895314127  \n",
       "Japan         1.3951851851851853 4,715.8468104487365  4,715,846.810448736  \n",
       "Nigeria        6.028370370370372  203.28955441223545  203,289.55441223548  \n",
       "Spain         1.2848148148148146   972.3433364964282   972,343.3364964281  \n",
       "Turkmenistan   3.099777777777777  13.465100600194567  13,465.100600194568  \n",
       "United States 1.9917222222222226 11,842.189814814818 11,842,189.814814815  "
      ]
     },
     "execution_count": 38,
     "metadata": {},
     "output_type": "execute_result"
    }
   ],
   "source": [
    "#Bianca\n",
    "data_wb.groupby('country').mean()"
   ]
  },
  {
   "cell_type": "code",
   "execution_count": 39,
   "metadata": {},
   "outputs": [],
   "source": [
    "#Bianca\n",
    "row_indexes=data_wb[data_wb['country']== 'Brazil'].index\n",
    "data_wb.loc[row_indexes,'Lat']= -14.2350\n",
    "data_wb.loc[row_indexes,'Lon']= -51.9253\n",
    "\n",
    "row_indexes=data_wb[data_wb['country']== 'China'].index\n",
    "data_wb.loc[row_indexes,'Lat']= 33.5449\n",
    "data_wb.loc[row_indexes,'Lon']= 103.149\n",
    "\n",
    "row_indexes=data_wb[data_wb['country']== 'Denmark'].index\n",
    "data_wb.loc[row_indexes,'Lat']= 56.2639\n",
    "data_wb.loc[row_indexes,'Lon']= 9.5018\n",
    "\n",
    "row_indexes=data_wb[data_wb['country']== 'Spain'].index\n",
    "data_wb.loc[row_indexes,'Lat']= 40.4637\n",
    "data_wb.loc[row_indexes,'Lon']= -3.7492\n",
    "\n",
    "row_indexes=data_wb[data_wb['country']== 'India'].index\n",
    "data_wb.loc[row_indexes,'Lat']= 20.5937\n",
    "data_wb.loc[row_indexes,'Lon']= 78.9629\n",
    "\n",
    "row_indexes=data_wb[data_wb['country']== 'Japan'].index\n",
    "data_wb.loc[row_indexes,'Lat']= 36.2048\n",
    "data_wb.loc[row_indexes,'Lon']= 138.2529\n",
    "\n",
    "row_indexes=data_wb[data_wb['country']== 'Nigeria'].index\n",
    "data_wb.loc[row_indexes,'Lat']= 9.0820\n",
    "data_wb.loc[row_indexes,'Lon']= 8.6753\n",
    "\n",
    "row_indexes=data_wb[data_wb['country']== 'Turkmenistan'].index\n",
    "data_wb.loc[row_indexes,'Lat']= 38.9697\n",
    "data_wb.loc[row_indexes,'Lon']= 59.5563\n",
    "\n",
    "row_indexes=data_wb[data_wb['country']== 'United States'].index\n",
    "data_wb.loc[row_indexes,'Lat']= 37.0902\n",
    "data_wb.loc[row_indexes,'Lon']= -95.7129"
   ]
  },
  {
   "cell_type": "code",
   "execution_count": 42,
   "metadata": {},
   "outputs": [
    {
     "data": {
      "text/html": [
       "<div>\n",
       "<style scoped>\n",
       "    .dataframe tbody tr th:only-of-type {\n",
       "        vertical-align: middle;\n",
       "    }\n",
       "\n",
       "    .dataframe tbody tr th {\n",
       "        vertical-align: top;\n",
       "    }\n",
       "\n",
       "    .dataframe thead th {\n",
       "        text-align: right;\n",
       "    }\n",
       "</style>\n",
       "<table border=\"1\" class=\"dataframe\">\n",
       "  <thead>\n",
       "    <tr style=\"text-align: right;\">\n",
       "      <th></th>\n",
       "      <th>country</th>\n",
       "      <th>year</th>\n",
       "      <th>gdp_pC</th>\n",
       "      <th>pop</th>\n",
       "      <th>urban_pop%</th>\n",
       "      <th>frt</th>\n",
       "      <th>gdp_in_bil</th>\n",
       "      <th>gdp_in_millions</th>\n",
       "      <th>Lat</th>\n",
       "      <th>Lon</th>\n",
       "    </tr>\n",
       "  </thead>\n",
       "  <tbody>\n",
       "    <tr>\n",
       "      <th>1</th>\n",
       "      <td>Brazil</td>\n",
       "      <td>2016</td>\n",
       "      <td>10,868.65</td>\n",
       "      <td>207652865</td>\n",
       "      <td>86.04</td>\n",
       "      <td>1.73</td>\n",
       "      <td>1,793.99</td>\n",
       "      <td>1,793,989.05</td>\n",
       "      <td>-14.24</td>\n",
       "      <td>-51.93</td>\n",
       "    </tr>\n",
       "    <tr>\n",
       "      <th>2</th>\n",
       "      <td>Brazil</td>\n",
       "      <td>2015</td>\n",
       "      <td>11,351.57</td>\n",
       "      <td>205962108</td>\n",
       "      <td>85.77</td>\n",
       "      <td>1.74</td>\n",
       "      <td>1,802.21</td>\n",
       "      <td>1,802,214.37</td>\n",
       "      <td>-14.24</td>\n",
       "      <td>-51.93</td>\n",
       "    </tr>\n",
       "    <tr>\n",
       "      <th>3</th>\n",
       "      <td>Brazil</td>\n",
       "      <td>2014</td>\n",
       "      <td>11,870.15</td>\n",
       "      <td>204213133</td>\n",
       "      <td>85.49</td>\n",
       "      <td>1.75</td>\n",
       "      <td>2,455.99</td>\n",
       "      <td>2,455,993.63</td>\n",
       "      <td>-14.24</td>\n",
       "      <td>-51.93</td>\n",
       "    </tr>\n",
       "    <tr>\n",
       "      <th>4</th>\n",
       "      <td>Brazil</td>\n",
       "      <td>2013</td>\n",
       "      <td>11,915.42</td>\n",
       "      <td>202408632</td>\n",
       "      <td>85.21</td>\n",
       "      <td>1.76</td>\n",
       "      <td>2,472.81</td>\n",
       "      <td>2,472,806.92</td>\n",
       "      <td>-14.24</td>\n",
       "      <td>-51.93</td>\n",
       "    </tr>\n",
       "    <tr>\n",
       "      <th>5</th>\n",
       "      <td>Brazil</td>\n",
       "      <td>2012</td>\n",
       "      <td>11,673.77</td>\n",
       "      <td>200560983</td>\n",
       "      <td>84.92</td>\n",
       "      <td>1.78</td>\n",
       "      <td>2,465.19</td>\n",
       "      <td>2,465,188.67</td>\n",
       "      <td>-14.24</td>\n",
       "      <td>-51.93</td>\n",
       "    </tr>\n",
       "  </tbody>\n",
       "</table>\n",
       "</div>"
      ],
      "text/plain": [
       "  country  year    gdp_pC        pop  urban_pop%  frt  gdp_in_bil  \\\n",
       "1  Brazil  2016 10,868.65  207652865       86.04 1.73    1,793.99   \n",
       "2  Brazil  2015 11,351.57  205962108       85.77 1.74    1,802.21   \n",
       "3  Brazil  2014 11,870.15  204213133       85.49 1.75    2,455.99   \n",
       "4  Brazil  2013 11,915.42  202408632       85.21 1.76    2,472.81   \n",
       "5  Brazil  2012 11,673.77  200560983       84.92 1.78    2,465.19   \n",
       "\n",
       "   gdp_in_millions    Lat    Lon  \n",
       "1     1,793,989.05 -14.24 -51.93  \n",
       "2     1,802,214.37 -14.24 -51.93  \n",
       "3     2,455,993.63 -14.24 -51.93  \n",
       "4     2,472,806.92 -14.24 -51.93  \n",
       "5     2,465,188.67 -14.24 -51.93  "
      ]
     },
     "execution_count": 42,
     "metadata": {},
     "output_type": "execute_result"
    }
   ],
   "source": [
    "round(data_wb.head(5),2)"
   ]
  },
  {
   "cell_type": "code",
   "execution_count": 43,
   "metadata": {
    "scrolled": false
   },
   "outputs": [
    {
     "data": {
      "text/plain": [
       "[False, True, False, False, False]"
      ]
     },
     "execution_count": 43,
     "metadata": {},
     "output_type": "execute_result"
    }
   ],
   "source": [
    "#Bianca\n",
    "#loop for year\n",
    "\n",
    "year2015T = []\n",
    "for year in data_wb.year:\n",
    "    if year == '2015':\n",
    "        year2015T.append(True)\n",
    "    else:\n",
    "        year2015T.append(False)\n",
    "\n",
    "#check whether it worked\n",
    "year2015T[0:5]"
   ]
  },
  {
   "cell_type": "code",
   "execution_count": 44,
   "metadata": {},
   "outputs": [
    {
     "data": {
      "text/plain": [
       "243"
      ]
     },
     "execution_count": 44,
     "metadata": {},
     "output_type": "execute_result"
    }
   ],
   "source": [
    "#Bianca\n",
    "#and\n",
    "len(year2015T)"
   ]
  },
  {
   "cell_type": "code",
   "execution_count": 45,
   "metadata": {},
   "outputs": [
    {
     "data": {
      "text/plain": [
       "0    False\n",
       "1     True\n",
       "2    False\n",
       "3    False\n",
       "4    False\n",
       "dtype: bool"
      ]
     },
     "execution_count": 45,
     "metadata": {},
     "output_type": "execute_result"
    }
   ],
   "source": [
    "year2015 = pd.Series(year2015T)\n",
    "year2015.head()"
   ]
  },
  {
   "cell_type": "code",
   "execution_count": 46,
   "metadata": {},
   "outputs": [],
   "source": [
    "#selectedyear = widgets.Dropdown(description = 'year', options = data_wb.year.unique())\n",
    "selectedyear = 2014"
   ]
  },
  {
   "cell_type": "code",
   "execution_count": 47,
   "metadata": {},
   "outputs": [
    {
     "data": {
      "text/html": [
       "<div>\n",
       "<style scoped>\n",
       "    .dataframe tbody tr th:only-of-type {\n",
       "        vertical-align: middle;\n",
       "    }\n",
       "\n",
       "    .dataframe tbody tr th {\n",
       "        vertical-align: top;\n",
       "    }\n",
       "\n",
       "    .dataframe thead th {\n",
       "        text-align: right;\n",
       "    }\n",
       "</style>\n",
       "<table border=\"1\" class=\"dataframe\">\n",
       "  <thead>\n",
       "    <tr style=\"text-align: right;\">\n",
       "      <th></th>\n",
       "      <th>country</th>\n",
       "      <th>year</th>\n",
       "      <th>gdp_pC</th>\n",
       "      <th>pop</th>\n",
       "      <th>urban_pop%</th>\n",
       "      <th>frt</th>\n",
       "      <th>gdp_in_bil</th>\n",
       "      <th>gdp_in_millions</th>\n",
       "      <th>Lat</th>\n",
       "      <th>Lon</th>\n",
       "    </tr>\n",
       "  </thead>\n",
       "  <tbody>\n",
       "    <tr>\n",
       "      <th>3</th>\n",
       "      <td>Brazil</td>\n",
       "      <td>2014</td>\n",
       "      <td>11,870.1484076345</td>\n",
       "      <td>204213133</td>\n",
       "      <td>85.492</td>\n",
       "      <td>1.753</td>\n",
       "      <td>2,455.99362515937</td>\n",
       "      <td>2,455,993.6251593702</td>\n",
       "      <td>-14.235</td>\n",
       "      <td>-51.9253</td>\n",
       "    </tr>\n",
       "    <tr>\n",
       "      <th>31</th>\n",
       "      <td>China</td>\n",
       "      <td>2014</td>\n",
       "      <td>6,108.23877494863</td>\n",
       "      <td>1364270000</td>\n",
       "      <td>54.259</td>\n",
       "      <td>1.61</td>\n",
       "      <td>10,482.3721099619</td>\n",
       "      <td>10,482,372.1099619</td>\n",
       "      <td>33.5449</td>\n",
       "      <td>103.149</td>\n",
       "    </tr>\n",
       "    <tr>\n",
       "      <th>59</th>\n",
       "      <td>Denmark</td>\n",
       "      <td>2014</td>\n",
       "      <td>59,437.9338973302</td>\n",
       "      <td>5643475</td>\n",
       "      <td>87.41</td>\n",
       "      <td>1.69</td>\n",
       "      <td>352.993633221281</td>\n",
       "      <td>352,993.633221281</td>\n",
       "      <td>56.2639</td>\n",
       "      <td>9.5018</td>\n",
       "    </tr>\n",
       "    <tr>\n",
       "      <th>87</th>\n",
       "      <td>Spain</td>\n",
       "      <td>2014</td>\n",
       "      <td>29,496.378933678</td>\n",
       "      <td>46480882</td>\n",
       "      <td>79.366</td>\n",
       "      <td>1.32</td>\n",
       "      <td>1,376.91081104088</td>\n",
       "      <td>1,376,910.81104088</td>\n",
       "      <td>40.4637</td>\n",
       "      <td>-3.7492</td>\n",
       "    </tr>\n",
       "    <tr>\n",
       "      <th>115</th>\n",
       "      <td>India</td>\n",
       "      <td>2014</td>\n",
       "      <td>1,645.32614058045</td>\n",
       "      <td>1293859294</td>\n",
       "      <td>32.384</td>\n",
       "      <td>2.384</td>\n",
       "      <td>2,039.12744629855</td>\n",
       "      <td>2,039,127.44629855</td>\n",
       "      <td>20.5937</td>\n",
       "      <td>78.9629</td>\n",
       "    </tr>\n",
       "    <tr>\n",
       "      <th>143</th>\n",
       "      <td>Japan</td>\n",
       "      <td>2014</td>\n",
       "      <td>46,484.1552668943</td>\n",
       "      <td>127276000</td>\n",
       "      <td>91.304</td>\n",
       "      <td>1.42</td>\n",
       "      <td>4,850.41353603784</td>\n",
       "      <td>4,850,413.53603784</td>\n",
       "      <td>36.2048</td>\n",
       "      <td>138.2529</td>\n",
       "    </tr>\n",
       "    <tr>\n",
       "      <th>171</th>\n",
       "      <td>Nigeria</td>\n",
       "      <td>2014</td>\n",
       "      <td>2,563.09212386711</td>\n",
       "      <td>176460502</td>\n",
       "      <td>46.982</td>\n",
       "      <td>5.653</td>\n",
       "      <td>568.498937615594</td>\n",
       "      <td>568,498.937615594</td>\n",
       "      <td>9.082</td>\n",
       "      <td>8.6753</td>\n",
       "    </tr>\n",
       "    <tr>\n",
       "      <th>199</th>\n",
       "      <td>Turkmenistan</td>\n",
       "      <td>2014</td>\n",
       "      <td>6,399.27066175581</td>\n",
       "      <td>5466241</td>\n",
       "      <td>49.921</td>\n",
       "      <td>2.956</td>\n",
       "      <td>43.524210526315805</td>\n",
       "      <td>43,524.2105263158</td>\n",
       "      <td>38.9697</td>\n",
       "      <td>59.5563</td>\n",
       "    </tr>\n",
       "    <tr>\n",
       "      <th>227</th>\n",
       "      <td>United States</td>\n",
       "      <td>2014</td>\n",
       "      <td>50,871.674083306</td>\n",
       "      <td>318622525</td>\n",
       "      <td>81.483</td>\n",
       "      <td>1.8625</td>\n",
       "      <td>17,427.609</td>\n",
       "      <td>17,427,609.0</td>\n",
       "      <td>37.0902</td>\n",
       "      <td>-95.7129</td>\n",
       "    </tr>\n",
       "  </tbody>\n",
       "</table>\n",
       "</div>"
      ],
      "text/plain": [
       "           country  year            gdp_pC         pop  urban_pop%    frt  \\\n",
       "3           Brazil  2014 11,870.1484076345   204213133      85.492  1.753   \n",
       "31           China  2014 6,108.23877494863  1364270000      54.259   1.61   \n",
       "59         Denmark  2014 59,437.9338973302     5643475       87.41   1.69   \n",
       "87           Spain  2014  29,496.378933678    46480882      79.366   1.32   \n",
       "115          India  2014 1,645.32614058045  1293859294      32.384  2.384   \n",
       "143          Japan  2014 46,484.1552668943   127276000      91.304   1.42   \n",
       "171        Nigeria  2014 2,563.09212386711   176460502      46.982  5.653   \n",
       "199   Turkmenistan  2014 6,399.27066175581     5466241      49.921  2.956   \n",
       "227  United States  2014  50,871.674083306   318622525      81.483 1.8625   \n",
       "\n",
       "            gdp_in_bil      gdp_in_millions     Lat      Lon  \n",
       "3    2,455.99362515937 2,455,993.6251593702 -14.235 -51.9253  \n",
       "31   10,482.3721099619   10,482,372.1099619 33.5449  103.149  \n",
       "59    352.993633221281    352,993.633221281 56.2639   9.5018  \n",
       "87   1,376.91081104088   1,376,910.81104088 40.4637  -3.7492  \n",
       "115  2,039.12744629855   2,039,127.44629855 20.5937  78.9629  \n",
       "143  4,850.41353603784   4,850,413.53603784 36.2048 138.2529  \n",
       "171   568.498937615594    568,498.937615594   9.082   8.6753  \n",
       "199 43.524210526315805    43,524.2105263158 38.9697  59.5563  \n",
       "227         17,427.609         17,427,609.0 37.0902 -95.7129  "
      ]
     },
     "execution_count": 47,
     "metadata": {},
     "output_type": "execute_result"
    }
   ],
   "source": [
    "year_overview = data_wb.loc[data_wb['year']== str(selectedyear)] #selectedyear for a dropdown with used year\n",
    "year_overview"
   ]
  },
  {
   "cell_type": "code",
   "execution_count": 48,
   "metadata": {},
   "outputs": [],
   "source": [
    "#Bianca\n",
    "#all in one\n",
    "\n",
    "import folium\n",
    "\n",
    "country = data_wb[\"country\"]\n",
    "year = data_wb[\"year\"]\n",
    "gdp_pC = data_wb[\"gdp_pC\"]\n",
    "frt = data_wb[\"frt\"]\n",
    "    \n",
    "def create_map(country, year):\n",
    "    \"\"\"define an interactive figure that uses country and years inputs \"\"\"\n",
    "    year = data_country.year\n",
    "    gdp_pC = data_country.gdp_pC\n",
    "    fig = plt.figure(dpi=100)\n",
    "    ax = fig.add_subplot(1,1,1)\n",
    "    ax.plot(year, gdp_pC)\n",
    "    ax.set_xlabel(\"Years\")\n",
    "    ax.set_ylabel(\"GDP per Capita\")\n",
    "    plt.xticks(rotation=90)\n",
    "    plt.gca().invert_xaxis()\n",
    "    \n",
    "    # Make an empty map\n",
    "    map = folium.Map(location=[0,0], tiles=\"Mapbox Bright\", zoom_start=2)\n",
    "    #converted_value = getattr(value, \"tolist\", lambda x=value: x)()\n",
    "    \n",
    "    # I can add marker one by one on the map\n",
    "    for i in range(0,len(year_overview)):\n",
    "        folium.Circle(\n",
    "            location=[year_overview.iloc[i]['Lat'], year_overview.iloc[i]['Lon']],\n",
    "            #popup=locations2016_gdp_pC.iloc[i]['country'],\n",
    "            radius=year_overview.iloc[i][selectedvariable]*100000, #the smaller the original number, the higher the radius should be chosen\n",
    "            color='green',\n",
    "            fill=True\n",
    "        ).add_to(map)\n",
    "    map"
   ]
  },
  {
   "cell_type": "code",
   "execution_count": 49,
   "metadata": {},
   "outputs": [
    {
     "ename": "NameError",
     "evalue": "name 'data_country' is not defined",
     "output_type": "error",
     "traceback": [
      "\u001b[1;31m---------------------------------------------------------------------------\u001b[0m",
      "\u001b[1;31mNameError\u001b[0m                                 Traceback (most recent call last)",
      "\u001b[1;32m<ipython-input-49-8c03f38274d5>\u001b[0m in \u001b[0;36m<module>\u001b[1;34m\u001b[0m\n\u001b[1;32m----> 1\u001b[1;33m \u001b[0mcreate_map\u001b[0m\u001b[1;33m(\u001b[0m\u001b[1;36m2010\u001b[0m\u001b[1;33m,\u001b[0m \u001b[0mdata_wb\u001b[0m\u001b[1;33m)\u001b[0m\u001b[1;33m\u001b[0m\u001b[1;33m\u001b[0m\u001b[0m\n\u001b[0m",
      "\u001b[1;32m<ipython-input-48-b605e1805513>\u001b[0m in \u001b[0;36mcreate_map\u001b[1;34m(country, year)\u001b[0m\n\u001b[0;32m     11\u001b[0m \u001b[1;32mdef\u001b[0m \u001b[0mcreate_map\u001b[0m\u001b[1;33m(\u001b[0m\u001b[0mcountry\u001b[0m\u001b[1;33m,\u001b[0m \u001b[0myear\u001b[0m\u001b[1;33m)\u001b[0m\u001b[1;33m:\u001b[0m\u001b[1;33m\u001b[0m\u001b[1;33m\u001b[0m\u001b[0m\n\u001b[0;32m     12\u001b[0m     \u001b[1;34m\"\"\"define an interactive figure that uses country and years inputs \"\"\"\u001b[0m\u001b[1;33m\u001b[0m\u001b[1;33m\u001b[0m\u001b[0m\n\u001b[1;32m---> 13\u001b[1;33m     \u001b[0myear\u001b[0m \u001b[1;33m=\u001b[0m \u001b[0mdata_country\u001b[0m\u001b[1;33m.\u001b[0m\u001b[0myear\u001b[0m\u001b[1;33m\u001b[0m\u001b[1;33m\u001b[0m\u001b[0m\n\u001b[0m\u001b[0;32m     14\u001b[0m     \u001b[0mgdp_pC\u001b[0m \u001b[1;33m=\u001b[0m \u001b[0mdata_country\u001b[0m\u001b[1;33m.\u001b[0m\u001b[0mgdp_pC\u001b[0m\u001b[1;33m\u001b[0m\u001b[1;33m\u001b[0m\u001b[0m\n\u001b[0;32m     15\u001b[0m     \u001b[0mfig\u001b[0m \u001b[1;33m=\u001b[0m \u001b[0mplt\u001b[0m\u001b[1;33m.\u001b[0m\u001b[0mfigure\u001b[0m\u001b[1;33m(\u001b[0m\u001b[0mdpi\u001b[0m\u001b[1;33m=\u001b[0m\u001b[1;36m100\u001b[0m\u001b[1;33m)\u001b[0m\u001b[1;33m\u001b[0m\u001b[1;33m\u001b[0m\u001b[0m\n",
      "\u001b[1;31mNameError\u001b[0m: name 'data_country' is not defined"
     ]
    }
   ],
   "source": [
    "create_map(2010, data_wb)"
   ]
  },
  {
   "cell_type": "code",
   "execution_count": 48,
   "metadata": {},
   "outputs": [
    {
     "ename": "IndentationError",
     "evalue": "unexpected indent (<ipython-input-48-f4fb48161942>, line 4)",
     "output_type": "error",
     "traceback": [
      "\u001b[0;36m  File \u001b[0;32m\"<ipython-input-48-f4fb48161942>\"\u001b[0;36m, line \u001b[0;32m4\u001b[0m\n\u001b[0;31m    country =\u001b[0m\n\u001b[0m    ^\u001b[0m\n\u001b[0;31mIndentationError\u001b[0m\u001b[0;31m:\u001b[0m unexpected indent\n"
     ]
    }
   ],
   "source": [
    "widgets.interact(create_map,\n",
    "                year = widgets.Dropdown(description = 'Country', options = data_wb.year.unique()),\n",
    "                data_wb = widgets.fixed(data_wb)),\n",
    "                country = \n",
    ");"
   ]
  },
  {
   "cell_type": "code",
   "execution_count": 67,
   "metadata": {},
   "outputs": [],
   "source": [
    "# Definition of variables of interest\n",
    "#selectedyear = 2010\n",
    "   #select the year you are interested in\n",
    "#selectedvariable = 'gdp_pC'\n",
    "    ##select the variable you are interested in\n",
    "\n",
    "def createmap2(year,variable):\n",
    "    year = data_wb.year\n",
    "    variable = data_wb[:]\n",
    "    # Creation of an empty map\n",
    "    map = folium.Map(location=[0,0], tiles=\"Mapbox Bright\", zoom_start=2)\n",
    "\n",
    "    #Creation of an overview data set displaying only the selected year\n",
    "    year_overview = data_wb.loc[data_wb['year']== str(year)]\n",
    "\n",
    "    # Run of the for loop in order to add a marker one by one on the map\n",
    "    for i in range(0,len(year_overview)):\n",
    "        folium.Circle(\n",
    "            location=[year_overview.iloc[i]['Lat'], year_overview.iloc[i]['Lon']],\n",
    "            radius=year_overview.iloc[i][variable]*15, #the smaller the original number, the higher the radius should be chosen\n",
    "            color='green',\n",
    "            fill=True\n",
    "        ).add_to(map)\n",
    "\n",
    "    #calling the map\n",
    "    return(map)"
   ]
  },
  {
   "cell_type": "code",
   "execution_count": 68,
   "metadata": {},
   "outputs": [
    {
     "data": {
      "text/html": [
       "<div style=\"width:100%;\"><div style=\"position:relative;width:100%;height:0;padding-bottom:60%;\"><iframe src=\"data:text/html;charset=utf-8;base64,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\" style=\"position:absolute;width:100%;height:100%;left:0;top:0;border:none !important;\" allowfullscreen webkitallowfullscreen mozallowfullscreen></iframe></div></div>"
      ],
      "text/plain": [
       "<folium.folium.Map at 0x25c094de438>"
      ]
     },
     "execution_count": 68,
     "metadata": {},
     "output_type": "execute_result"
    }
   ],
   "source": [
    "createmap2(1998,'frt')"
   ]
  },
  {
   "cell_type": "code",
   "execution_count": 70,
   "metadata": {},
   "outputs": [
    {
     "data": {
      "text/html": [
       "<div style=\"width:100%;\"><div style=\"position:relative;width:100%;height:0;padding-bottom:60%;\"><iframe src=\"data:text/html;charset=utf-8;base64,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\" style=\"position:absolute;width:100%;height:100%;left:0;top:0;border:none !important;\" allowfullscreen webkitallowfullscreen mozallowfullscreen></iframe></div></div>"
      ],
      "text/plain": [
       "<folium.folium.Map at 0x25c09493ba8>"
      ]
     },
     "execution_count": 70,
     "metadata": {},
     "output_type": "execute_result"
    }
   ],
   "source": [
    "def createmap2(year, variable):\n",
    "    year=data_wb.year\n",
    "    variable=data_wb[:]\n",
    "    return map \n",
    "\n",
    "\n",
    "interactive_map(1997, \"gdp\")"
   ]
  },
  {
   "cell_type": "code",
   "execution_count": 84,
   "metadata": {},
   "outputs": [],
   "source": [
    "def mapcr(variable, year):\n",
    "    # Make an empty map\n",
    "    map = folium.Map(location=[0,0], tiles=\"Mapbox Bright\", zoom_start=2)\n",
    "    #converted_value = getattr(value, \"tolist\", lambda x=value: x)()\n",
    "\n",
    "    #selectedyear = 2010 #Select your preferred year\n",
    "    #selectedvariable = 'gdp_pC' #select yout preferred variable\n",
    "\n",
    "    year_overview = data_wb.loc[data_wb['year']== str(selectedyear)] #selectedyear for a dropdown with used year\n",
    "    year_overview\n",
    "\n",
    "    # Make an empty map\n",
    "    map = folium.Map(location=[0,0], tiles=\"Mapbox Bright\", zoom_start=2)\n",
    "    #converted_value = getattr(value, \"tolist\", lambda x=value: x)()\n",
    "\n",
    "\n",
    "    # I can add marker one by one on the map\n",
    "    for i in range(0,len(year_overview)):\n",
    "        folium.Circle(\n",
    "            location=[year_overview.iloc[i]['Lat'], year_overview.iloc[i]['Lon']],\n",
    "            #popup=locations2016_gdp_pC.iloc[i]['country'],\n",
    "            radius=year_overview.iloc[i][selectedvariable]*10, #the smaller the original number, the higher the radius should be chosen\n",
    "            color='green',\n",
    "            fill=True\n",
    "        ).add_to(map)\n",
    "    return(map)"
   ]
  },
  {
   "cell_type": "code",
   "execution_count": 69,
   "metadata": {},
   "outputs": [],
   "source": [
    "def createmap_2(year, variable):\n",
    "    year=data_wb.year\n",
    "    variable=data_wb[:] \n",
    "    map = folium.Map(location=[0,0], tiles=\"Mapbox Bright\", zoom_start=2)\n",
    "   \n",
    "    year_overview = data_wb.loc[data_wb['year']== str(year)] #selectedyear for a dropdown with used year\n",
    "    # I can add marker one by one on the map\n",
    "    for i in range(0,len(year_overview)):\n",
    "        folium.Circle(\n",
    "            location=[year_overview.iloc[i]['Lat'], year_overview.iloc[i]['Lon']],\n",
    "            #popup=locations2016_gdp_pC.iloc[i]['country'],\n",
    "            radius=year_overview.iloc[i][data_wb[:]]*10, #the smaller the original number, the higher the radius should be chosen\n",
    "            color='green',\n",
    "            fill=True\n",
    "        ).add_to(map)\n",
    "    return(map)"
   ]
  },
  {
   "cell_type": "code",
   "execution_count": 62,
   "metadata": {},
   "outputs": [
    {
     "data": {
      "text/html": [
       "<div style=\"width:100%;\"><div style=\"position:relative;width:100%;height:0;padding-bottom:60%;\"><iframe src=\"data:text/html;charset=utf-8;base64,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\" style=\"position:absolute;width:100%;height:100%;left:0;top:0;border:none !important;\" allowfullscreen webkitallowfullscreen mozallowfullscreen></iframe></div></div>"
      ],
      "text/plain": [
       "<folium.folium.Map at 0x25c094f6e10>"
      ]
     },
     "execution_count": 62,
     "metadata": {},
     "output_type": "execute_result"
    }
   ],
   "source": [
    "createmap_2(2008, 'gdp_pC')"
   ]
  },
  {
   "cell_type": "code",
   "execution_count": 71,
   "metadata": {},
   "outputs": [
    {
     "data": {
      "application/vnd.jupyter.widget-view+json": {
       "model_id": "a63346a4db994444844047c8770a62fe",
       "version_major": 2,
       "version_minor": 0
      },
      "text/plain": [
       "interactive(children=(Dropdown(description='Year', options=('2016', '2015', '2014', '2013', '2012', '2011', '2…"
      ]
     },
     "metadata": {},
     "output_type": "display_data"
    }
   ],
   "source": [
    "widgets.interact(createmap2,\n",
    "    map=widgets.fixed(map),\n",
    "    year=widgets.Dropdown(description=\"Year\", options=data_wb.year.unique()),\n",
    "    variable=widgets.Dropdown(description=\"Variable\", options=data_wb[:])\n",
    ");"
   ]
  },
  {
   "cell_type": "code",
   "execution_count": 50,
   "metadata": {},
   "outputs": [
    {
     "data": {
      "text/html": [
       "<div style=\"width:100%;\"><div style=\"position:relative;width:100%;height:0;padding-bottom:60%;\"><iframe src=\"data:text/html;charset=utf-8;base64,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\" style=\"position:absolute;width:100%;height:100%;left:0;top:0;border:none !important;\" allowfullscreen webkitallowfullscreen mozallowfullscreen></iframe></div></div>"
      ],
      "text/plain": [
       "<folium.folium.Map at 0x25c09493ba8>"
      ]
     },
     "execution_count": 50,
     "metadata": {},
     "output_type": "execute_result"
    }
   ],
   "source": [
    "#TONJE \n",
    "\n",
    "# Make an empty map\n",
    "map = folium.Map(location=[0,0], tiles=\"Mapbox Bright\", zoom_start=2)\n",
    "\n",
    "year_overview = data_wb.loc[data_wb['year']== str(year)] #selectedyear for a dropdown with used year\n",
    "year_overview\n",
    "\n",
    "# Make an empty map\n",
    "map = folium.Map(location=[0,0], tiles=\"Mapbox Bright\", zoom_start=2)\n",
    "#converted_value = getattr(value, \"tolist\", lambda x=value: x)()\n",
    "\n",
    "\n",
    "# I can add marker one by one on the map\n",
    "for i in range(0,len(year_overview)):\n",
    "    folium.Circle(\n",
    "        location=[year_overview.iloc[i]['Lat'], year_overview.iloc[i]['Lon']],\n",
    "        #popup=locations2016_gdp_pC.iloc[i]['country'],\n",
    "        radius=year_overview.iloc[i][data_wb[:]]*10, #the smaller the original number, the higher the radius should be chosen\n",
    "        color='green',\n",
    "        fill=True\n",
    "    ).add_to(map)\n",
    "map\n"
   ]
  },
  {
   "cell_type": "code",
   "execution_count": null,
   "metadata": {},
   "outputs": [],
   "source": []
  },
  {
   "cell_type": "code",
   "execution_count": 51,
   "metadata": {},
   "outputs": [
    {
     "data": {
      "text/html": [
       "<div style=\"width:100%;\"><div style=\"position:relative;width:100%;height:0;padding-bottom:60%;\"><iframe src=\"data:text/html;charset=utf-8;base64,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\" style=\"position:absolute;width:100%;height:100%;left:0;top:0;border:none !important;\" allowfullscreen webkitallowfullscreen mozallowfullscreen></iframe></div></div>"
      ],
      "text/plain": [
       "<folium.folium.Map at 0x25c09493ba8>"
      ]
     },
     "execution_count": 51,
     "metadata": {},
     "output_type": "execute_result"
    }
   ],
   "source": [
    "def interactive_map(year, variable):\n",
    "    year=data_wb.year\n",
    "    variable=data_wb[:]\n",
    "    return map \n",
    "\n",
    "\n",
    "interactive_map(1997, \"gdp\")"
   ]
  },
  {
   "cell_type": "code",
   "execution_count": 52,
   "metadata": {},
   "outputs": [
    {
     "data": {
      "text/html": [
       "<div style=\"width:100%;\"><div style=\"position:relative;width:100%;height:0;padding-bottom:60%;\"><iframe src=\"data:text/html;charset=utf-8;base64,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\" style=\"position:absolute;width:100%;height:100%;left:0;top:0;border:none !important;\" allowfullscreen webkitallowfullscreen mozallowfullscreen></iframe></div></div>"
      ],
      "text/plain": [
       "<folium.folium.Map at 0x25c09493ba8>"
      ]
     },
     "execution_count": 52,
     "metadata": {},
     "output_type": "execute_result"
    }
   ],
   "source": [
    "interactive_map(2010, \"pop\")"
   ]
  },
  {
   "cell_type": "code",
   "execution_count": 53,
   "metadata": {},
   "outputs": [
    {
     "name": "stderr",
     "output_type": "stream",
     "text": [
      "C:\\Users\\BKirs\\Anaconda3\\lib\\site-packages\\pandas\\core\\ops.py:1649: FutureWarning: elementwise comparison failed; returning scalar instead, but in the future will perform elementwise comparison\n",
      "  result = method(y)\n"
     ]
    },
    {
     "data": {
      "application/vnd.jupyter.widget-view+json": {
       "model_id": "6653b63f84bb4820b6cc43d1f50dfd00",
       "version_major": 2,
       "version_minor": 0
      },
      "text/plain": [
       "interactive(children=(Dropdown(description='Year', options=('2016', '2015', '2014', '2013', '2012', '2011', '2…"
      ]
     },
     "metadata": {},
     "output_type": "display_data"
    }
   ],
   "source": [
    "widgets.interact(interactive_map,\n",
    "    map=widgets.fixed(map),\n",
    "    year=widgets.Dropdown(description=\"Year\", options=data_wb.year.unique()),\n",
    "    variable=widgets.Dropdown(description=\"Variable\", options=data_wb[:])\n",
    ");"
   ]
  },
  {
   "cell_type": "code",
   "execution_count": 54,
   "metadata": {},
   "outputs": [
    {
     "ename": "SyntaxError",
     "evalue": "invalid syntax (<ipython-input-54-9e3ff2b804af>, line 33)",
     "output_type": "error",
     "traceback": [
      "\u001b[1;36m  File \u001b[1;32m\"<ipython-input-54-9e3ff2b804af>\"\u001b[1;36m, line \u001b[1;32m33\u001b[0m\n\u001b[1;33m    );\u001b[0m\n\u001b[1;37m    ^\u001b[0m\n\u001b[1;31mSyntaxError\u001b[0m\u001b[1;31m:\u001b[0m invalid syntax\n"
     ]
    }
   ],
   "source": [
    "#Bianca works\n",
    "#all in one\n",
    "country=data_wb[\"country\"]\n",
    "year=data_wb[\"year\"]\n",
    "gdp_pC=data_wb[\"gdp_pC\"]\n",
    "\n",
    "# Make an empty map\n",
    "map = folium.Map(location=[0,0], tiles=\"Mapbox Bright\", zoom_start=2)\n",
    "#converted_value = getattr(value, \"tolist\", lambda x=value: x)()\n",
    "\n",
    "selectedyear = 2010 #Select your preferred year\n",
    "selectedvariable = 'gdp_pC' #select yout preferred variable\n",
    "\n",
    "year_overview = data_wb.loc[data_wb['year']== str(selectedyear)] #selectedyear for a dropdown with used year\n",
    "year_overview\n",
    "\n",
    "# Make an empty map\n",
    "map = folium.Map(location=[0,0], tiles=\"Mapbox Bright\", zoom_start=2)\n",
    "#converted_value = getattr(value, \"tolist\", lambda x=value: x)()\n",
    "\n",
    "\n",
    "# I can add marker one by one on the map\n",
    "for i in range(0,len(year_overview)):\n",
    "    folium.Circle(\n",
    "        location=[year_overview.iloc[i]['Lat'], year_overview.iloc[i]['Lon']],\n",
    "        #popup=locations2016_gdp_pC.iloc[i]['country'],\n",
    "        radius=year_overview.iloc[i][selectedvariable]*10, #the smaller the original number, the higher the radius should be chosen\n",
    "        color='green',\n",
    "        fill=True\n",
    "    ).add_to(map)\n",
    "\n",
    "\n",
    ");"
   ]
  },
  {
   "cell_type": "code",
   "execution_count": 55,
   "metadata": {},
   "outputs": [
    {
     "data": {
      "text/html": [
       "<div style=\"width:100%;\"><div style=\"position:relative;width:100%;height:0;padding-bottom:60%;\"><iframe src=\"data:text/html;charset=utf-8;base64,PCFET0NUWVBFIGh0bWw+CjxoZWFkPiAgICAKICAgIDxtZXRhIGh0dHAtZXF1aXY9ImNvbnRlbnQtdHlwZSIgY29udGVudD0idGV4dC9odG1sOyBjaGFyc2V0PVVURi04IiAvPgogICAgPHNjcmlwdD5MX1BSRUZFUl9DQU5WQVM9ZmFsc2U7IExfTk9fVE9VQ0g9ZmFsc2U7IExfRElTQUJMRV8zRD1mYWxzZTs8L3NjcmlwdD4KICAgIDxzY3JpcHQgc3JjPSJodHRwczovL2Nkbi5qc2RlbGl2ci5uZXQvbnBtL2xlYWZsZXRAMS40LjAvZGlzdC9sZWFmbGV0LmpzIj48L3NjcmlwdD4KICAgIDxzY3JpcHQgc3JjPSJodHRwczovL2NvZGUuanF1ZXJ5LmNvbS9qcXVlcnktMS4xMi40Lm1pbi5qcyI+PC9zY3JpcHQ+CiAgICA8c2NyaXB0IHNyYz0iaHR0cHM6Ly9tYXhjZG4uYm9vdHN0cmFwY2RuLmNvbS9ib290c3RyYXAvMy4yLjAvanMvYm9vdHN0cmFwLm1pbi5qcyI+PC9zY3JpcHQ+CiAgICA8c2NyaXB0IHNyYz0iaHR0cHM6Ly9jZG5qcy5jbG91ZGZsYXJlLmNvbS9hamF4L2xpYnMvTGVhZmxldC5hd2Vzb21lLW1hcmtlcnMvMi4wLjIvbGVhZmxldC5hd2Vzb21lLW1hcmtlcnMuanMiPjwvc2NyaXB0PgogICAgPGxpbmsgcmVsPSJzdHlsZXNoZWV0IiBocmVmPSJodHRwczovL2Nkbi5qc2RlbGl2ci5uZXQvbnBtL2xlYWZsZXRAMS40LjAvZGlzdC9sZWFmbGV0LmNzcyIvPgogICAgPGxpbmsgcmVsPSJzdHlsZXNoZWV0IiBocmVmPSJodHRwczovL21heGNkbi5ib290c3RyYXBjZG4uY29tL2Jvb3RzdHJhcC8zLjIuMC9jc3MvYm9vdHN0cmFwLm1pbi5jc3MiLz4KICAgIDxsaW5rIHJlbD0ic3R5bGVzaGVldCIgaHJlZj0iaHR0cHM6Ly9tYXhjZG4uYm9vdHN0cmFwY2RuLmNvbS9ib290c3RyYXAvMy4yLjAvY3NzL2Jvb3RzdHJhcC10aGVtZS5taW4uY3NzIi8+CiAgICA8bGluayByZWw9InN0eWxlc2hlZXQiIGhyZWY9Imh0dHBzOi8vbWF4Y2RuLmJvb3RzdHJhcGNkbi5jb20vZm9udC1hd2Vzb21lLzQuNi4zL2Nzcy9mb250LWF3ZXNvbWUubWluLmNzcyIvPgogICAgPGxpbmsgcmVsPSJzdHlsZXNoZWV0IiBocmVmPSJodHRwczovL2NkbmpzLmNsb3VkZmxhcmUuY29tL2FqYXgvbGlicy9MZWFmbGV0LmF3ZXNvbWUtbWFya2Vycy8yLjAuMi9sZWFmbGV0LmF3ZXNvbWUtbWFya2Vycy5jc3MiLz4KICAgIDxsaW5rIHJlbD0ic3R5bGVzaGVldCIgaHJlZj0iaHR0cHM6Ly9yYXdjZG4uZ2l0aGFjay5jb20vcHl0aG9uLXZpc3VhbGl6YXRpb24vZm9saXVtL21hc3Rlci9mb2xpdW0vdGVtcGxhdGVzL2xlYWZsZXQuYXdlc29tZS5yb3RhdGUuY3NzIi8+CiAgICA8c3R5bGU+aHRtbCwgYm9keSB7d2lkdGg6IDEwMCU7aGVpZ2h0OiAxMDAlO21hcmdpbjogMDtwYWRkaW5nOiAwO308L3N0eWxlPgogICAgPHN0eWxlPiNtYXAge3Bvc2l0aW9uOmFic29sdXRlO3RvcDowO2JvdHRvbTowO3JpZ2h0OjA7bGVmdDowO308L3N0eWxlPgogICAgCiAgICA8bWV0YSBuYW1lPSJ2aWV3cG9ydCIgY29udGVudD0id2lkdGg9ZGV2aWNlLXdpZHRoLAogICAgICAgIGluaXRpYWwtc2NhbGU9MS4wLCBtYXhpbXVtLXNjYWxlPTEuMCwgdXNlci1zY2FsYWJsZT1ubyIgLz4KICAgIDxzdHlsZT4jbWFwXzg0YTI4ZDMzZTFhYzQ3YThiNGY0ZGU4ZTRiMzcxZWQ5IHsKICAgICAgICBwb3NpdGlvbjogcmVsYXRpdmU7CiAgICAgICAgd2lkdGg6IDEwMC4wJTsKICAgICAgICBoZWlnaHQ6IDEwMC4wJTsKICAgICAgICBsZWZ0OiAwLjAlOwogICAgICAgIHRvcDogMC4wJTsKICAgICAgICB9CiAgICA8L3N0eWxlPgo8L2hlYWQ+Cjxib2R5PiAgICAKICAgIAogICAgPGRpdiBjbGFzcz0iZm9saXVtLW1hcCIgaWQ9Im1hcF84NGEyOGQzM2UxYWM0N2E4YjRmNGRlOGU0YjM3MWVkOSIgPjwvZGl2Pgo8L2JvZHk+CjxzY3JpcHQ+ICAgIAogICAgCiAgICAKICAgICAgICB2YXIgYm91bmRzID0gbnVsbDsKICAgIAoKICAgIHZhciBtYXBfODRhMjhkMzNlMWFjNDdhOGI0ZjRkZThlNGIzNzFlZDkgPSBMLm1hcCgKICAgICAgICAnbWFwXzg0YTI4ZDMzZTFhYzQ3YThiNGY0ZGU4ZTRiMzcxZWQ5JywgewogICAgICAgIGNlbnRlcjogWzAsIDBdLAogICAgICAgIHpvb206IDIsCiAgICAgICAgbWF4Qm91bmRzOiBib3VuZHMsCiAgICAgICAgbGF5ZXJzOiBbXSwKICAgICAgICB3b3JsZENvcHlKdW1wOiBmYWxzZSwKICAgICAgICBjcnM6IEwuQ1JTLkVQU0czODU3LAogICAgICAgIHpvb21Db250cm9sOiB0cnVlLAogICAgICAgIH0pOwoKCiAgICAKICAgIHZhciB0aWxlX2xheWVyXzcwZTBiMTAyZjA3NTQyN2VhYzQ1OTY3ZWU4YjU5N2MxID0gTC50aWxlTGF5ZXIoCiAgICAgICAgJ2h0dHBzOi8ve3N9LnRpbGVzLm1hcGJveC5jb20vdjMvbWFwYm94LmNvbnRyb2wtcm9vbS97en0ve3h9L3t5fS5wbmcnLAogICAgICAgIHsKICAgICAgICAiYXR0cmlidXRpb24iOiBudWxsLAogICAgICAgICJkZXRlY3RSZXRpbmEiOiBmYWxzZSwKICAgICAgICAibWF4TmF0aXZlWm9vbSI6IDE4LAogICAgICAgICJtYXhab29tIjogMTgsCiAgICAgICAgIm1pblpvb20iOiAwLAogICAgICAgICJub1dyYXAiOiBmYWxzZSwKICAgICAgICAib3BhY2l0eSI6IDEsCiAgICAgICAgInN1YmRvbWFpbnMiOiAiYWJjIiwKICAgICAgICAidG1zIjogZmFsc2UKfSkuYWRkVG8obWFwXzg0YTI4ZDMzZTFhYzQ3YThiNGY0ZGU4ZTRiMzcxZWQ5KTsKPC9zY3JpcHQ+\" style=\"position:absolute;width:100%;height:100%;left:0;top:0;border:none !important;\" allowfullscreen webkitallowfullscreen mozallowfullscreen></iframe></div></div>"
      ],
      "text/plain": [
       "<folium.folium.Map at 0x25c09493630>"
      ]
     },
     "execution_count": 55,
     "metadata": {},
     "output_type": "execute_result"
    }
   ],
   "source": [
    "#Bianca\n",
    "#Check middle world\n",
    "#Bianca\n",
    "import folium\n",
    "m2 = folium.Map(location = [0, 0], tiles = 'mapboxControlRoom', zoom_start = 2)\n",
    "\n",
    "m2\n",
    "#alternative tiles: StamenTerrain , StamenToner , MapboxBright , MapboxControlRoom"
   ]
  },
  {
   "cell_type": "code",
   "execution_count": 49,
   "metadata": {},
   "outputs": [],
   "source": [
    "#Bianca\n",
    "#saving in a file\n",
    "m.save('./map.py')"
   ]
  },
  {
   "cell_type": "code",
   "execution_count": 53,
   "metadata": {},
   "outputs": [
    {
     "data": {
      "text/plain": [
       "country             object\n",
       "year                object\n",
       "gdp_pC             float64\n",
       "pop                  int64\n",
       "urban_pop%         float64\n",
       "frt                float64\n",
       "gdp_in_bil         float64\n",
       "gdp_in_millions    float64\n",
       "Lat                float64\n",
       "Lon                float64\n",
       "dtype: object"
      ]
     },
     "execution_count": 53,
     "metadata": {},
     "output_type": "execute_result"
    }
   ],
   "source": [
    "data_wb.dtypes"
   ]
  },
  {
   "cell_type": "code",
   "execution_count": null,
   "metadata": {},
   "outputs": [],
   "source": []
  }
 ],
 "metadata": {
  "kernelspec": {
   "display_name": "Python 3",
   "language": "python",
   "name": "python3"
  },
  "language_info": {
   "codemirror_mode": {
    "name": "ipython",
    "version": 3
   },
   "file_extension": ".py",
   "mimetype": "text/x-python",
   "name": "python",
   "nbconvert_exporter": "python",
   "pygments_lexer": "ipython3",
   "version": "3.7.1"
  }
 },
 "nbformat": 4,
 "nbformat_minor": 2
}
