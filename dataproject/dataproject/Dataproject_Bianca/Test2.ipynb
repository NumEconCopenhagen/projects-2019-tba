#%% Change working directory from the workspace root to the ipynb file location. Turn this addition off with the DataScience.changeDirOnImportExport setting
import os
try:
	os.chdir(os.path.join(os.getcwd(), 'dataproject\dataproject\Dataproject_Bianca'))
	print(os.getcwd())
except:
	pass

#%%
x=3
y=4


#%%
z=x+y


#%%
print(z)


#%%



