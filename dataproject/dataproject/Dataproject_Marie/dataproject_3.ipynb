{
 "cells": [
  {
   "cell_type": "markdown",
   "metadata": {},
   "source": [
    "# Data Analysis Project"
   ]
  },
  {
   "cell_type": "markdown",
   "metadata": {},
   "source": [
    "In our data project, we use data directly imported from the World Data Bank. We have chosen to focus on nine different countries: Brazil, China, Denmark, India, Japan, Nigeria, Spain, Turkmenista and the US. These countries are chosen because they are relatively different, which makes the analysis more interesting. The variables of interest are: GDP per Capita, GDP (current in US $), Total Population, Urban Population in %, Fertility Rate and Literacy Rate. \n",
    "\n",
    "The notebook is organized as follows \n",
    "1.\tData Cleaning and Structuring\n",
    "    - Setup\n",
    "    - Download Data directly from World Bank\n",
    "    - Overview of the Data and Adaption\n",
    "    - Detection of Missing Data\n",
    "    - Cleaned Data Set\n",
    "\n",
    "\n",
    "2.\tData Analysis and Visualisations \n",
    "    - Interactive GDP per Capital Plot \n",
    "    - World Map Displaying GDP per Capita \n",
    "    - Data Visualization on Fertility Rate \n",
    "\n",
    "\n",
    "3.\tRegression ?\n",
    "\n",
    "\n",
    " \n"
   ]
  },
  {
   "cell_type": "markdown",
   "metadata": {},
   "source": [
    "# Data Cleaning and Structuring"
   ]
  },
  {
   "cell_type": "markdown",
   "metadata": {},
   "source": [
    "## Setup"
   ]
  },
  {
   "cell_type": "code",
   "execution_count": 264,
   "metadata": {},
   "outputs": [],
   "source": [
    "import pandas as pd\n",
    "import numpy as np"
   ]
  },
  {
   "cell_type": "markdown",
   "metadata": {},
   "source": [
    "**We import the packages** we need. If we do not have the packages, we have to install them. Therefore, install:\n",
    ">`pip install pandas-datareader`\n",
    ">`pip install wbdata`"
   ]
  },
  {
   "cell_type": "code",
   "execution_count": 265,
   "metadata": {},
   "outputs": [],
   "source": [
    "import pandas_datareader\n",
    "import datetime"
   ]
  },
  {
   "cell_type": "markdown",
   "metadata": {},
   "source": [
    "We import the setup to download data directly from world data bank:"
   ]
  },
  {
   "cell_type": "code",
   "execution_count": 266,
   "metadata": {},
   "outputs": [],
   "source": [
    "from pandas_datareader import wb"
   ]
  },
  {
   "cell_type": "markdown",
   "metadata": {},
   "source": [
    "## Download Data directly from the World Data Bank "
   ]
  },
  {
   "cell_type": "markdown",
   "metadata": {},
   "source": [
    "We define the countries for the download:\n",
    "China, Japan, Brazil, U.S., Denmark, Spain, Turkmenistan, India, Nigeria."
   ]
  },
  {
   "cell_type": "code",
   "execution_count": 267,
   "metadata": {},
   "outputs": [],
   "source": [
    "countries = ['CN','JP','BR','US','DK','ES','TM','IN','NG']"
   ]
  },
  {
   "cell_type": "markdown",
   "metadata": {},
   "source": [
    "We define the indicators for the download:\n",
    "GDP per capita, GDP (current US $), Population total, Urban Population in %, Fertility Rate, Literacy rate."
   ]
  },
  {
   "cell_type": "code",
   "execution_count": 268,
   "metadata": {},
   "outputs": [],
   "source": [
    "indicators = {\"NY.GDP.PCAP.KD\":\"GDP per capita\", \"NY.GDP.MKTP.CD\":\"GDP(current US $)\", \"SP.POP.TOTL\":\"Population total\", \n",
    "              \"SP.URB.TOTL.IN.ZS\":\"Urban Population in %\", \"SP.DYN.TFRT.IN\":\"Fertility Rate\", \"SE.ADT.LITR.ZS\": \"Literacy rate, adult total in %\" }"
   ]
  },
  {
   "cell_type": "markdown",
   "metadata": {},
   "source": [
    "We download the data and have a look at the table."
   ]
  },
  {
   "cell_type": "code",
   "execution_count": 269,
   "metadata": {},
   "outputs": [
    {
     "data": {
      "text/html": [
       "<div>\n",
       "<style scoped>\n",
       "    .dataframe tbody tr th:only-of-type {\n",
       "        vertical-align: middle;\n",
       "    }\n",
       "\n",
       "    .dataframe tbody tr th {\n",
       "        vertical-align: top;\n",
       "    }\n",
       "\n",
       "    .dataframe thead th {\n",
       "        text-align: right;\n",
       "    }\n",
       "</style>\n",
       "<table border=\"1\" class=\"dataframe\">\n",
       "  <thead>\n",
       "    <tr style=\"text-align: right;\">\n",
       "      <th></th>\n",
       "      <th>country</th>\n",
       "      <th>year</th>\n",
       "      <th>gdp_pC</th>\n",
       "      <th>gdp</th>\n",
       "      <th>pop</th>\n",
       "      <th>urban_pop%</th>\n",
       "      <th>frt</th>\n",
       "      <th>litr</th>\n",
       "    </tr>\n",
       "  </thead>\n",
       "  <tbody>\n",
       "    <tr>\n",
       "      <th>0</th>\n",
       "      <td>Brazil</td>\n",
       "      <td>2017</td>\n",
       "      <td>10,888.9823851831</td>\n",
       "      <td>2,055,505,502,224.73</td>\n",
       "      <td>209288278</td>\n",
       "      <td>86.309</td>\n",
       "      <td>nan</td>\n",
       "      <td>nan</td>\n",
       "    </tr>\n",
       "    <tr>\n",
       "      <th>1</th>\n",
       "      <td>Brazil</td>\n",
       "      <td>2016</td>\n",
       "      <td>10,868.6534435352</td>\n",
       "      <td>1,793,989,048,409.29</td>\n",
       "      <td>207652865</td>\n",
       "      <td>86.042</td>\n",
       "      <td>1.726</td>\n",
       "      <td>nan</td>\n",
       "    </tr>\n",
       "    <tr>\n",
       "      <th>2</th>\n",
       "      <td>Brazil</td>\n",
       "      <td>2015</td>\n",
       "      <td>11,351.5657481703</td>\n",
       "      <td>1,802,214,373,741.32</td>\n",
       "      <td>205962108</td>\n",
       "      <td>85.77</td>\n",
       "      <td>1.74</td>\n",
       "      <td>92.0479</td>\n",
       "    </tr>\n",
       "    <tr>\n",
       "      <th>3</th>\n",
       "      <td>Brazil</td>\n",
       "      <td>2014</td>\n",
       "      <td>11,870.1484076345</td>\n",
       "      <td>2,455,993,625,159.37</td>\n",
       "      <td>204213133</td>\n",
       "      <td>85.492</td>\n",
       "      <td>1.753</td>\n",
       "      <td>91.7294299999999</td>\n",
       "    </tr>\n",
       "    <tr>\n",
       "      <th>4</th>\n",
       "      <td>Brazil</td>\n",
       "      <td>2013</td>\n",
       "      <td>11,915.4170541095</td>\n",
       "      <td>2,472,806,919,901.67</td>\n",
       "      <td>202408632</td>\n",
       "      <td>85.209</td>\n",
       "      <td>1.765</td>\n",
       "      <td>91.48424</td>\n",
       "    </tr>\n",
       "    <tr>\n",
       "      <th>5</th>\n",
       "      <td>Brazil</td>\n",
       "      <td>2012</td>\n",
       "      <td>11,673.7705356922</td>\n",
       "      <td>2,465,188,674,415.03</td>\n",
       "      <td>200560983</td>\n",
       "      <td>84.923</td>\n",
       "      <td>1.777</td>\n",
       "      <td>91.33785</td>\n",
       "    </tr>\n",
       "    <tr>\n",
       "      <th>6</th>\n",
       "      <td>Brazil</td>\n",
       "      <td>2011</td>\n",
       "      <td>11,560.4187506263</td>\n",
       "      <td>2,616,201,578,192.25</td>\n",
       "      <td>198686688</td>\n",
       "      <td>84.631</td>\n",
       "      <td>1.79</td>\n",
       "      <td>91.41124</td>\n",
       "    </tr>\n",
       "    <tr>\n",
       "      <th>7</th>\n",
       "      <td>Brazil</td>\n",
       "      <td>2010</td>\n",
       "      <td>11,224.1540829355</td>\n",
       "      <td>2,208,871,646,202.82</td>\n",
       "      <td>196796269</td>\n",
       "      <td>84.335</td>\n",
       "      <td>1.805</td>\n",
       "      <td>90.37918</td>\n",
       "    </tr>\n",
       "    <tr>\n",
       "      <th>8</th>\n",
       "      <td>Brazil</td>\n",
       "      <td>2009</td>\n",
       "      <td>10,538.7782816712</td>\n",
       "      <td>1,667,019,780,934.28</td>\n",
       "      <td>194895996</td>\n",
       "      <td>84.044</td>\n",
       "      <td>1.824</td>\n",
       "      <td>90.29821</td>\n",
       "    </tr>\n",
       "    <tr>\n",
       "      <th>9</th>\n",
       "      <td>Brazil</td>\n",
       "      <td>2008</td>\n",
       "      <td>10,656.869465705</td>\n",
       "      <td>1,695,824,571,927.15</td>\n",
       "      <td>192979029</td>\n",
       "      <td>83.749</td>\n",
       "      <td>1.851</td>\n",
       "      <td>90.03662</td>\n",
       "    </tr>\n",
       "    <tr>\n",
       "      <th>10</th>\n",
       "      <td>Brazil</td>\n",
       "      <td>2007</td>\n",
       "      <td>10,244.2671527554</td>\n",
       "      <td>1,397,084,345,950.39</td>\n",
       "      <td>191026637</td>\n",
       "      <td>83.448</td>\n",
       "      <td>1.884</td>\n",
       "      <td>90.00937</td>\n",
       "    </tr>\n",
       "    <tr>\n",
       "      <th>11</th>\n",
       "      <td>Brazil</td>\n",
       "      <td>2006</td>\n",
       "      <td>9,761.83428310215</td>\n",
       "      <td>1,107,640,297,889.95</td>\n",
       "      <td>189012412</td>\n",
       "      <td>83.143</td>\n",
       "      <td>1.926</td>\n",
       "      <td>89.61523</td>\n",
       "    </tr>\n",
       "    <tr>\n",
       "      <th>12</th>\n",
       "      <td>Brazil</td>\n",
       "      <td>2005</td>\n",
       "      <td>9,495.48465039729</td>\n",
       "      <td>891,630,175,813.342</td>\n",
       "      <td>186917361</td>\n",
       "      <td>82.834</td>\n",
       "      <td>1.975</td>\n",
       "      <td>nan</td>\n",
       "    </tr>\n",
       "    <tr>\n",
       "      <th>13</th>\n",
       "      <td>Brazil</td>\n",
       "      <td>2004</td>\n",
       "      <td>9,309.89205589422</td>\n",
       "      <td>669,316,654,017.094</td>\n",
       "      <td>184738458</td>\n",
       "      <td>82.521</td>\n",
       "      <td>2.033</td>\n",
       "      <td>88.61624</td>\n",
       "    </tr>\n",
       "    <tr>\n",
       "      <th>14</th>\n",
       "      <td>Brazil</td>\n",
       "      <td>2003</td>\n",
       "      <td>8,911.31951197477</td>\n",
       "      <td>558,319,920,831.979</td>\n",
       "      <td>182482149</td>\n",
       "      <td>82.203</td>\n",
       "      <td>2.096</td>\n",
       "      <td>nan</td>\n",
       "    </tr>\n",
       "    <tr>\n",
       "      <th>15</th>\n",
       "      <td>Brazil</td>\n",
       "      <td>2002</td>\n",
       "      <td>8,924.89696137144</td>\n",
       "      <td>507,962,487,700.024</td>\n",
       "      <td>180151021</td>\n",
       "      <td>81.88</td>\n",
       "      <td>2.163</td>\n",
       "      <td>nan</td>\n",
       "    </tr>\n",
       "    <tr>\n",
       "      <th>16</th>\n",
       "      <td>Brazil</td>\n",
       "      <td>2001</td>\n",
       "      <td>8,777.35713423328</td>\n",
       "      <td>559,372,276,081.966</td>\n",
       "      <td>177750670</td>\n",
       "      <td>81.553</td>\n",
       "      <td>2.232</td>\n",
       "      <td>nan</td>\n",
       "    </tr>\n",
       "    <tr>\n",
       "      <th>17</th>\n",
       "      <td>Brazil</td>\n",
       "      <td>2000</td>\n",
       "      <td>8,779.29079876564</td>\n",
       "      <td>655,420,645,476.906</td>\n",
       "      <td>175287587</td>\n",
       "      <td>81.192</td>\n",
       "      <td>2.3</td>\n",
       "      <td>86.36788</td>\n",
       "    </tr>\n",
       "    <tr>\n",
       "      <th>18</th>\n",
       "      <td>Brazil</td>\n",
       "      <td>1999</td>\n",
       "      <td>8,555.91567025826</td>\n",
       "      <td>599,388,579,985.673</td>\n",
       "      <td>172759243</td>\n",
       "      <td>80.496</td>\n",
       "      <td>2.365</td>\n",
       "      <td>nan</td>\n",
       "    </tr>\n",
       "    <tr>\n",
       "      <th>19</th>\n",
       "      <td>Brazil</td>\n",
       "      <td>1998</td>\n",
       "      <td>8,645.51339686202</td>\n",
       "      <td>863,723,411,632.917</td>\n",
       "      <td>170170640</td>\n",
       "      <td>79.781</td>\n",
       "      <td>2.426</td>\n",
       "      <td>nan</td>\n",
       "    </tr>\n",
       "    <tr>\n",
       "      <th>20</th>\n",
       "      <td>Brazil</td>\n",
       "      <td>1997</td>\n",
       "      <td>8,751.37999012428</td>\n",
       "      <td>883,199,625,324.675</td>\n",
       "      <td>167545164</td>\n",
       "      <td>79.048</td>\n",
       "      <td>2.482</td>\n",
       "      <td>nan</td>\n",
       "    </tr>\n",
       "    <tr>\n",
       "      <th>21</th>\n",
       "      <td>Brazil</td>\n",
       "      <td>1996</td>\n",
       "      <td>8,599.10164747379</td>\n",
       "      <td>850,426,432,991.742</td>\n",
       "      <td>164913306</td>\n",
       "      <td>78.302</td>\n",
       "      <td>2.535</td>\n",
       "      <td>nan</td>\n",
       "    </tr>\n",
       "    <tr>\n",
       "      <th>22</th>\n",
       "      <td>Brazil</td>\n",
       "      <td>1995</td>\n",
       "      <td>8,549.02151963917</td>\n",
       "      <td>769,305,386,182.849</td>\n",
       "      <td>162296612</td>\n",
       "      <td>77.61</td>\n",
       "      <td>2.586</td>\n",
       "      <td>nan</td>\n",
       "    </tr>\n",
       "    <tr>\n",
       "      <th>23</th>\n",
       "      <td>Brazil</td>\n",
       "      <td>1994</td>\n",
       "      <td>8,320.26047469075</td>\n",
       "      <td>558,111,997,497.263</td>\n",
       "      <td>159705123</td>\n",
       "      <td>76.903</td>\n",
       "      <td>2.638</td>\n",
       "      <td>nan</td>\n",
       "    </tr>\n",
       "    <tr>\n",
       "      <th>24</th>\n",
       "      <td>Brazil</td>\n",
       "      <td>1993</td>\n",
       "      <td>8,028.20392729677</td>\n",
       "      <td>437,798,577,639.752</td>\n",
       "      <td>157132682</td>\n",
       "      <td>76.181</td>\n",
       "      <td>2.694</td>\n",
       "      <td>nan</td>\n",
       "    </tr>\n",
       "    <tr>\n",
       "      <th>25</th>\n",
       "      <td>Brazil</td>\n",
       "      <td>1992</td>\n",
       "      <td>7,797.82726064772</td>\n",
       "      <td>400,599,250,000.0</td>\n",
       "      <td>154564278</td>\n",
       "      <td>75.444</td>\n",
       "      <td>2.756</td>\n",
       "      <td>nan</td>\n",
       "    </tr>\n",
       "    <tr>\n",
       "      <th>26</th>\n",
       "      <td>Brazil</td>\n",
       "      <td>1991</td>\n",
       "      <td>7,967.80337761803</td>\n",
       "      <td>602,860,000,000.0</td>\n",
       "      <td>151976577</td>\n",
       "      <td>74.69</td>\n",
       "      <td>2.827</td>\n",
       "      <td>nan</td>\n",
       "    </tr>\n",
       "    <tr>\n",
       "      <th>27</th>\n",
       "      <td>Brazil</td>\n",
       "      <td>1990</td>\n",
       "      <td>7,987.05521589932</td>\n",
       "      <td>461,951,782,000.0</td>\n",
       "      <td>149352145</td>\n",
       "      <td>73.922</td>\n",
       "      <td>2.909</td>\n",
       "      <td>nan</td>\n",
       "    </tr>\n",
       "    <tr>\n",
       "      <th>28</th>\n",
       "      <td>China</td>\n",
       "      <td>2017</td>\n",
       "      <td>7,329.08929913216</td>\n",
       "      <td>12,237,700,479,375.0</td>\n",
       "      <td>1386395000</td>\n",
       "      <td>57.96</td>\n",
       "      <td>nan</td>\n",
       "      <td>nan</td>\n",
       "    </tr>\n",
       "    <tr>\n",
       "      <th>29</th>\n",
       "      <td>China</td>\n",
       "      <td>2016</td>\n",
       "      <td>6,894.46452231334</td>\n",
       "      <td>11,190,992,550,229.5</td>\n",
       "      <td>1378665000</td>\n",
       "      <td>56.736</td>\n",
       "      <td>1.624</td>\n",
       "      <td>nan</td>\n",
       "    </tr>\n",
       "    <tr>\n",
       "      <th>...</th>\n",
       "      <td>...</td>\n",
       "      <td>...</td>\n",
       "      <td>...</td>\n",
       "      <td>...</td>\n",
       "      <td>...</td>\n",
       "      <td>...</td>\n",
       "      <td>...</td>\n",
       "      <td>...</td>\n",
       "    </tr>\n",
       "    <tr>\n",
       "      <th>217</th>\n",
       "      <td>Turkmenistan</td>\n",
       "      <td>1996</td>\n",
       "      <td>2,151.27256388421</td>\n",
       "      <td>2,378,759,975.44506</td>\n",
       "      <td>4287344</td>\n",
       "      <td>45.018</td>\n",
       "      <td>3.323</td>\n",
       "      <td>nan</td>\n",
       "    </tr>\n",
       "    <tr>\n",
       "      <th>218</th>\n",
       "      <td>Turkmenistan</td>\n",
       "      <td>1995</td>\n",
       "      <td>2,054.28248952347</td>\n",
       "      <td>2,474,614,242.04624</td>\n",
       "      <td>4207840</td>\n",
       "      <td>44.794</td>\n",
       "      <td>3.512</td>\n",
       "      <td>98.7783199999999</td>\n",
       "    </tr>\n",
       "    <tr>\n",
       "      <th>219</th>\n",
       "      <td>Turkmenistan</td>\n",
       "      <td>1994</td>\n",
       "      <td>2,263.55634511393</td>\n",
       "      <td>2,496,503,230.62143</td>\n",
       "      <td>4115099</td>\n",
       "      <td>44.734</td>\n",
       "      <td>3.707</td>\n",
       "      <td>nan</td>\n",
       "    </tr>\n",
       "    <tr>\n",
       "      <th>220</th>\n",
       "      <td>Turkmenistan</td>\n",
       "      <td>1993</td>\n",
       "      <td>2,808.24852807561</td>\n",
       "      <td>3,172,880,188.20473</td>\n",
       "      <td>4010789</td>\n",
       "      <td>44.819</td>\n",
       "      <td>3.898</td>\n",
       "      <td>nan</td>\n",
       "    </tr>\n",
       "    <tr>\n",
       "      <th>221</th>\n",
       "      <td>Turkmenistan</td>\n",
       "      <td>1992</td>\n",
       "      <td>2,845.45805844167</td>\n",
       "      <td>3,200,539,816.0601</td>\n",
       "      <td>3899843</td>\n",
       "      <td>44.904</td>\n",
       "      <td>4.071</td>\n",
       "      <td>nan</td>\n",
       "    </tr>\n",
       "    <tr>\n",
       "      <th>222</th>\n",
       "      <td>Turkmenistan</td>\n",
       "      <td>1991</td>\n",
       "      <td>3,443.98162335797</td>\n",
       "      <td>3,208,098,919.0146</td>\n",
       "      <td>3789185</td>\n",
       "      <td>44.99</td>\n",
       "      <td>4.222</td>\n",
       "      <td>nan</td>\n",
       "    </tr>\n",
       "    <tr>\n",
       "      <th>223</th>\n",
       "      <td>Turkmenistan</td>\n",
       "      <td>1990</td>\n",
       "      <td>3,713.35617421929</td>\n",
       "      <td>3,189,539,641.3171</td>\n",
       "      <td>3683966</td>\n",
       "      <td>45.075</td>\n",
       "      <td>4.344</td>\n",
       "      <td>nan</td>\n",
       "    </tr>\n",
       "    <tr>\n",
       "      <th>224</th>\n",
       "      <td>United States</td>\n",
       "      <td>2017</td>\n",
       "      <td>53,128.5396999252</td>\n",
       "      <td>19,390,604,000,000.0</td>\n",
       "      <td>325719178</td>\n",
       "      <td>82.058</td>\n",
       "      <td>nan</td>\n",
       "      <td>nan</td>\n",
       "    </tr>\n",
       "    <tr>\n",
       "      <th>225</th>\n",
       "      <td>United States</td>\n",
       "      <td>2016</td>\n",
       "      <td>52,319.1633505427</td>\n",
       "      <td>18,624,475,000,000.0</td>\n",
       "      <td>323405935</td>\n",
       "      <td>81.862</td>\n",
       "      <td>1.8</td>\n",
       "      <td>nan</td>\n",
       "    </tr>\n",
       "    <tr>\n",
       "      <th>226</th>\n",
       "      <td>United States</td>\n",
       "      <td>2015</td>\n",
       "      <td>51,933.4048064982</td>\n",
       "      <td>18,120,714,000,000.0</td>\n",
       "      <td>321039839</td>\n",
       "      <td>81.671</td>\n",
       "      <td>1.8435</td>\n",
       "      <td>nan</td>\n",
       "    </tr>\n",
       "    <tr>\n",
       "      <th>227</th>\n",
       "      <td>United States</td>\n",
       "      <td>2014</td>\n",
       "      <td>50,871.674083306</td>\n",
       "      <td>17,427,609,000,000.0</td>\n",
       "      <td>318622525</td>\n",
       "      <td>81.483</td>\n",
       "      <td>1.8625</td>\n",
       "      <td>nan</td>\n",
       "    </tr>\n",
       "    <tr>\n",
       "      <th>228</th>\n",
       "      <td>United States</td>\n",
       "      <td>2013</td>\n",
       "      <td>49,971.9513571108</td>\n",
       "      <td>16,691,517,000,000.0</td>\n",
       "      <td>316234505</td>\n",
       "      <td>81.299</td>\n",
       "      <td>1.8575</td>\n",
       "      <td>nan</td>\n",
       "    </tr>\n",
       "    <tr>\n",
       "      <th>229</th>\n",
       "      <td>United States</td>\n",
       "      <td>2012</td>\n",
       "      <td>49,498.3909155226</td>\n",
       "      <td>16,155,255,000,000.0</td>\n",
       "      <td>313993272</td>\n",
       "      <td>81.119</td>\n",
       "      <td>1.8805</td>\n",
       "      <td>nan</td>\n",
       "    </tr>\n",
       "    <tr>\n",
       "      <th>230</th>\n",
       "      <td>United States</td>\n",
       "      <td>2011</td>\n",
       "      <td>48,786.4549755253</td>\n",
       "      <td>15,517,926,000,000.0</td>\n",
       "      <td>311644280</td>\n",
       "      <td>80.944</td>\n",
       "      <td>1.8945</td>\n",
       "      <td>nan</td>\n",
       "    </tr>\n",
       "    <tr>\n",
       "      <th>231</th>\n",
       "      <td>United States</td>\n",
       "      <td>2010</td>\n",
       "      <td>48,375.4069462972</td>\n",
       "      <td>14,964,372,000,000.0</td>\n",
       "      <td>309338421</td>\n",
       "      <td>80.772</td>\n",
       "      <td>1.931</td>\n",
       "      <td>nan</td>\n",
       "    </tr>\n",
       "    <tr>\n",
       "      <th>232</th>\n",
       "      <td>United States</td>\n",
       "      <td>2009</td>\n",
       "      <td>47,575.608562749</td>\n",
       "      <td>14,418,739,000,000.0</td>\n",
       "      <td>306771529</td>\n",
       "      <td>80.606</td>\n",
       "      <td>2.002</td>\n",
       "      <td>nan</td>\n",
       "    </tr>\n",
       "    <tr>\n",
       "      <th>233</th>\n",
       "      <td>United States</td>\n",
       "      <td>2008</td>\n",
       "      <td>49,364.6445500336</td>\n",
       "      <td>14,718,582,000,000.0</td>\n",
       "      <td>304093966</td>\n",
       "      <td>80.438</td>\n",
       "      <td>2.072</td>\n",
       "      <td>nan</td>\n",
       "    </tr>\n",
       "    <tr>\n",
       "      <th>234</th>\n",
       "      <td>United States</td>\n",
       "      <td>2007</td>\n",
       "      <td>49,979.5338429195</td>\n",
       "      <td>14,477,635,000,000.0</td>\n",
       "      <td>301231207</td>\n",
       "      <td>80.269</td>\n",
       "      <td>2.12</td>\n",
       "      <td>nan</td>\n",
       "    </tr>\n",
       "    <tr>\n",
       "      <th>235</th>\n",
       "      <td>United States</td>\n",
       "      <td>2006</td>\n",
       "      <td>49,575.401013591</td>\n",
       "      <td>13,855,888,000,000.0</td>\n",
       "      <td>298379912</td>\n",
       "      <td>80.099</td>\n",
       "      <td>2.108</td>\n",
       "      <td>nan</td>\n",
       "    </tr>\n",
       "    <tr>\n",
       "      <th>236</th>\n",
       "      <td>United States</td>\n",
       "      <td>2005</td>\n",
       "      <td>48,755.6160606735</td>\n",
       "      <td>13,093,726,000,000.0</td>\n",
       "      <td>295516599</td>\n",
       "      <td>79.928</td>\n",
       "      <td>2.057</td>\n",
       "      <td>nan</td>\n",
       "    </tr>\n",
       "    <tr>\n",
       "      <th>237</th>\n",
       "      <td>United States</td>\n",
       "      <td>2004</td>\n",
       "      <td>47,614.2798621765</td>\n",
       "      <td>12,274,928,000,000.0</td>\n",
       "      <td>292805298</td>\n",
       "      <td>79.757</td>\n",
       "      <td>2.0515</td>\n",
       "      <td>nan</td>\n",
       "    </tr>\n",
       "    <tr>\n",
       "      <th>238</th>\n",
       "      <td>United States</td>\n",
       "      <td>2003</td>\n",
       "      <td>46,304.0360895612</td>\n",
       "      <td>11,510,670,000,000.0</td>\n",
       "      <td>290107933</td>\n",
       "      <td>79.583</td>\n",
       "      <td>2.0475</td>\n",
       "      <td>nan</td>\n",
       "    </tr>\n",
       "    <tr>\n",
       "      <th>239</th>\n",
       "      <td>United States</td>\n",
       "      <td>2002</td>\n",
       "      <td>45,428.6456781274</td>\n",
       "      <td>10,977,514,000,000.0</td>\n",
       "      <td>287625193</td>\n",
       "      <td>79.409</td>\n",
       "      <td>2.0205</td>\n",
       "      <td>nan</td>\n",
       "    </tr>\n",
       "    <tr>\n",
       "      <th>240</th>\n",
       "      <td>United States</td>\n",
       "      <td>2001</td>\n",
       "      <td>45,047.4871976844</td>\n",
       "      <td>10,621,824,000,000.0</td>\n",
       "      <td>284968955</td>\n",
       "      <td>79.234</td>\n",
       "      <td>2.0305</td>\n",
       "      <td>nan</td>\n",
       "    </tr>\n",
       "    <tr>\n",
       "      <th>241</th>\n",
       "      <td>United States</td>\n",
       "      <td>2000</td>\n",
       "      <td>45,055.817918284</td>\n",
       "      <td>10,284,779,000,000.0</td>\n",
       "      <td>282162411</td>\n",
       "      <td>79.057</td>\n",
       "      <td>2.056</td>\n",
       "      <td>nan</td>\n",
       "    </tr>\n",
       "    <tr>\n",
       "      <th>242</th>\n",
       "      <td>United States</td>\n",
       "      <td>1999</td>\n",
       "      <td>43,768.8849928326</td>\n",
       "      <td>9,660,624,000,000.0</td>\n",
       "      <td>279040000</td>\n",
       "      <td>78.742</td>\n",
       "      <td>2.0075</td>\n",
       "      <td>nan</td>\n",
       "    </tr>\n",
       "    <tr>\n",
       "      <th>243</th>\n",
       "      <td>United States</td>\n",
       "      <td>1998</td>\n",
       "      <td>42,292.8912011426</td>\n",
       "      <td>9,089,168,000,000.0</td>\n",
       "      <td>275854000</td>\n",
       "      <td>78.377</td>\n",
       "      <td>1.999</td>\n",
       "      <td>nan</td>\n",
       "    </tr>\n",
       "    <tr>\n",
       "      <th>244</th>\n",
       "      <td>United States</td>\n",
       "      <td>1997</td>\n",
       "      <td>40,965.8466450522</td>\n",
       "      <td>8,608,515,000,000.0</td>\n",
       "      <td>272657000</td>\n",
       "      <td>78.008</td>\n",
       "      <td>1.971</td>\n",
       "      <td>nan</td>\n",
       "    </tr>\n",
       "    <tr>\n",
       "      <th>245</th>\n",
       "      <td>United States</td>\n",
       "      <td>1996</td>\n",
       "      <td>39,681.5198579033</td>\n",
       "      <td>8,100,201,000,000.0</td>\n",
       "      <td>269394000</td>\n",
       "      <td>77.636</td>\n",
       "      <td>1.976</td>\n",
       "      <td>nan</td>\n",
       "    </tr>\n",
       "    <tr>\n",
       "      <th>246</th>\n",
       "      <td>United States</td>\n",
       "      <td>1995</td>\n",
       "      <td>38,677.7150883663</td>\n",
       "      <td>7,664,060,000,000.0</td>\n",
       "      <td>266278000</td>\n",
       "      <td>77.257</td>\n",
       "      <td>1.978</td>\n",
       "      <td>nan</td>\n",
       "    </tr>\n",
       "  </tbody>\n",
       "</table>\n",
       "<p>247 rows × 8 columns</p>\n",
       "</div>"
      ],
      "text/plain": [
       "           country  year            gdp_pC                  gdp         pop  \\\n",
       "0           Brazil  2017 10,888.9823851831 2,055,505,502,224.73   209288278   \n",
       "1           Brazil  2016 10,868.6534435352 1,793,989,048,409.29   207652865   \n",
       "2           Brazil  2015 11,351.5657481703 1,802,214,373,741.32   205962108   \n",
       "3           Brazil  2014 11,870.1484076345 2,455,993,625,159.37   204213133   \n",
       "4           Brazil  2013 11,915.4170541095 2,472,806,919,901.67   202408632   \n",
       "5           Brazil  2012 11,673.7705356922 2,465,188,674,415.03   200560983   \n",
       "6           Brazil  2011 11,560.4187506263 2,616,201,578,192.25   198686688   \n",
       "7           Brazil  2010 11,224.1540829355 2,208,871,646,202.82   196796269   \n",
       "8           Brazil  2009 10,538.7782816712 1,667,019,780,934.28   194895996   \n",
       "9           Brazil  2008  10,656.869465705 1,695,824,571,927.15   192979029   \n",
       "10          Brazil  2007 10,244.2671527554 1,397,084,345,950.39   191026637   \n",
       "11          Brazil  2006 9,761.83428310215 1,107,640,297,889.95   189012412   \n",
       "12          Brazil  2005 9,495.48465039729  891,630,175,813.342   186917361   \n",
       "13          Brazil  2004 9,309.89205589422  669,316,654,017.094   184738458   \n",
       "14          Brazil  2003 8,911.31951197477  558,319,920,831.979   182482149   \n",
       "15          Brazil  2002 8,924.89696137144  507,962,487,700.024   180151021   \n",
       "16          Brazil  2001 8,777.35713423328  559,372,276,081.966   177750670   \n",
       "17          Brazil  2000 8,779.29079876564  655,420,645,476.906   175287587   \n",
       "18          Brazil  1999 8,555.91567025826  599,388,579,985.673   172759243   \n",
       "19          Brazil  1998 8,645.51339686202  863,723,411,632.917   170170640   \n",
       "20          Brazil  1997 8,751.37999012428  883,199,625,324.675   167545164   \n",
       "21          Brazil  1996 8,599.10164747379  850,426,432,991.742   164913306   \n",
       "22          Brazil  1995 8,549.02151963917  769,305,386,182.849   162296612   \n",
       "23          Brazil  1994 8,320.26047469075  558,111,997,497.263   159705123   \n",
       "24          Brazil  1993 8,028.20392729677  437,798,577,639.752   157132682   \n",
       "25          Brazil  1992 7,797.82726064772    400,599,250,000.0   154564278   \n",
       "26          Brazil  1991 7,967.80337761803    602,860,000,000.0   151976577   \n",
       "27          Brazil  1990 7,987.05521589932    461,951,782,000.0   149352145   \n",
       "28           China  2017 7,329.08929913216 12,237,700,479,375.0  1386395000   \n",
       "29           China  2016 6,894.46452231334 11,190,992,550,229.5  1378665000   \n",
       "..             ...   ...               ...                  ...         ...   \n",
       "217   Turkmenistan  1996 2,151.27256388421  2,378,759,975.44506     4287344   \n",
       "218   Turkmenistan  1995 2,054.28248952347  2,474,614,242.04624     4207840   \n",
       "219   Turkmenistan  1994 2,263.55634511393  2,496,503,230.62143     4115099   \n",
       "220   Turkmenistan  1993 2,808.24852807561  3,172,880,188.20473     4010789   \n",
       "221   Turkmenistan  1992 2,845.45805844167   3,200,539,816.0601     3899843   \n",
       "222   Turkmenistan  1991 3,443.98162335797   3,208,098,919.0146     3789185   \n",
       "223   Turkmenistan  1990 3,713.35617421929   3,189,539,641.3171     3683966   \n",
       "224  United States  2017 53,128.5396999252 19,390,604,000,000.0   325719178   \n",
       "225  United States  2016 52,319.1633505427 18,624,475,000,000.0   323405935   \n",
       "226  United States  2015 51,933.4048064982 18,120,714,000,000.0   321039839   \n",
       "227  United States  2014  50,871.674083306 17,427,609,000,000.0   318622525   \n",
       "228  United States  2013 49,971.9513571108 16,691,517,000,000.0   316234505   \n",
       "229  United States  2012 49,498.3909155226 16,155,255,000,000.0   313993272   \n",
       "230  United States  2011 48,786.4549755253 15,517,926,000,000.0   311644280   \n",
       "231  United States  2010 48,375.4069462972 14,964,372,000,000.0   309338421   \n",
       "232  United States  2009  47,575.608562749 14,418,739,000,000.0   306771529   \n",
       "233  United States  2008 49,364.6445500336 14,718,582,000,000.0   304093966   \n",
       "234  United States  2007 49,979.5338429195 14,477,635,000,000.0   301231207   \n",
       "235  United States  2006  49,575.401013591 13,855,888,000,000.0   298379912   \n",
       "236  United States  2005 48,755.6160606735 13,093,726,000,000.0   295516599   \n",
       "237  United States  2004 47,614.2798621765 12,274,928,000,000.0   292805298   \n",
       "238  United States  2003 46,304.0360895612 11,510,670,000,000.0   290107933   \n",
       "239  United States  2002 45,428.6456781274 10,977,514,000,000.0   287625193   \n",
       "240  United States  2001 45,047.4871976844 10,621,824,000,000.0   284968955   \n",
       "241  United States  2000  45,055.817918284 10,284,779,000,000.0   282162411   \n",
       "242  United States  1999 43,768.8849928326  9,660,624,000,000.0   279040000   \n",
       "243  United States  1998 42,292.8912011426  9,089,168,000,000.0   275854000   \n",
       "244  United States  1997 40,965.8466450522  8,608,515,000,000.0   272657000   \n",
       "245  United States  1996 39,681.5198579033  8,100,201,000,000.0   269394000   \n",
       "246  United States  1995 38,677.7150883663  7,664,060,000,000.0   266278000   \n",
       "\n",
       "     urban_pop%    frt             litr  \n",
       "0        86.309    nan              nan  \n",
       "1        86.042  1.726              nan  \n",
       "2         85.77   1.74          92.0479  \n",
       "3        85.492  1.753 91.7294299999999  \n",
       "4        85.209  1.765         91.48424  \n",
       "5        84.923  1.777         91.33785  \n",
       "6        84.631   1.79         91.41124  \n",
       "7        84.335  1.805         90.37918  \n",
       "8        84.044  1.824         90.29821  \n",
       "9        83.749  1.851         90.03662  \n",
       "10       83.448  1.884         90.00937  \n",
       "11       83.143  1.926         89.61523  \n",
       "12       82.834  1.975              nan  \n",
       "13       82.521  2.033         88.61624  \n",
       "14       82.203  2.096              nan  \n",
       "15        81.88  2.163              nan  \n",
       "16       81.553  2.232              nan  \n",
       "17       81.192    2.3         86.36788  \n",
       "18       80.496  2.365              nan  \n",
       "19       79.781  2.426              nan  \n",
       "20       79.048  2.482              nan  \n",
       "21       78.302  2.535              nan  \n",
       "22        77.61  2.586              nan  \n",
       "23       76.903  2.638              nan  \n",
       "24       76.181  2.694              nan  \n",
       "25       75.444  2.756              nan  \n",
       "26        74.69  2.827              nan  \n",
       "27       73.922  2.909              nan  \n",
       "28        57.96    nan              nan  \n",
       "29       56.736  1.624              nan  \n",
       "..          ...    ...              ...  \n",
       "217      45.018  3.323              nan  \n",
       "218      44.794  3.512 98.7783199999999  \n",
       "219      44.734  3.707              nan  \n",
       "220      44.819  3.898              nan  \n",
       "221      44.904  4.071              nan  \n",
       "222       44.99  4.222              nan  \n",
       "223      45.075  4.344              nan  \n",
       "224      82.058    nan              nan  \n",
       "225      81.862    1.8              nan  \n",
       "226      81.671 1.8435              nan  \n",
       "227      81.483 1.8625              nan  \n",
       "228      81.299 1.8575              nan  \n",
       "229      81.119 1.8805              nan  \n",
       "230      80.944 1.8945              nan  \n",
       "231      80.772  1.931              nan  \n",
       "232      80.606  2.002              nan  \n",
       "233      80.438  2.072              nan  \n",
       "234      80.269   2.12              nan  \n",
       "235      80.099  2.108              nan  \n",
       "236      79.928  2.057              nan  \n",
       "237      79.757 2.0515              nan  \n",
       "238      79.583 2.0475              nan  \n",
       "239      79.409 2.0205              nan  \n",
       "240      79.234 2.0305              nan  \n",
       "241      79.057  2.056              nan  \n",
       "242      78.742 2.0075              nan  \n",
       "243      78.377  1.999              nan  \n",
       "244      78.008  1.971              nan  \n",
       "245      77.636  1.976              nan  \n",
       "246      77.257  1.978              nan  \n",
       "\n",
       "[247 rows x 8 columns]"
      ]
     },
     "execution_count": 269,
     "metadata": {},
     "output_type": "execute_result"
    }
   ],
   "source": [
    "data_wb = wb.download(indicator= indicators, country= countries, start=1990, end=2017)\n",
    "data_wb = data_wb.rename(columns = {\"NY.GDP.PCAP.KD\":\"gdp_pC\",\"NY.GDP.MKTP.CD\":\"gdp\", \"SP.POP.TOTL\":\"pop\", \"SP.URB.TOTL.IN.ZS\":\"urban_pop%\", \n",
    "                                    \"SP.DYN.TFRT.IN\":\"frt\", \"SE.ADT.LITR.ZS\":\"litr\"})\n",
    "data_wb = data_wb.reset_index()\n",
    "data_wb.head(-5)"
   ]
  },
  {
   "cell_type": "markdown",
   "metadata": {},
   "source": [
    "We save the data file as an excel sheet in the folder we saved the current file."
   ]
  },
  {
   "cell_type": "code",
   "execution_count": 270,
   "metadata": {},
   "outputs": [],
   "source": [
    "writer = pd.ExcelWriter('pandas_simple.xlsx', engine='xlsxwriter')\n",
    "data_wb.to_excel(r\"./data_wb1.xlsx\")"
   ]
  },
  {
   "cell_type": "markdown",
   "metadata": {},
   "source": [
    "## Overview of the Data and Adaption"
   ]
  },
  {
   "cell_type": "code",
   "execution_count": 271,
   "metadata": {},
   "outputs": [
    {
     "data": {
      "text/plain": [
       "country        object\n",
       "year           object\n",
       "gdp_pC        float64\n",
       "gdp           float64\n",
       "pop             int64\n",
       "urban_pop%    float64\n",
       "frt           float64\n",
       "litr          float64\n",
       "dtype: object"
      ]
     },
     "execution_count": 271,
     "metadata": {},
     "output_type": "execute_result"
    }
   ],
   "source": [
    "#Tonje \n",
    "data_wb.dtypes"
   ]
  },
  {
   "cell_type": "markdown",
   "metadata": {},
   "source": [
    "In order to ease the reading of the tables, we create a separation in all floats for the whole following file. Afterwards, we round the numbers with two decimals."
   ]
  },
  {
   "cell_type": "code",
   "execution_count": 272,
   "metadata": {},
   "outputs": [
    {
     "data": {
      "text/html": [
       "<div>\n",
       "<style scoped>\n",
       "    .dataframe tbody tr th:only-of-type {\n",
       "        vertical-align: middle;\n",
       "    }\n",
       "\n",
       "    .dataframe tbody tr th {\n",
       "        vertical-align: top;\n",
       "    }\n",
       "\n",
       "    .dataframe thead th {\n",
       "        text-align: right;\n",
       "    }\n",
       "</style>\n",
       "<table border=\"1\" class=\"dataframe\">\n",
       "  <thead>\n",
       "    <tr style=\"text-align: right;\">\n",
       "      <th></th>\n",
       "      <th>country</th>\n",
       "      <th>year</th>\n",
       "      <th>gdp_pC</th>\n",
       "      <th>gdp</th>\n",
       "      <th>pop</th>\n",
       "      <th>urban_pop%</th>\n",
       "      <th>frt</th>\n",
       "      <th>litr</th>\n",
       "    </tr>\n",
       "  </thead>\n",
       "  <tbody>\n",
       "    <tr>\n",
       "      <th>0</th>\n",
       "      <td>Brazil</td>\n",
       "      <td>2017</td>\n",
       "      <td>10,888.98</td>\n",
       "      <td>2,055,505,502,224.73</td>\n",
       "      <td>209288278</td>\n",
       "      <td>86.31</td>\n",
       "      <td>nan</td>\n",
       "      <td>nan</td>\n",
       "    </tr>\n",
       "    <tr>\n",
       "      <th>1</th>\n",
       "      <td>Brazil</td>\n",
       "      <td>2016</td>\n",
       "      <td>10,868.65</td>\n",
       "      <td>1,793,989,048,409.29</td>\n",
       "      <td>207652865</td>\n",
       "      <td>86.04</td>\n",
       "      <td>1.73</td>\n",
       "      <td>nan</td>\n",
       "    </tr>\n",
       "    <tr>\n",
       "      <th>2</th>\n",
       "      <td>Brazil</td>\n",
       "      <td>2015</td>\n",
       "      <td>11,351.57</td>\n",
       "      <td>1,802,214,373,741.32</td>\n",
       "      <td>205962108</td>\n",
       "      <td>85.77</td>\n",
       "      <td>1.74</td>\n",
       "      <td>92.05</td>\n",
       "    </tr>\n",
       "    <tr>\n",
       "      <th>3</th>\n",
       "      <td>Brazil</td>\n",
       "      <td>2014</td>\n",
       "      <td>11,870.15</td>\n",
       "      <td>2,455,993,625,159.37</td>\n",
       "      <td>204213133</td>\n",
       "      <td>85.49</td>\n",
       "      <td>1.75</td>\n",
       "      <td>91.73</td>\n",
       "    </tr>\n",
       "    <tr>\n",
       "      <th>4</th>\n",
       "      <td>Brazil</td>\n",
       "      <td>2013</td>\n",
       "      <td>11,915.42</td>\n",
       "      <td>2,472,806,919,901.67</td>\n",
       "      <td>202408632</td>\n",
       "      <td>85.21</td>\n",
       "      <td>1.76</td>\n",
       "      <td>91.48</td>\n",
       "    </tr>\n",
       "  </tbody>\n",
       "</table>\n",
       "</div>"
      ],
      "text/plain": [
       "  country  year    gdp_pC                  gdp        pop  urban_pop%  frt  \\\n",
       "0  Brazil  2017 10,888.98 2,055,505,502,224.73  209288278       86.31  nan   \n",
       "1  Brazil  2016 10,868.65 1,793,989,048,409.29  207652865       86.04 1.73   \n",
       "2  Brazil  2015 11,351.57 1,802,214,373,741.32  205962108       85.77 1.74   \n",
       "3  Brazil  2014 11,870.15 2,455,993,625,159.37  204213133       85.49 1.75   \n",
       "4  Brazil  2013 11,915.42 2,472,806,919,901.67  202408632       85.21 1.76   \n",
       "\n",
       "   litr  \n",
       "0   nan  \n",
       "1   nan  \n",
       "2 92.05  \n",
       "3 91.73  \n",
       "4 91.48  "
      ]
     },
     "execution_count": 272,
     "metadata": {},
     "output_type": "execute_result"
    }
   ],
   "source": [
    "pd.options.display.float_format = '{:,}'.format\n",
    "\n",
    "round(data_wb.head(),2)"
   ]
  },
  {
   "cell_type": "markdown",
   "metadata": {},
   "source": [
    "Since the gdp is inconvenient to work with, we create a new variable gdp_in_billions showing the gdp in billions US $ and add it to the dataset.\n",
    "We have a look at the table to check whether it worked out."
   ]
  },
  {
   "cell_type": "code",
   "execution_count": 273,
   "metadata": {},
   "outputs": [
    {
     "data": {
      "text/html": [
       "<div>\n",
       "<style scoped>\n",
       "    .dataframe tbody tr th:only-of-type {\n",
       "        vertical-align: middle;\n",
       "    }\n",
       "\n",
       "    .dataframe tbody tr th {\n",
       "        vertical-align: top;\n",
       "    }\n",
       "\n",
       "    .dataframe thead th {\n",
       "        text-align: right;\n",
       "    }\n",
       "</style>\n",
       "<table border=\"1\" class=\"dataframe\">\n",
       "  <thead>\n",
       "    <tr style=\"text-align: right;\">\n",
       "      <th></th>\n",
       "      <th>country</th>\n",
       "      <th>year</th>\n",
       "      <th>gdp_pC</th>\n",
       "      <th>gdp</th>\n",
       "      <th>pop</th>\n",
       "      <th>urban_pop%</th>\n",
       "      <th>frt</th>\n",
       "      <th>litr</th>\n",
       "      <th>gdp_in_bil</th>\n",
       "    </tr>\n",
       "  </thead>\n",
       "  <tbody>\n",
       "    <tr>\n",
       "      <th>0</th>\n",
       "      <td>Brazil</td>\n",
       "      <td>2017</td>\n",
       "      <td>10,888.98</td>\n",
       "      <td>2,055,505,502,224.73</td>\n",
       "      <td>209288278</td>\n",
       "      <td>86.31</td>\n",
       "      <td>nan</td>\n",
       "      <td>nan</td>\n",
       "      <td>2,055.51</td>\n",
       "    </tr>\n",
       "    <tr>\n",
       "      <th>1</th>\n",
       "      <td>Brazil</td>\n",
       "      <td>2016</td>\n",
       "      <td>10,868.65</td>\n",
       "      <td>1,793,989,048,409.29</td>\n",
       "      <td>207652865</td>\n",
       "      <td>86.04</td>\n",
       "      <td>1.73</td>\n",
       "      <td>nan</td>\n",
       "      <td>1,793.99</td>\n",
       "    </tr>\n",
       "    <tr>\n",
       "      <th>2</th>\n",
       "      <td>Brazil</td>\n",
       "      <td>2015</td>\n",
       "      <td>11,351.57</td>\n",
       "      <td>1,802,214,373,741.32</td>\n",
       "      <td>205962108</td>\n",
       "      <td>85.77</td>\n",
       "      <td>1.74</td>\n",
       "      <td>92.05</td>\n",
       "      <td>1,802.21</td>\n",
       "    </tr>\n",
       "    <tr>\n",
       "      <th>3</th>\n",
       "      <td>Brazil</td>\n",
       "      <td>2014</td>\n",
       "      <td>11,870.15</td>\n",
       "      <td>2,455,993,625,159.37</td>\n",
       "      <td>204213133</td>\n",
       "      <td>85.49</td>\n",
       "      <td>1.75</td>\n",
       "      <td>91.73</td>\n",
       "      <td>2,455.99</td>\n",
       "    </tr>\n",
       "    <tr>\n",
       "      <th>4</th>\n",
       "      <td>Brazil</td>\n",
       "      <td>2013</td>\n",
       "      <td>11,915.42</td>\n",
       "      <td>2,472,806,919,901.67</td>\n",
       "      <td>202408632</td>\n",
       "      <td>85.21</td>\n",
       "      <td>1.76</td>\n",
       "      <td>91.48</td>\n",
       "      <td>2,472.81</td>\n",
       "    </tr>\n",
       "  </tbody>\n",
       "</table>\n",
       "</div>"
      ],
      "text/plain": [
       "  country  year    gdp_pC                  gdp        pop  urban_pop%  frt  \\\n",
       "0  Brazil  2017 10,888.98 2,055,505,502,224.73  209288278       86.31  nan   \n",
       "1  Brazil  2016 10,868.65 1,793,989,048,409.29  207652865       86.04 1.73   \n",
       "2  Brazil  2015 11,351.57 1,802,214,373,741.32  205962108       85.77 1.74   \n",
       "3  Brazil  2014 11,870.15 2,455,993,625,159.37  204213133       85.49 1.75   \n",
       "4  Brazil  2013 11,915.42 2,472,806,919,901.67  202408632       85.21 1.76   \n",
       "\n",
       "   litr  gdp_in_bil  \n",
       "0   nan    2,055.51  \n",
       "1   nan    1,793.99  \n",
       "2 92.05    1,802.21  \n",
       "3 91.73    2,455.99  \n",
       "4 91.48    2,472.81  "
      ]
     },
     "execution_count": 273,
     "metadata": {},
     "output_type": "execute_result"
    }
   ],
   "source": [
    "data_wb['gdp_in_bil'] = data_wb['gdp']/1000000000\n",
    "round(data_wb.head(),2) #just to check"
   ]
  },
  {
   "cell_type": "markdown",
   "metadata": {},
   "source": [
    "We delete the variable gdp since we will continue working exclusively with the variable gdp_in_bil."
   ]
  },
  {
   "cell_type": "code",
   "execution_count": 274,
   "metadata": {},
   "outputs": [
    {
     "data": {
      "text/html": [
       "<div>\n",
       "<style scoped>\n",
       "    .dataframe tbody tr th:only-of-type {\n",
       "        vertical-align: middle;\n",
       "    }\n",
       "\n",
       "    .dataframe tbody tr th {\n",
       "        vertical-align: top;\n",
       "    }\n",
       "\n",
       "    .dataframe thead th {\n",
       "        text-align: right;\n",
       "    }\n",
       "</style>\n",
       "<table border=\"1\" class=\"dataframe\">\n",
       "  <thead>\n",
       "    <tr style=\"text-align: right;\">\n",
       "      <th></th>\n",
       "      <th>country</th>\n",
       "      <th>year</th>\n",
       "      <th>gdp_pC</th>\n",
       "      <th>pop</th>\n",
       "      <th>urban_pop%</th>\n",
       "      <th>frt</th>\n",
       "      <th>litr</th>\n",
       "      <th>gdp_in_bil</th>\n",
       "    </tr>\n",
       "  </thead>\n",
       "  <tbody>\n",
       "    <tr>\n",
       "      <th>0</th>\n",
       "      <td>Brazil</td>\n",
       "      <td>2017</td>\n",
       "      <td>10,888.98</td>\n",
       "      <td>209288278</td>\n",
       "      <td>86.31</td>\n",
       "      <td>nan</td>\n",
       "      <td>nan</td>\n",
       "      <td>2,055.51</td>\n",
       "    </tr>\n",
       "    <tr>\n",
       "      <th>1</th>\n",
       "      <td>Brazil</td>\n",
       "      <td>2016</td>\n",
       "      <td>10,868.65</td>\n",
       "      <td>207652865</td>\n",
       "      <td>86.04</td>\n",
       "      <td>1.73</td>\n",
       "      <td>nan</td>\n",
       "      <td>1,793.99</td>\n",
       "    </tr>\n",
       "    <tr>\n",
       "      <th>2</th>\n",
       "      <td>Brazil</td>\n",
       "      <td>2015</td>\n",
       "      <td>11,351.57</td>\n",
       "      <td>205962108</td>\n",
       "      <td>85.77</td>\n",
       "      <td>1.74</td>\n",
       "      <td>92.05</td>\n",
       "      <td>1,802.21</td>\n",
       "    </tr>\n",
       "    <tr>\n",
       "      <th>3</th>\n",
       "      <td>Brazil</td>\n",
       "      <td>2014</td>\n",
       "      <td>11,870.15</td>\n",
       "      <td>204213133</td>\n",
       "      <td>85.49</td>\n",
       "      <td>1.75</td>\n",
       "      <td>91.73</td>\n",
       "      <td>2,455.99</td>\n",
       "    </tr>\n",
       "    <tr>\n",
       "      <th>4</th>\n",
       "      <td>Brazil</td>\n",
       "      <td>2013</td>\n",
       "      <td>11,915.42</td>\n",
       "      <td>202408632</td>\n",
       "      <td>85.21</td>\n",
       "      <td>1.76</td>\n",
       "      <td>91.48</td>\n",
       "      <td>2,472.81</td>\n",
       "    </tr>\n",
       "  </tbody>\n",
       "</table>\n",
       "</div>"
      ],
      "text/plain": [
       "  country  year    gdp_pC        pop  urban_pop%  frt  litr  gdp_in_bil\n",
       "0  Brazil  2017 10,888.98  209288278       86.31  nan   nan    2,055.51\n",
       "1  Brazil  2016 10,868.65  207652865       86.04 1.73   nan    1,793.99\n",
       "2  Brazil  2015 11,351.57  205962108       85.77 1.74 92.05    1,802.21\n",
       "3  Brazil  2014 11,870.15  204213133       85.49 1.75 91.73    2,455.99\n",
       "4  Brazil  2013 11,915.42  202408632       85.21 1.76 91.48    2,472.81"
      ]
     },
     "execution_count": 274,
     "metadata": {},
     "output_type": "execute_result"
    }
   ],
   "source": [
    "del data_wb['gdp']\n",
    "round(data_wb.head(),2) #just to check"
   ]
  },
  {
   "cell_type": "markdown",
   "metadata": {},
   "source": [
    "We have a look at the shape of the dataset in order to get an overview of the observations and variables."
   ]
  },
  {
   "cell_type": "code",
   "execution_count": 275,
   "metadata": {},
   "outputs": [
    {
     "data": {
      "text/plain": [
       "(252, 8)"
      ]
     },
     "execution_count": 275,
     "metadata": {},
     "output_type": "execute_result"
    }
   ],
   "source": [
    "data_wb.shape"
   ]
  },
  {
   "cell_type": "markdown",
   "metadata": {},
   "source": [
    "We perform a summary statistics to get an overview of our dataset."
   ]
  },
  {
   "cell_type": "code",
   "execution_count": 276,
   "metadata": {},
   "outputs": [
    {
     "data": {
      "text/html": [
       "<div>\n",
       "<style scoped>\n",
       "    .dataframe tbody tr th:only-of-type {\n",
       "        vertical-align: middle;\n",
       "    }\n",
       "\n",
       "    .dataframe tbody tr th {\n",
       "        vertical-align: top;\n",
       "    }\n",
       "\n",
       "    .dataframe thead th {\n",
       "        text-align: right;\n",
       "    }\n",
       "</style>\n",
       "<table border=\"1\" class=\"dataframe\">\n",
       "  <thead>\n",
       "    <tr style=\"text-align: right;\">\n",
       "      <th></th>\n",
       "      <th>gdp_pC</th>\n",
       "      <th>pop</th>\n",
       "      <th>urban_pop%</th>\n",
       "      <th>frt</th>\n",
       "      <th>litr</th>\n",
       "      <th>gdp_in_bil</th>\n",
       "    </tr>\n",
       "  </thead>\n",
       "  <tbody>\n",
       "    <tr>\n",
       "      <th>count</th>\n",
       "      <td>252.0</td>\n",
       "      <td>252.0</td>\n",
       "      <td>252.0</td>\n",
       "      <td>243.0</td>\n",
       "      <td>37.0</td>\n",
       "      <td>252.0</td>\n",
       "    </tr>\n",
       "    <tr>\n",
       "      <th>mean</th>\n",
       "      <td>21,233.4</td>\n",
       "      <td>353,535,362.68</td>\n",
       "      <td>62.67</td>\n",
       "      <td>2.5</td>\n",
       "      <td>87.0</td>\n",
       "      <td>2,711.96</td>\n",
       "    </tr>\n",
       "    <tr>\n",
       "      <th>std</th>\n",
       "      <td>20,848.11</td>\n",
       "      <td>464,366,860.3</td>\n",
       "      <td>22.31</td>\n",
       "      <td>1.43</td>\n",
       "      <td>15.39</td>\n",
       "      <td>4,160.88</td>\n",
       "    </tr>\n",
       "    <tr>\n",
       "      <th>min</th>\n",
       "      <td>530.89</td>\n",
       "      <td>3,683,966.0</td>\n",
       "      <td>25.55</td>\n",
       "      <td>1.13</td>\n",
       "      <td>48.22</td>\n",
       "      <td>2.38</td>\n",
       "    </tr>\n",
       "    <tr>\n",
       "      <th>25%</th>\n",
       "      <td>2,131.25</td>\n",
       "      <td>40,015,504.75</td>\n",
       "      <td>42.57</td>\n",
       "      <td>1.55</td>\n",
       "      <td>88.62</td>\n",
       "      <td>275.61</td>\n",
       "    </tr>\n",
       "    <tr>\n",
       "      <th>50%</th>\n",
       "      <td>9,117.39</td>\n",
       "      <td>133,683,074.5</td>\n",
       "      <td>76.1</td>\n",
       "      <td>1.93</td>\n",
       "      <td>91.48</td>\n",
       "      <td>684.5</td>\n",
       "    </tr>\n",
       "    <tr>\n",
       "      <th>75%</th>\n",
       "      <td>42,252.61</td>\n",
       "      <td>309,914,885.75</td>\n",
       "      <td>81.58</td>\n",
       "      <td>2.86</td>\n",
       "      <td>97.75</td>\n",
       "      <td>3,939.73</td>\n",
       "    </tr>\n",
       "    <tr>\n",
       "      <th>max</th>\n",
       "      <td>61,582.17</td>\n",
       "      <td>1,386,395,000.0</td>\n",
       "      <td>91.54</td>\n",
       "      <td>6.49</td>\n",
       "      <td>99.7</td>\n",
       "      <td>19,390.6</td>\n",
       "    </tr>\n",
       "  </tbody>\n",
       "</table>\n",
       "</div>"
      ],
      "text/plain": [
       "         gdp_pC             pop  urban_pop%   frt  litr  gdp_in_bil\n",
       "count     252.0           252.0       252.0 243.0  37.0       252.0\n",
       "mean   21,233.4  353,535,362.68       62.67   2.5  87.0    2,711.96\n",
       "std   20,848.11   464,366,860.3       22.31  1.43 15.39    4,160.88\n",
       "min      530.89     3,683,966.0       25.55  1.13 48.22        2.38\n",
       "25%    2,131.25   40,015,504.75       42.57  1.55 88.62      275.61\n",
       "50%    9,117.39   133,683,074.5        76.1  1.93 91.48       684.5\n",
       "75%   42,252.61  309,914,885.75       81.58  2.86 97.75    3,939.73\n",
       "max   61,582.17 1,386,395,000.0       91.54  6.49  99.7    19,390.6"
      ]
     },
     "execution_count": 276,
     "metadata": {},
     "output_type": "execute_result"
    }
   ],
   "source": [
    "round(data_wb.describe(),2)"
   ]
  },
  {
   "cell_type": "markdown",
   "metadata": {},
   "source": [
    "## Detection of  Missing Data"
   ]
  },
  {
   "cell_type": "markdown",
   "metadata": {},
   "source": [
    "We count the missing data:"
   ]
  },
  {
   "cell_type": "code",
   "execution_count": 277,
   "metadata": {},
   "outputs": [
    {
     "data": {
      "text/plain": [
       "224"
      ]
     },
     "execution_count": 277,
     "metadata": {},
     "output_type": "execute_result"
    }
   ],
   "source": [
    "data_wb.isnull().sum().sum()"
   ]
  },
  {
   "cell_type": "markdown",
   "metadata": {},
   "source": [
    "We have a look at how many observations each variable has:"
   ]
  },
  {
   "cell_type": "code",
   "execution_count": 278,
   "metadata": {},
   "outputs": [
    {
     "data": {
      "text/plain": [
       "country       252\n",
       "year          252\n",
       "gdp_pC        252\n",
       "pop           252\n",
       "urban_pop%    252\n",
       "frt           243\n",
       "litr           37\n",
       "gdp_in_bil    252\n",
       "dtype: int64"
      ]
     },
     "execution_count": 278,
     "metadata": {},
     "output_type": "execute_result"
    }
   ],
   "source": [
    "data_wb.count()"
   ]
  },
  {
   "cell_type": "markdown",
   "metadata": {},
   "source": [
    "We search for the number of missing values of each variable. (Same step as before, only the other way around.)"
   ]
  },
  {
   "cell_type": "code",
   "execution_count": 279,
   "metadata": {},
   "outputs": [
    {
     "data": {
      "text/plain": [
       "country         0\n",
       "year            0\n",
       "gdp_pC          0\n",
       "pop             0\n",
       "urban_pop%      0\n",
       "frt             9\n",
       "litr          215\n",
       "gdp_in_bil      0\n",
       "dtype: int64"
      ]
     },
     "execution_count": 279,
     "metadata": {},
     "output_type": "execute_result"
    }
   ],
   "source": [
    "data_wb.isnull().sum()"
   ]
  },
  {
   "cell_type": "markdown",
   "metadata": {},
   "source": [
    "We drop the literacy rate, because this variable has nearly no data. "
   ]
  },
  {
   "cell_type": "code",
   "execution_count": 281,
   "metadata": {},
   "outputs": [
    {
     "ename": "KeyError",
     "evalue": "\"['litr'] not found in axis\"",
     "output_type": "error",
     "traceback": [
      "\u001b[1;31m---------------------------------------------------------------------------\u001b[0m",
      "\u001b[1;31mKeyError\u001b[0m                                  Traceback (most recent call last)",
      "\u001b[1;32m<ipython-input-281-7c19b42d77b3>\u001b[0m in \u001b[0;36m<module>\u001b[1;34m\u001b[0m\n\u001b[1;32m----> 1\u001b[1;33m \u001b[0mdata_wb\u001b[0m\u001b[1;33m.\u001b[0m\u001b[0mdrop\u001b[0m\u001b[1;33m(\u001b[0m\u001b[1;33m[\u001b[0m\u001b[1;34m'litr'\u001b[0m\u001b[1;33m]\u001b[0m\u001b[1;33m,\u001b[0m \u001b[0maxis\u001b[0m \u001b[1;33m=\u001b[0m \u001b[1;36m1\u001b[0m\u001b[1;33m,\u001b[0m \u001b[0minplace\u001b[0m \u001b[1;33m=\u001b[0m \u001b[1;32mTrue\u001b[0m\u001b[1;33m)\u001b[0m\u001b[1;33m\u001b[0m\u001b[1;33m\u001b[0m\u001b[0m\n\u001b[0m",
      "\u001b[1;32m~\\Anaconda3\\lib\\site-packages\\pandas\\core\\frame.py\u001b[0m in \u001b[0;36mdrop\u001b[1;34m(self, labels, axis, index, columns, level, inplace, errors)\u001b[0m\n\u001b[0;32m   3695\u001b[0m                                            \u001b[0mindex\u001b[0m\u001b[1;33m=\u001b[0m\u001b[0mindex\u001b[0m\u001b[1;33m,\u001b[0m \u001b[0mcolumns\u001b[0m\u001b[1;33m=\u001b[0m\u001b[0mcolumns\u001b[0m\u001b[1;33m,\u001b[0m\u001b[1;33m\u001b[0m\u001b[1;33m\u001b[0m\u001b[0m\n\u001b[0;32m   3696\u001b[0m                                            \u001b[0mlevel\u001b[0m\u001b[1;33m=\u001b[0m\u001b[0mlevel\u001b[0m\u001b[1;33m,\u001b[0m \u001b[0minplace\u001b[0m\u001b[1;33m=\u001b[0m\u001b[0minplace\u001b[0m\u001b[1;33m,\u001b[0m\u001b[1;33m\u001b[0m\u001b[1;33m\u001b[0m\u001b[0m\n\u001b[1;32m-> 3697\u001b[1;33m                                            errors=errors)\n\u001b[0m\u001b[0;32m   3698\u001b[0m \u001b[1;33m\u001b[0m\u001b[0m\n\u001b[0;32m   3699\u001b[0m     @rewrite_axis_style_signature('mapper', [('copy', True),\n",
      "\u001b[1;32m~\\Anaconda3\\lib\\site-packages\\pandas\\core\\generic.py\u001b[0m in \u001b[0;36mdrop\u001b[1;34m(self, labels, axis, index, columns, level, inplace, errors)\u001b[0m\n\u001b[0;32m   3109\u001b[0m         \u001b[1;32mfor\u001b[0m \u001b[0maxis\u001b[0m\u001b[1;33m,\u001b[0m \u001b[0mlabels\u001b[0m \u001b[1;32min\u001b[0m \u001b[0maxes\u001b[0m\u001b[1;33m.\u001b[0m\u001b[0mitems\u001b[0m\u001b[1;33m(\u001b[0m\u001b[1;33m)\u001b[0m\u001b[1;33m:\u001b[0m\u001b[1;33m\u001b[0m\u001b[1;33m\u001b[0m\u001b[0m\n\u001b[0;32m   3110\u001b[0m             \u001b[1;32mif\u001b[0m \u001b[0mlabels\u001b[0m \u001b[1;32mis\u001b[0m \u001b[1;32mnot\u001b[0m \u001b[1;32mNone\u001b[0m\u001b[1;33m:\u001b[0m\u001b[1;33m\u001b[0m\u001b[1;33m\u001b[0m\u001b[0m\n\u001b[1;32m-> 3111\u001b[1;33m                 \u001b[0mobj\u001b[0m \u001b[1;33m=\u001b[0m \u001b[0mobj\u001b[0m\u001b[1;33m.\u001b[0m\u001b[0m_drop_axis\u001b[0m\u001b[1;33m(\u001b[0m\u001b[0mlabels\u001b[0m\u001b[1;33m,\u001b[0m \u001b[0maxis\u001b[0m\u001b[1;33m,\u001b[0m \u001b[0mlevel\u001b[0m\u001b[1;33m=\u001b[0m\u001b[0mlevel\u001b[0m\u001b[1;33m,\u001b[0m \u001b[0merrors\u001b[0m\u001b[1;33m=\u001b[0m\u001b[0merrors\u001b[0m\u001b[1;33m)\u001b[0m\u001b[1;33m\u001b[0m\u001b[1;33m\u001b[0m\u001b[0m\n\u001b[0m\u001b[0;32m   3112\u001b[0m \u001b[1;33m\u001b[0m\u001b[0m\n\u001b[0;32m   3113\u001b[0m         \u001b[1;32mif\u001b[0m \u001b[0minplace\u001b[0m\u001b[1;33m:\u001b[0m\u001b[1;33m\u001b[0m\u001b[1;33m\u001b[0m\u001b[0m\n",
      "\u001b[1;32m~\\Anaconda3\\lib\\site-packages\\pandas\\core\\generic.py\u001b[0m in \u001b[0;36m_drop_axis\u001b[1;34m(self, labels, axis, level, errors)\u001b[0m\n\u001b[0;32m   3141\u001b[0m                 \u001b[0mnew_axis\u001b[0m \u001b[1;33m=\u001b[0m \u001b[0maxis\u001b[0m\u001b[1;33m.\u001b[0m\u001b[0mdrop\u001b[0m\u001b[1;33m(\u001b[0m\u001b[0mlabels\u001b[0m\u001b[1;33m,\u001b[0m \u001b[0mlevel\u001b[0m\u001b[1;33m=\u001b[0m\u001b[0mlevel\u001b[0m\u001b[1;33m,\u001b[0m \u001b[0merrors\u001b[0m\u001b[1;33m=\u001b[0m\u001b[0merrors\u001b[0m\u001b[1;33m)\u001b[0m\u001b[1;33m\u001b[0m\u001b[1;33m\u001b[0m\u001b[0m\n\u001b[0;32m   3142\u001b[0m             \u001b[1;32melse\u001b[0m\u001b[1;33m:\u001b[0m\u001b[1;33m\u001b[0m\u001b[1;33m\u001b[0m\u001b[0m\n\u001b[1;32m-> 3143\u001b[1;33m                 \u001b[0mnew_axis\u001b[0m \u001b[1;33m=\u001b[0m \u001b[0maxis\u001b[0m\u001b[1;33m.\u001b[0m\u001b[0mdrop\u001b[0m\u001b[1;33m(\u001b[0m\u001b[0mlabels\u001b[0m\u001b[1;33m,\u001b[0m \u001b[0merrors\u001b[0m\u001b[1;33m=\u001b[0m\u001b[0merrors\u001b[0m\u001b[1;33m)\u001b[0m\u001b[1;33m\u001b[0m\u001b[1;33m\u001b[0m\u001b[0m\n\u001b[0m\u001b[0;32m   3144\u001b[0m             \u001b[0mresult\u001b[0m \u001b[1;33m=\u001b[0m \u001b[0mself\u001b[0m\u001b[1;33m.\u001b[0m\u001b[0mreindex\u001b[0m\u001b[1;33m(\u001b[0m\u001b[1;33m**\u001b[0m\u001b[1;33m{\u001b[0m\u001b[0maxis_name\u001b[0m\u001b[1;33m:\u001b[0m \u001b[0mnew_axis\u001b[0m\u001b[1;33m}\u001b[0m\u001b[1;33m)\u001b[0m\u001b[1;33m\u001b[0m\u001b[1;33m\u001b[0m\u001b[0m\n\u001b[0;32m   3145\u001b[0m \u001b[1;33m\u001b[0m\u001b[0m\n",
      "\u001b[1;32m~\\Anaconda3\\lib\\site-packages\\pandas\\core\\indexes\\base.py\u001b[0m in \u001b[0;36mdrop\u001b[1;34m(self, labels, errors)\u001b[0m\n\u001b[0;32m   4402\u001b[0m             \u001b[1;32mif\u001b[0m \u001b[0merrors\u001b[0m \u001b[1;33m!=\u001b[0m \u001b[1;34m'ignore'\u001b[0m\u001b[1;33m:\u001b[0m\u001b[1;33m\u001b[0m\u001b[1;33m\u001b[0m\u001b[0m\n\u001b[0;32m   4403\u001b[0m                 raise KeyError(\n\u001b[1;32m-> 4404\u001b[1;33m                     '{} not found in axis'.format(labels[mask]))\n\u001b[0m\u001b[0;32m   4405\u001b[0m             \u001b[0mindexer\u001b[0m \u001b[1;33m=\u001b[0m \u001b[0mindexer\u001b[0m\u001b[1;33m[\u001b[0m\u001b[1;33m~\u001b[0m\u001b[0mmask\u001b[0m\u001b[1;33m]\u001b[0m\u001b[1;33m\u001b[0m\u001b[1;33m\u001b[0m\u001b[0m\n\u001b[0;32m   4406\u001b[0m         \u001b[1;32mreturn\u001b[0m \u001b[0mself\u001b[0m\u001b[1;33m.\u001b[0m\u001b[0mdelete\u001b[0m\u001b[1;33m(\u001b[0m\u001b[0mindexer\u001b[0m\u001b[1;33m)\u001b[0m\u001b[1;33m\u001b[0m\u001b[1;33m\u001b[0m\u001b[0m\n",
      "\u001b[1;31mKeyError\u001b[0m: \"['litr'] not found in axis\""
     ]
    }
   ],
   "source": [
    "data_wb.drop(['litr'], axis = 1, inplace = True)"
   ]
  },
  {
   "cell_type": "markdown",
   "metadata": {},
   "source": [
    "We search for the nine missing values of fertility rate. It seems that there is no data of the fertility rate for the year 2017. "
   ]
  },
  {
   "cell_type": "code",
   "execution_count": 282,
   "metadata": {},
   "outputs": [
    {
     "data": {
      "text/html": [
       "<div>\n",
       "<style scoped>\n",
       "    .dataframe tbody tr th:only-of-type {\n",
       "        vertical-align: middle;\n",
       "    }\n",
       "\n",
       "    .dataframe tbody tr th {\n",
       "        vertical-align: top;\n",
       "    }\n",
       "\n",
       "    .dataframe thead th {\n",
       "        text-align: right;\n",
       "    }\n",
       "</style>\n",
       "<table border=\"1\" class=\"dataframe\">\n",
       "  <thead>\n",
       "    <tr style=\"text-align: right;\">\n",
       "      <th></th>\n",
       "      <th>gdp_pC</th>\n",
       "      <th>pop</th>\n",
       "      <th>urban_pop%</th>\n",
       "      <th>frt</th>\n",
       "      <th>gdp_in_bil</th>\n",
       "    </tr>\n",
       "    <tr>\n",
       "      <th>year</th>\n",
       "      <th></th>\n",
       "      <th></th>\n",
       "      <th></th>\n",
       "      <th></th>\n",
       "      <th></th>\n",
       "    </tr>\n",
       "  </thead>\n",
       "  <tbody>\n",
       "    <tr>\n",
       "      <th>1990</th>\n",
       "      <td>17,322.45</td>\n",
       "      <td>296,754,760.0</td>\n",
       "      <td>57.06</td>\n",
       "      <td>2.98</td>\n",
       "      <td>1,220.28</td>\n",
       "    </tr>\n",
       "    <tr>\n",
       "      <th>1991</th>\n",
       "      <td>17,480.06</td>\n",
       "      <td>301,483,292.67</td>\n",
       "      <td>57.39</td>\n",
       "      <td>2.92</td>\n",
       "      <td>1,308.71</td>\n",
       "    </tr>\n",
       "    <tr>\n",
       "      <th>1992</th>\n",
       "      <td>17,614.3</td>\n",
       "      <td>306,083,205.0</td>\n",
       "      <td>57.71</td>\n",
       "      <td>2.86</td>\n",
       "      <td>1,377.01</td>\n",
       "    </tr>\n",
       "    <tr>\n",
       "      <th>1993</th>\n",
       "      <td>17,609.77</td>\n",
       "      <td>310,600,879.44</td>\n",
       "      <td>58.04</td>\n",
       "      <td>2.79</td>\n",
       "      <td>1,465.41</td>\n",
       "    </tr>\n",
       "    <tr>\n",
       "      <th>1994</th>\n",
       "      <td>18,033.67</td>\n",
       "      <td>315,117,504.67</td>\n",
       "      <td>58.36</td>\n",
       "      <td>2.73</td>\n",
       "      <td>1,598.08</td>\n",
       "    </tr>\n",
       "    <tr>\n",
       "      <th>1995</th>\n",
       "      <td>18,406.36</td>\n",
       "      <td>319,614,237.22</td>\n",
       "      <td>58.7</td>\n",
       "      <td>2.67</td>\n",
       "      <td>1,757.44</td>\n",
       "    </tr>\n",
       "    <tr>\n",
       "      <th>1996</th>\n",
       "      <td>18,865.59</td>\n",
       "      <td>324,075,633.0</td>\n",
       "      <td>59.06</td>\n",
       "      <td>2.61</td>\n",
       "      <td>1,768.65</td>\n",
       "    </tr>\n",
       "    <tr>\n",
       "      <th>1997</th>\n",
       "      <td>19,293.24</td>\n",
       "      <td>328,551,075.67</td>\n",
       "      <td>59.42</td>\n",
       "      <td>2.57</td>\n",
       "      <td>1,788.61</td>\n",
       "    </tr>\n",
       "    <tr>\n",
       "      <th>1998</th>\n",
       "      <td>19,603.76</td>\n",
       "      <td>332,962,293.0</td>\n",
       "      <td>59.78</td>\n",
       "      <td>2.53</td>\n",
       "      <td>1,809.05</td>\n",
       "    </tr>\n",
       "    <tr>\n",
       "      <th>1999</th>\n",
       "      <td>20,055.02</td>\n",
       "      <td>337,245,148.44</td>\n",
       "      <td>60.15</td>\n",
       "      <td>2.5</td>\n",
       "      <td>1,915.75</td>\n",
       "    </tr>\n",
       "    <tr>\n",
       "      <th>2000</th>\n",
       "      <td>20,720.96</td>\n",
       "      <td>341,418,281.11</td>\n",
       "      <td>60.51</td>\n",
       "      <td>2.49</td>\n",
       "      <td>2,037.01</td>\n",
       "    </tr>\n",
       "    <tr>\n",
       "      <th>2001</th>\n",
       "      <td>20,890.64</td>\n",
       "      <td>345,492,576.56</td>\n",
       "      <td>61.01</td>\n",
       "      <td>2.46</td>\n",
       "      <td>2,019.05</td>\n",
       "    </tr>\n",
       "    <tr>\n",
       "      <th>2002</th>\n",
       "      <td>21,037.15</td>\n",
       "      <td>349,501,391.89</td>\n",
       "      <td>61.58</td>\n",
       "      <td>2.44</td>\n",
       "      <td>2,062.54</td>\n",
       "    </tr>\n",
       "    <tr>\n",
       "      <th>2003</th>\n",
       "      <td>21,287.16</td>\n",
       "      <td>353,438,047.0</td>\n",
       "      <td>62.16</td>\n",
       "      <td>2.43</td>\n",
       "      <td>2,223.37</td>\n",
       "    </tr>\n",
       "    <tr>\n",
       "      <th>2004</th>\n",
       "      <td>21,829.81</td>\n",
       "      <td>357,326,551.67</td>\n",
       "      <td>62.73</td>\n",
       "      <td>2.42</td>\n",
       "      <td>2,430.95</td>\n",
       "    </tr>\n",
       "    <tr>\n",
       "      <th>2005</th>\n",
       "      <td>22,334.86</td>\n",
       "      <td>361,201,371.11</td>\n",
       "      <td>63.3</td>\n",
       "      <td>2.4</td>\n",
       "      <td>2,604.62</td>\n",
       "    </tr>\n",
       "    <tr>\n",
       "      <th>2006</th>\n",
       "      <td>22,922.76</td>\n",
       "      <td>365,055,870.33</td>\n",
       "      <td>63.85</td>\n",
       "      <td>2.4</td>\n",
       "      <td>2,773.35</td>\n",
       "    </tr>\n",
       "    <tr>\n",
       "      <th>2007</th>\n",
       "      <td>23,293.87</td>\n",
       "      <td>368,866,720.56</td>\n",
       "      <td>64.38</td>\n",
       "      <td>2.4</td>\n",
       "      <td>3,025.59</td>\n",
       "    </tr>\n",
       "    <tr>\n",
       "      <th>2008</th>\n",
       "      <td>23,219.73</td>\n",
       "      <td>372,629,864.44</td>\n",
       "      <td>64.9</td>\n",
       "      <td>2.4</td>\n",
       "      <td>3,286.91</td>\n",
       "    </tr>\n",
       "    <tr>\n",
       "      <th>2009</th>\n",
       "      <td>22,292.24</td>\n",
       "      <td>376,282,314.33</td>\n",
       "      <td>65.41</td>\n",
       "      <td>2.37</td>\n",
       "      <td>3,320.39</td>\n",
       "    </tr>\n",
       "    <tr>\n",
       "      <th>2010</th>\n",
       "      <td>22,835.79</td>\n",
       "      <td>379,853,381.33</td>\n",
       "      <td>65.92</td>\n",
       "      <td>2.36</td>\n",
       "      <td>3,641.13</td>\n",
       "    </tr>\n",
       "    <tr>\n",
       "      <th>2011</th>\n",
       "      <td>23,058.5</td>\n",
       "      <td>383,321,600.33</td>\n",
       "      <td>66.36</td>\n",
       "      <td>2.33</td>\n",
       "      <td>3,995.43</td>\n",
       "    </tr>\n",
       "    <tr>\n",
       "      <th>2012</th>\n",
       "      <td>23,223.3</td>\n",
       "      <td>386,763,761.89</td>\n",
       "      <td>66.78</td>\n",
       "      <td>2.32</td>\n",
       "      <td>4,152.17</td>\n",
       "    </tr>\n",
       "    <tr>\n",
       "      <th>2013</th>\n",
       "      <td>23,510.03</td>\n",
       "      <td>390,162,322.33</td>\n",
       "      <td>67.2</td>\n",
       "      <td>2.3</td>\n",
       "      <td>4,227.07</td>\n",
       "    </tr>\n",
       "    <tr>\n",
       "      <th>2014</th>\n",
       "      <td>23,875.14</td>\n",
       "      <td>393,588,005.78</td>\n",
       "      <td>67.62</td>\n",
       "      <td>2.29</td>\n",
       "      <td>4,399.72</td>\n",
       "    </tr>\n",
       "    <tr>\n",
       "      <th>2015</th>\n",
       "      <td>24,273.4</td>\n",
       "      <td>397,032,474.44</td>\n",
       "      <td>68.04</td>\n",
       "      <td>2.28</td>\n",
       "      <td>4,390.49</td>\n",
       "    </tr>\n",
       "    <tr>\n",
       "      <th>2016</th>\n",
       "      <td>24,580.47</td>\n",
       "      <td>400,528,213.44</td>\n",
       "      <td>68.46</td>\n",
       "      <td>2.26</td>\n",
       "      <td>4,535.33</td>\n",
       "    </tr>\n",
       "    <tr>\n",
       "      <th>2017</th>\n",
       "      <td>25,065.09</td>\n",
       "      <td>404,039,377.44</td>\n",
       "      <td>68.89</td>\n",
       "      <td>nan</td>\n",
       "      <td>4,800.74</td>\n",
       "    </tr>\n",
       "  </tbody>\n",
       "</table>\n",
       "</div>"
      ],
      "text/plain": [
       "        gdp_pC            pop  urban_pop%  frt  gdp_in_bil\n",
       "year                                                      \n",
       "1990 17,322.45  296,754,760.0       57.06 2.98    1,220.28\n",
       "1991 17,480.06 301,483,292.67       57.39 2.92    1,308.71\n",
       "1992  17,614.3  306,083,205.0       57.71 2.86    1,377.01\n",
       "1993 17,609.77 310,600,879.44       58.04 2.79    1,465.41\n",
       "1994 18,033.67 315,117,504.67       58.36 2.73    1,598.08\n",
       "1995 18,406.36 319,614,237.22        58.7 2.67    1,757.44\n",
       "1996 18,865.59  324,075,633.0       59.06 2.61    1,768.65\n",
       "1997 19,293.24 328,551,075.67       59.42 2.57    1,788.61\n",
       "1998 19,603.76  332,962,293.0       59.78 2.53    1,809.05\n",
       "1999 20,055.02 337,245,148.44       60.15  2.5    1,915.75\n",
       "2000 20,720.96 341,418,281.11       60.51 2.49    2,037.01\n",
       "2001 20,890.64 345,492,576.56       61.01 2.46    2,019.05\n",
       "2002 21,037.15 349,501,391.89       61.58 2.44    2,062.54\n",
       "2003 21,287.16  353,438,047.0       62.16 2.43    2,223.37\n",
       "2004 21,829.81 357,326,551.67       62.73 2.42    2,430.95\n",
       "2005 22,334.86 361,201,371.11        63.3  2.4    2,604.62\n",
       "2006 22,922.76 365,055,870.33       63.85  2.4    2,773.35\n",
       "2007 23,293.87 368,866,720.56       64.38  2.4    3,025.59\n",
       "2008 23,219.73 372,629,864.44        64.9  2.4    3,286.91\n",
       "2009 22,292.24 376,282,314.33       65.41 2.37    3,320.39\n",
       "2010 22,835.79 379,853,381.33       65.92 2.36    3,641.13\n",
       "2011  23,058.5 383,321,600.33       66.36 2.33    3,995.43\n",
       "2012  23,223.3 386,763,761.89       66.78 2.32    4,152.17\n",
       "2013 23,510.03 390,162,322.33        67.2  2.3    4,227.07\n",
       "2014 23,875.14 393,588,005.78       67.62 2.29    4,399.72\n",
       "2015  24,273.4 397,032,474.44       68.04 2.28    4,390.49\n",
       "2016 24,580.47 400,528,213.44       68.46 2.26    4,535.33\n",
       "2017 25,065.09 404,039,377.44       68.89  nan    4,800.74"
      ]
     },
     "execution_count": 282,
     "metadata": {},
     "output_type": "execute_result"
    }
   ],
   "source": [
    "round(data_wb.groupby('year').mean(),2)"
   ]
  },
  {
   "cell_type": "markdown",
   "metadata": {},
   "source": [
    "We look whether every country misses the data of the fertility rate for the year 2017."
   ]
  },
  {
   "cell_type": "code",
   "execution_count": 283,
   "metadata": {},
   "outputs": [
    {
     "data": {
      "text/html": [
       "<div>\n",
       "<style scoped>\n",
       "    .dataframe tbody tr th:only-of-type {\n",
       "        vertical-align: middle;\n",
       "    }\n",
       "\n",
       "    .dataframe tbody tr th {\n",
       "        vertical-align: top;\n",
       "    }\n",
       "\n",
       "    .dataframe thead th {\n",
       "        text-align: right;\n",
       "    }\n",
       "</style>\n",
       "<table border=\"1\" class=\"dataframe\">\n",
       "  <thead>\n",
       "    <tr style=\"text-align: right;\">\n",
       "      <th></th>\n",
       "      <th>country</th>\n",
       "      <th>year</th>\n",
       "      <th>gdp_pC</th>\n",
       "      <th>pop</th>\n",
       "      <th>urban_pop%</th>\n",
       "      <th>frt</th>\n",
       "      <th>gdp_in_bil</th>\n",
       "    </tr>\n",
       "  </thead>\n",
       "  <tbody>\n",
       "    <tr>\n",
       "      <th>0</th>\n",
       "      <td>Brazil</td>\n",
       "      <td>2017</td>\n",
       "      <td>10,888.98</td>\n",
       "      <td>209288278</td>\n",
       "      <td>86.31</td>\n",
       "      <td>nan</td>\n",
       "      <td>2,055.51</td>\n",
       "    </tr>\n",
       "    <tr>\n",
       "      <th>28</th>\n",
       "      <td>China</td>\n",
       "      <td>2017</td>\n",
       "      <td>7,329.09</td>\n",
       "      <td>1386395000</td>\n",
       "      <td>57.96</td>\n",
       "      <td>nan</td>\n",
       "      <td>12,237.7</td>\n",
       "    </tr>\n",
       "    <tr>\n",
       "      <th>56</th>\n",
       "      <td>Denmark</td>\n",
       "      <td>2017</td>\n",
       "      <td>61,582.17</td>\n",
       "      <td>5769603</td>\n",
       "      <td>87.76</td>\n",
       "      <td>nan</td>\n",
       "      <td>324.87</td>\n",
       "    </tr>\n",
       "    <tr>\n",
       "      <th>84</th>\n",
       "      <td>Spain</td>\n",
       "      <td>2017</td>\n",
       "      <td>32,405.75</td>\n",
       "      <td>46572028</td>\n",
       "      <td>80.08</td>\n",
       "      <td>nan</td>\n",
       "      <td>1,311.32</td>\n",
       "    </tr>\n",
       "    <tr>\n",
       "      <th>112</th>\n",
       "      <td>India</td>\n",
       "      <td>2017</td>\n",
       "      <td>1,964.6</td>\n",
       "      <td>1339180127</td>\n",
       "      <td>33.6</td>\n",
       "      <td>nan</td>\n",
       "      <td>2,600.82</td>\n",
       "    </tr>\n",
       "    <tr>\n",
       "      <th>140</th>\n",
       "      <td>Japan</td>\n",
       "      <td>2017</td>\n",
       "      <td>48,556.93</td>\n",
       "      <td>126785797</td>\n",
       "      <td>91.54</td>\n",
       "      <td>nan</td>\n",
       "      <td>4,872.14</td>\n",
       "    </tr>\n",
       "    <tr>\n",
       "      <th>168</th>\n",
       "      <td>Nigeria</td>\n",
       "      <td>2017</td>\n",
       "      <td>2,412.2</td>\n",
       "      <td>190886311</td>\n",
       "      <td>49.52</td>\n",
       "      <td>nan</td>\n",
       "      <td>375.75</td>\n",
       "    </tr>\n",
       "    <tr>\n",
       "      <th>196</th>\n",
       "      <td>Turkmenistan</td>\n",
       "      <td>2017</td>\n",
       "      <td>7,317.55</td>\n",
       "      <td>5758075</td>\n",
       "      <td>51.15</td>\n",
       "      <td>nan</td>\n",
       "      <td>37.93</td>\n",
       "    </tr>\n",
       "  </tbody>\n",
       "</table>\n",
       "</div>"
      ],
      "text/plain": [
       "          country  year    gdp_pC         pop  urban_pop%  frt  gdp_in_bil\n",
       "0          Brazil  2017 10,888.98   209288278       86.31  nan    2,055.51\n",
       "28          China  2017  7,329.09  1386395000       57.96  nan    12,237.7\n",
       "56        Denmark  2017 61,582.17     5769603       87.76  nan      324.87\n",
       "84          Spain  2017 32,405.75    46572028       80.08  nan    1,311.32\n",
       "112         India  2017   1,964.6  1339180127        33.6  nan    2,600.82\n",
       "140         Japan  2017 48,556.93   126785797       91.54  nan    4,872.14\n",
       "168       Nigeria  2017   2,412.2   190886311       49.52  nan      375.75\n",
       "196  Turkmenistan  2017  7,317.55     5758075       51.15  nan       37.93"
      ]
     },
     "execution_count": 283,
     "metadata": {},
     "output_type": "execute_result"
    }
   ],
   "source": [
    "round(data_wb.loc[data_wb['year'] == '2017', :].head(-1),2)"
   ]
  },
  {
   "cell_type": "markdown",
   "metadata": {},
   "source": [
    "We drop the year 2017."
   ]
  },
  {
   "cell_type": "code",
   "execution_count": 284,
   "metadata": {},
   "outputs": [],
   "source": [
    "I = data_wb['year'] == \"2017\"\n",
    "data_wb.drop(data_wb[I].index, inplace = True)"
   ]
  },
  {
   "cell_type": "markdown",
   "metadata": {},
   "source": [
    "## Cleaned data set"
   ]
  },
  {
   "cell_type": "markdown",
   "metadata": {},
   "source": [
    "We perform a summary statistic of our cleaned dataset."
   ]
  },
  {
   "cell_type": "code",
   "execution_count": 285,
   "metadata": {},
   "outputs": [
    {
     "data": {
      "text/html": [
       "<div>\n",
       "<style scoped>\n",
       "    .dataframe tbody tr th:only-of-type {\n",
       "        vertical-align: middle;\n",
       "    }\n",
       "\n",
       "    .dataframe tbody tr th {\n",
       "        vertical-align: top;\n",
       "    }\n",
       "\n",
       "    .dataframe thead th {\n",
       "        text-align: right;\n",
       "    }\n",
       "</style>\n",
       "<table border=\"1\" class=\"dataframe\">\n",
       "  <thead>\n",
       "    <tr style=\"text-align: right;\">\n",
       "      <th></th>\n",
       "      <th>gdp_pC</th>\n",
       "      <th>pop</th>\n",
       "      <th>urban_pop%</th>\n",
       "      <th>frt</th>\n",
       "      <th>gdp_in_bil</th>\n",
       "    </tr>\n",
       "  </thead>\n",
       "  <tbody>\n",
       "    <tr>\n",
       "      <th>count</th>\n",
       "      <td>243.0</td>\n",
       "      <td>243.0</td>\n",
       "      <td>243.0</td>\n",
       "      <td>243.0</td>\n",
       "      <td>243.0</td>\n",
       "    </tr>\n",
       "    <tr>\n",
       "      <th>mean</th>\n",
       "      <td>21,091.48</td>\n",
       "      <td>351,664,843.62</td>\n",
       "      <td>62.44</td>\n",
       "      <td>2.5</td>\n",
       "      <td>2,634.6</td>\n",
       "    </tr>\n",
       "    <tr>\n",
       "      <th>std</th>\n",
       "      <td>20,765.76</td>\n",
       "      <td>461,984,890.15</td>\n",
       "      <td>22.36</td>\n",
       "      <td>1.43</td>\n",
       "      <td>4,039.98</td>\n",
       "    </tr>\n",
       "    <tr>\n",
       "      <th>min</th>\n",
       "      <td>530.89</td>\n",
       "      <td>3,683,966.0</td>\n",
       "      <td>25.55</td>\n",
       "      <td>1.13</td>\n",
       "      <td>2.38</td>\n",
       "    </tr>\n",
       "    <tr>\n",
       "      <th>25%</th>\n",
       "      <td>2,068.46</td>\n",
       "      <td>39,973,620.5</td>\n",
       "      <td>42.11</td>\n",
       "      <td>1.55</td>\n",
       "      <td>271.04</td>\n",
       "    </tr>\n",
       "    <tr>\n",
       "      <th>50%</th>\n",
       "      <td>8,924.9</td>\n",
       "      <td>131,972,533.0</td>\n",
       "      <td>76.1</td>\n",
       "      <td>1.93</td>\n",
       "      <td>655.42</td>\n",
       "    </tr>\n",
       "    <tr>\n",
       "      <th>75%</th>\n",
       "      <td>42,214.99</td>\n",
       "      <td>308,054,975.0</td>\n",
       "      <td>81.39</td>\n",
       "      <td>2.86</td>\n",
       "      <td>3,746.61</td>\n",
       "    </tr>\n",
       "    <tr>\n",
       "      <th>max</th>\n",
       "      <td>61,174.55</td>\n",
       "      <td>1,378,665,000.0</td>\n",
       "      <td>91.46</td>\n",
       "      <td>6.49</td>\n",
       "      <td>18,624.47</td>\n",
       "    </tr>\n",
       "  </tbody>\n",
       "</table>\n",
       "</div>"
      ],
      "text/plain": [
       "         gdp_pC             pop  urban_pop%   frt  gdp_in_bil\n",
       "count     243.0           243.0       243.0 243.0       243.0\n",
       "mean  21,091.48  351,664,843.62       62.44   2.5     2,634.6\n",
       "std   20,765.76  461,984,890.15       22.36  1.43    4,039.98\n",
       "min      530.89     3,683,966.0       25.55  1.13        2.38\n",
       "25%    2,068.46    39,973,620.5       42.11  1.55      271.04\n",
       "50%     8,924.9   131,972,533.0        76.1  1.93      655.42\n",
       "75%   42,214.99   308,054,975.0       81.39  2.86    3,746.61\n",
       "max   61,174.55 1,378,665,000.0       91.46  6.49   18,624.47"
      ]
     },
     "execution_count": 285,
     "metadata": {},
     "output_type": "execute_result"
    }
   ],
   "source": [
    "round(data_wb.describe(),2)"
   ]
  },
  {
   "cell_type": "markdown",
   "metadata": {},
   "source": [
    "And we check the number of observations and variables."
   ]
  },
  {
   "cell_type": "code",
   "execution_count": 286,
   "metadata": {},
   "outputs": [
    {
     "data": {
      "text/plain": [
       "(243, 7)"
      ]
     },
     "execution_count": 286,
     "metadata": {},
     "output_type": "execute_result"
    }
   ],
   "source": [
    "data_wb.shape"
   ]
  },
  {
   "cell_type": "markdown",
   "metadata": {},
   "source": [
    "We control whether the dataset is balanced."
   ]
  },
  {
   "cell_type": "code",
   "execution_count": 287,
   "metadata": {},
   "outputs": [
    {
     "data": {
      "text/plain": [
       "country       243\n",
       "year          243\n",
       "gdp_pC        243\n",
       "pop           243\n",
       "urban_pop%    243\n",
       "frt           243\n",
       "gdp_in_bil    243\n",
       "dtype: int64"
      ]
     },
     "execution_count": 287,
     "metadata": {},
     "output_type": "execute_result"
    }
   ],
   "source": [
    "data_wb.count()"
   ]
  },
  {
   "cell_type": "markdown",
   "metadata": {},
   "source": [
    "The data set is balanced."
   ]
  },
  {
   "cell_type": "markdown",
   "metadata": {},
   "source": [
    "# Data Analysis and Visualisations "
   ]
  },
  {
   "cell_type": "markdown",
   "metadata": {},
   "source": [
    "Average level of every variable for each single country.\n",
    "\n",
    "overview shows countries with a high gdp per capita have a low fertility rate. Countries with a high gdp per capita have a huge share of urban population. We can start to think about the relations between the variables. "
   ]
  },
  {
   "cell_type": "code",
   "execution_count": 288,
   "metadata": {},
   "outputs": [
    {
     "data": {
      "text/html": [
       "<div>\n",
       "<style scoped>\n",
       "    .dataframe tbody tr th:only-of-type {\n",
       "        vertical-align: middle;\n",
       "    }\n",
       "\n",
       "    .dataframe tbody tr th {\n",
       "        vertical-align: top;\n",
       "    }\n",
       "\n",
       "    .dataframe thead th {\n",
       "        text-align: right;\n",
       "    }\n",
       "</style>\n",
       "<table border=\"1\" class=\"dataframe\">\n",
       "  <thead>\n",
       "    <tr style=\"text-align: right;\">\n",
       "      <th></th>\n",
       "      <th>gdp_pC</th>\n",
       "      <th>pop</th>\n",
       "      <th>urban_pop%</th>\n",
       "      <th>frt</th>\n",
       "      <th>gdp_in_bil</th>\n",
       "    </tr>\n",
       "    <tr>\n",
       "      <th>country</th>\n",
       "      <th></th>\n",
       "      <th></th>\n",
       "      <th></th>\n",
       "      <th></th>\n",
       "      <th></th>\n",
       "    </tr>\n",
       "  </thead>\n",
       "  <tbody>\n",
       "    <tr>\n",
       "      <th>Brazil</th>\n",
       "      <td>9,595.04</td>\n",
       "      <td>180,812,509.93</td>\n",
       "      <td>81.31</td>\n",
       "      <td>2.18</td>\n",
       "      <td>1,183.42</td>\n",
       "    </tr>\n",
       "    <tr>\n",
       "      <th>China</th>\n",
       "      <td>2,945.46</td>\n",
       "      <td>1,276,308,703.7</td>\n",
       "      <td>40.55</td>\n",
       "      <td>1.65</td>\n",
       "      <td>3,606.57</td>\n",
       "    </tr>\n",
       "    <tr>\n",
       "      <th>Denmark</th>\n",
       "      <td>54,864.22</td>\n",
       "      <td>5,401,958.63</td>\n",
       "      <td>85.86</td>\n",
       "      <td>1.76</td>\n",
       "      <td>238.79</td>\n",
       "    </tr>\n",
       "    <tr>\n",
       "      <th>India</th>\n",
       "      <td>994.89</td>\n",
       "      <td>1,104,088,507.19</td>\n",
       "      <td>28.89</td>\n",
       "      <td>3.11</td>\n",
       "      <td>935.46</td>\n",
       "    </tr>\n",
       "    <tr>\n",
       "      <th>Japan</th>\n",
       "      <td>42,941.81</td>\n",
       "      <td>126,685,574.48</td>\n",
       "      <td>83.94</td>\n",
       "      <td>1.4</td>\n",
       "      <td>4,715.85</td>\n",
       "    </tr>\n",
       "    <tr>\n",
       "      <th>Nigeria</th>\n",
       "      <td>1,820.09</td>\n",
       "      <td>135,188,798.89</td>\n",
       "      <td>38.11</td>\n",
       "      <td>6.03</td>\n",
       "      <td>203.29</td>\n",
       "    </tr>\n",
       "    <tr>\n",
       "      <th>Spain</th>\n",
       "      <td>28,067.42</td>\n",
       "      <td>42,809,614.85</td>\n",
       "      <td>77.17</td>\n",
       "      <td>1.28</td>\n",
       "      <td>972.34</td>\n",
       "    </tr>\n",
       "    <tr>\n",
       "      <th>Turkmenistan</th>\n",
       "      <td>3,568.09</td>\n",
       "      <td>4,675,784.89</td>\n",
       "      <td>46.95</td>\n",
       "      <td>3.1</td>\n",
       "      <td>13.47</td>\n",
       "    </tr>\n",
       "    <tr>\n",
       "      <th>United States</th>\n",
       "      <td>45,026.29</td>\n",
       "      <td>289,012,140.0</td>\n",
       "      <td>79.19</td>\n",
       "      <td>1.99</td>\n",
       "      <td>11,842.19</td>\n",
       "    </tr>\n",
       "  </tbody>\n",
       "</table>\n",
       "</div>"
      ],
      "text/plain": [
       "                 gdp_pC              pop  urban_pop%  frt  gdp_in_bil\n",
       "country                                                              \n",
       "Brazil         9,595.04   180,812,509.93       81.31 2.18    1,183.42\n",
       "China          2,945.46  1,276,308,703.7       40.55 1.65    3,606.57\n",
       "Denmark       54,864.22     5,401,958.63       85.86 1.76      238.79\n",
       "India            994.89 1,104,088,507.19       28.89 3.11      935.46\n",
       "Japan         42,941.81   126,685,574.48       83.94  1.4    4,715.85\n",
       "Nigeria        1,820.09   135,188,798.89       38.11 6.03      203.29\n",
       "Spain         28,067.42    42,809,614.85       77.17 1.28      972.34\n",
       "Turkmenistan   3,568.09     4,675,784.89       46.95  3.1       13.47\n",
       "United States 45,026.29    289,012,140.0       79.19 1.99   11,842.19"
      ]
     },
     "execution_count": 288,
     "metadata": {},
     "output_type": "execute_result"
    }
   ],
   "source": [
    "round(data_wb.groupby('country').mean(),2)"
   ]
  },
  {
   "cell_type": "markdown",
   "metadata": {},
   "source": [
    "## Interactive plot"
   ]
  },
  {
   "cell_type": "markdown",
   "metadata": {},
   "source": [
    "Now, we want to make an interactive plot which displays the development of GDP per capita over time\n",
    "for the different countries.  \n",
    "\n",
    "First, we import the necessary packages and tools: \n",
    "\n",
    "**Import the packages** we need. If we do not have the packages, we have to install them. Therefore, install:\n",
    ">`pip install matplotlib`\n",
    ">`pip install ipywidgets`"
   ]
  },
  {
   "cell_type": "code",
   "execution_count": 289,
   "metadata": {},
   "outputs": [],
   "source": [
    "#Tonje \n",
    "import matplotlib.pyplot as plt\n",
    "%matplotlib inline \n",
    "from ipywidgets import interact, interactive, fixed, interact_manual \n",
    "import ipywidgets as widgets \n"
   ]
  },
  {
   "cell_type": "markdown",
   "metadata": {},
   "source": [
    "Then, define the relevant variables in a ways which simplifies the coding: "
   ]
  },
  {
   "cell_type": "code",
   "execution_count": 290,
   "metadata": {},
   "outputs": [],
   "source": [
    "#Tonje \n",
    "country=data_wb[\"country\"]\n",
    "year=data_wb[\"year\"]\n",
    "gdp_pC=data_wb[\"gdp_pC\"]\n"
   ]
  },
  {
   "cell_type": "markdown",
   "metadata": {},
   "source": [
    "Create a function constructing a figure: "
   ]
  },
  {
   "cell_type": "code",
   "execution_count": 291,
   "metadata": {},
   "outputs": [],
   "source": [
    "#Tonje \n",
    "def interactive_figure(country, data_wb):\n",
    "    \"\"\"define an interactive figure that uses countries and the dataframe as inputs \"\"\"\n",
    "    \n",
    "    data_country = data_wb[data_wb.country == country]\n",
    "    year = data_country.year\n",
    "    gdp_pC = data_country.gdp_pC\n",
    "    fig = plt.figure(dpi=100)\n",
    "    ax = fig.add_subplot(1,1,1)\n",
    "    ax.plot(year, gdp_pC)\n",
    "    ax.set_xlabel(\"Years\")\n",
    "    ax.set_ylabel(\"GDP per Capita\")\n",
    "    plt.xticks(rotation=90)\n",
    "    plt.gca().invert_xaxis()\n",
    "\n"
   ]
  },
  {
   "cell_type": "markdown",
   "metadata": {},
   "source": [
    "Make it interactive with a drop down menu:"
   ]
  },
  {
   "cell_type": "code",
   "execution_count": 292,
   "metadata": {},
   "outputs": [
    {
     "data": {
      "application/vnd.jupyter.widget-view+json": {
       "model_id": "c1789fa7c8fd4b29a8d42d51aa4e1ab5",
       "version_major": 2,
       "version_minor": 0
      },
      "text/plain": [
       "interactive(children=(Dropdown(description='Country', options=('Brazil', 'China', 'Denmark', 'Spain', 'India',…"
      ]
     },
     "metadata": {},
     "output_type": "display_data"
    }
   ],
   "source": [
    "#Tonje\n",
    "widgets.interact(interactive_figure,\n",
    "    year = widgets.fixed(year),\n",
    "    data_wb = widgets.fixed(data_wb),\n",
    "    country=widgets.Dropdown(description=\"Country\", options=data_wb.country.unique()),\n",
    "    gdp_pC=widgets.fixed(gdp_pC)\n",
    ");"
   ]
  },
  {
   "cell_type": "markdown",
   "metadata": {},
   "source": [
    "We can see that the overall trend for the selected countries is increasing GDP per capita.\n",
    "However, for the Western countries and Japan we can see the trace of the 2008 financial crisis.  For Spain, \n",
    "one of the countries that suffered most from this crisis, the dip is particularly visible. It is also worth noticing that China fared better than most industustrial nations during this crisis. This is partly due to Chinas closed nature, which made them less vulnerable to financial friction in the world economy. "
   ]
  },
  {
   "cell_type": "markdown",
   "metadata": {},
   "source": [
    "## World Map"
   ]
  },
  {
   "cell_type": "markdown",
   "metadata": {},
   "source": [
    "After having a look at the first visualisations, we want to get an insight of the data by plotting it on a world map. This way we can easily compare and see whether countries in certain areas of the world have similar values in the variables we are interested in.\n",
    "\n",
    "First, we import the necessary package: \n",
    "\n",
    "**Import the package** we need. If we do not have the package, we have to install it. Therefore, install:\n",
    ">`pip install folium`"
   ]
  },
  {
   "cell_type": "code",
   "execution_count": 293,
   "metadata": {},
   "outputs": [],
   "source": [
    "import folium"
   ]
  },
  {
   "cell_type": "markdown",
   "metadata": {},
   "source": [
    "Our goal is to visualize the data on a world map using makers.\n",
    "\n",
    "In order to define the location of the markers, we add the coordinates of the counries. Therefore, we add the variable 'Lat' for latitude and 'Lon' for longitude of the respecitve country to each observation in our data set."
   ]
  },
  {
   "cell_type": "code",
   "execution_count": 294,
   "metadata": {},
   "outputs": [],
   "source": [
    "row_indexes=data_wb[data_wb['country']== 'Brazil'].index\n",
    "data_wb.loc[row_indexes,'Lat']= -14.2350\n",
    "data_wb.loc[row_indexes,'Lon']= -51.9253\n",
    "\n",
    "row_indexes=data_wb[data_wb['country']== 'China'].index\n",
    "data_wb.loc[row_indexes,'Lat']= 33.5449\n",
    "data_wb.loc[row_indexes,'Lon']= 103.149\n",
    "\n",
    "row_indexes=data_wb[data_wb['country']== 'Denmark'].index\n",
    "data_wb.loc[row_indexes,'Lat']= 56.2639\n",
    "data_wb.loc[row_indexes,'Lon']= 9.5018\n",
    "\n",
    "row_indexes=data_wb[data_wb['country']== 'Spain'].index\n",
    "data_wb.loc[row_indexes,'Lat']= 40.4637\n",
    "data_wb.loc[row_indexes,'Lon']= -3.7492\n",
    "\n",
    "row_indexes=data_wb[data_wb['country']== 'India'].index\n",
    "data_wb.loc[row_indexes,'Lat']= 20.5937\n",
    "data_wb.loc[row_indexes,'Lon']= 78.9629\n",
    "\n",
    "row_indexes=data_wb[data_wb['country']== 'Japan'].index\n",
    "data_wb.loc[row_indexes,'Lat']= 36.2048\n",
    "data_wb.loc[row_indexes,'Lon']= 138.2529\n",
    "\n",
    "row_indexes=data_wb[data_wb['country']== 'Nigeria'].index\n",
    "data_wb.loc[row_indexes,'Lat']= 9.0820\n",
    "data_wb.loc[row_indexes,'Lon']= 8.6753\n",
    "\n",
    "row_indexes=data_wb[data_wb['country']== 'Turkmenistan'].index\n",
    "data_wb.loc[row_indexes,'Lat']= 38.9697\n",
    "data_wb.loc[row_indexes,'Lon']= 59.5563\n",
    "\n",
    "row_indexes=data_wb[data_wb['country']== 'United States'].index\n",
    "data_wb.loc[row_indexes,'Lat']= 37.0902\n",
    "data_wb.loc[row_indexes,'Lon']= -95.7129"
   ]
  },
  {
   "cell_type": "code",
   "execution_count": 295,
   "metadata": {},
   "outputs": [
    {
     "data": {
      "text/html": [
       "<div>\n",
       "<style scoped>\n",
       "    .dataframe tbody tr th:only-of-type {\n",
       "        vertical-align: middle;\n",
       "    }\n",
       "\n",
       "    .dataframe tbody tr th {\n",
       "        vertical-align: top;\n",
       "    }\n",
       "\n",
       "    .dataframe thead th {\n",
       "        text-align: right;\n",
       "    }\n",
       "</style>\n",
       "<table border=\"1\" class=\"dataframe\">\n",
       "  <thead>\n",
       "    <tr style=\"text-align: right;\">\n",
       "      <th></th>\n",
       "      <th>country</th>\n",
       "      <th>year</th>\n",
       "      <th>gdp_pC</th>\n",
       "      <th>pop</th>\n",
       "      <th>urban_pop%</th>\n",
       "      <th>frt</th>\n",
       "      <th>gdp_in_bil</th>\n",
       "      <th>Lat</th>\n",
       "      <th>Lon</th>\n",
       "    </tr>\n",
       "  </thead>\n",
       "  <tbody>\n",
       "    <tr>\n",
       "      <th>1</th>\n",
       "      <td>Brazil</td>\n",
       "      <td>2016</td>\n",
       "      <td>10,868.6534</td>\n",
       "      <td>207652865</td>\n",
       "      <td>86.042</td>\n",
       "      <td>1.726</td>\n",
       "      <td>1,793.989</td>\n",
       "      <td>-14.235</td>\n",
       "      <td>-51.9253</td>\n",
       "    </tr>\n",
       "    <tr>\n",
       "      <th>2</th>\n",
       "      <td>Brazil</td>\n",
       "      <td>2015</td>\n",
       "      <td>11,351.5657</td>\n",
       "      <td>205962108</td>\n",
       "      <td>85.77</td>\n",
       "      <td>1.74</td>\n",
       "      <td>1,802.2144</td>\n",
       "      <td>-14.235</td>\n",
       "      <td>-51.9253</td>\n",
       "    </tr>\n",
       "    <tr>\n",
       "      <th>3</th>\n",
       "      <td>Brazil</td>\n",
       "      <td>2014</td>\n",
       "      <td>11,870.1484</td>\n",
       "      <td>204213133</td>\n",
       "      <td>85.492</td>\n",
       "      <td>1.753</td>\n",
       "      <td>2,455.9936</td>\n",
       "      <td>-14.235</td>\n",
       "      <td>-51.9253</td>\n",
       "    </tr>\n",
       "    <tr>\n",
       "      <th>4</th>\n",
       "      <td>Brazil</td>\n",
       "      <td>2013</td>\n",
       "      <td>11,915.4171</td>\n",
       "      <td>202408632</td>\n",
       "      <td>85.209</td>\n",
       "      <td>1.765</td>\n",
       "      <td>2,472.8069</td>\n",
       "      <td>-14.235</td>\n",
       "      <td>-51.9253</td>\n",
       "    </tr>\n",
       "    <tr>\n",
       "      <th>5</th>\n",
       "      <td>Brazil</td>\n",
       "      <td>2012</td>\n",
       "      <td>11,673.7705</td>\n",
       "      <td>200560983</td>\n",
       "      <td>84.923</td>\n",
       "      <td>1.777</td>\n",
       "      <td>2,465.1887</td>\n",
       "      <td>-14.235</td>\n",
       "      <td>-51.9253</td>\n",
       "    </tr>\n",
       "  </tbody>\n",
       "</table>\n",
       "</div>"
      ],
      "text/plain": [
       "  country  year      gdp_pC        pop  urban_pop%   frt  gdp_in_bil     Lat  \\\n",
       "1  Brazil  2016 10,868.6534  207652865      86.042 1.726   1,793.989 -14.235   \n",
       "2  Brazil  2015 11,351.5657  205962108       85.77  1.74  1,802.2144 -14.235   \n",
       "3  Brazil  2014 11,870.1484  204213133      85.492 1.753  2,455.9936 -14.235   \n",
       "4  Brazil  2013 11,915.4171  202408632      85.209 1.765  2,472.8069 -14.235   \n",
       "5  Brazil  2012 11,673.7705  200560983      84.923 1.777  2,465.1887 -14.235   \n",
       "\n",
       "       Lon  \n",
       "1 -51.9253  \n",
       "2 -51.9253  \n",
       "3 -51.9253  \n",
       "4 -51.9253  \n",
       "5 -51.9253  "
      ]
     },
     "execution_count": 295,
     "metadata": {},
     "output_type": "execute_result"
    }
   ],
   "source": [
    "round(data_wb.head(),4) #just to check"
   ]
  },
  {
   "cell_type": "markdown",
   "metadata": {},
   "source": [
    "Now, we want to create the map.\n",
    "\n",
    "   1. We define the variables year (selectedyear) and variable (selectedvariable) we want to display.\n",
    "   2. We have to create an empty map. Since our countries are located all over the world, we have to display the whole world.\n",
    "   3. In order to run the loop later on, we create an overview of the data we are interested in based on the year and variable we defined in step 1. This overview is called year_overview.\n",
    "   4. Now, we run a for loop over every observation in our year_overview. In the loop, we:\n",
    "       - create a marker on the map corresponding to the coordinates (location).\n",
    "       - define the radius for the marker. It is important to adjust it depending on the variable chosen:\n",
    "           - gdp_pC : 15\n",
    "           - urban_pop% : 8000\n",
    "           - frt : 200000\n",
    "           - gdp_in_bil : 150\n",
    "       - set the color to green.\n",
    "       - decide on a filling for the circle."
   ]
  },
  {
   "cell_type": "code",
   "execution_count": 296,
   "metadata": {},
   "outputs": [
    {
     "data": {
      "text/html": [
       "<div style=\"width:100%;\"><div style=\"position:relative;width:100%;height:0;padding-bottom:60%;\"><iframe src=\"data:text/html;charset=utf-8;base64,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\" style=\"position:absolute;width:100%;height:100%;left:0;top:0;border:none !important;\" allowfullscreen webkitallowfullscreen mozallowfullscreen></iframe></div></div>"
      ],
      "text/plain": [
       "<folium.folium.Map at 0x15bb0330630>"
      ]
     },
     "execution_count": 296,
     "metadata": {},
     "output_type": "execute_result"
    }
   ],
   "source": [
    "# Definition of variables of interest\n",
    "selectedyear = 2010\n",
    "   #select the year you are interested in\n",
    "selectedvariable = 'gdp_pC'\n",
    "    ##select the variable you are interested in\n",
    "\n",
    "# Creation of an empty map\n",
    "map = folium.Map(location=[0,0], tiles=\"Mapbox Bright\", zoom_start=2)\n",
    "\n",
    "#Creation of an overview data set displaying only the selected year\n",
    "year_overview = data_wb.loc[data_wb['year']== str(selectedyear)]\n",
    "\n",
    "# Run of the for loop in order to add a marker one by one on the map\n",
    "for i in range(0,len(year_overview)):\n",
    "    folium.Circle(\n",
    "        location=[year_overview.iloc[i]['Lat'], year_overview.iloc[i]['Lon']],\n",
    "        radius=year_overview.iloc[i][selectedvariable]*15, #the smaller the original number, the higher the radius should be chosen\n",
    "        color='green',\n",
    "        fill=True\n",
    "    ).add_to(map)\n",
    "\n",
    "#calling the map\n",
    "map"
   ]
  },
  {
   "cell_type": "markdown",
   "metadata": {},
   "source": [
    "Looking at the gdp per capita in the year 2010, we can see at one glance that developed countries have a substantially higher gdp per capita than emerging and developing countries. Mapping has the advantage of getting an overview and possible correlation of locations at one glance."
   ]
  },
  {
   "cell_type": "markdown",
   "metadata": {},
   "source": [
    "We save the map in the same folder as the file we are currently working on."
   ]
  },
  {
   "cell_type": "code",
   "execution_count": 297,
   "metadata": {},
   "outputs": [],
   "source": [
    "map.save('./map.py')"
   ]
  },
  {
   "cell_type": "markdown",
   "metadata": {},
   "source": [
    "We drop the variables for the coordinates since they are no longer needed."
   ]
  },
  {
   "cell_type": "code",
   "execution_count": 298,
   "metadata": {},
   "outputs": [],
   "source": [
    "data_wb.drop(['Lat','Lon'], axis = 1, inplace = True)"
   ]
  },
  {
   "cell_type": "markdown",
   "metadata": {},
   "source": [
    "## Fertility Rate per Country"
   ]
  },
  {
   "cell_type": "markdown",
   "metadata": {},
   "source": [
    "The average annual fertility rate presents an overview of the fertility rate for the copuntries and shows that Japan and Spain have the lowest fertility rate, while Nigeria has the highest."
   ]
  },
  {
   "cell_type": "code",
   "execution_count": 299,
   "metadata": {},
   "outputs": [
    {
     "data": {
      "text/plain": [
       "Text(0, 0.5, 'Avg. annual fertility rate')"
      ]
     },
     "execution_count": 299,
     "metadata": {},
     "output_type": "execute_result"
    },
    {
     "data": {
      "image/png": "[encoded data removed]",
      "text/plain": [
       "<Figure size 432x288 with 1 Axes>"
      ]
     },
     "metadata": {
      "needs_background": "light"
     },
     "output_type": "display_data"
    }
   ],
   "source": [
    "ax = data_wb.groupby('country').frt.mean().plot(kind='bar')\n",
    "ax.set_ylabel('Avg. annual fertility rate')"
   ]
  },
  {
   "cell_type": "markdown",
   "metadata": {},
   "source": [
    "The following graph presents annual growth rate of the fertility rate for each country. We observe that denmark is the only country with a negative growth rate. The leading country is India with a growth rate of 0.020 over the years. Surprisingly, Nigeria and the US have almost the same growth rate."
   ]
  },
  {
   "cell_type": "code",
   "execution_count": 300,
   "metadata": {},
   "outputs": [
    {
     "data": {
      "image/png": "[encoded data removed]",
      "text/plain": [
       "<Figure size 432x288 with 1 Axes>"
      ]
     },
     "metadata": {
      "needs_background": "light"
     },
     "output_type": "display_data"
    }
   ],
   "source": [
    "def annual_growth(x): \n",
    "    x_last    = x.values[-1]\n",
    "    x_first   = x.values[0]\n",
    "    num_years = len(x)\n",
    "    \n",
    "    growth_annualized = (x_last/x_first)**(1/num_years) - 1.0\n",
    "    return growth_annualized\n",
    "\n",
    "ax = data_wb.groupby('country')['frt'].agg(annual_growth).plot(kind='bar')\n",
    "ax.set_ylabel('Annual growth (fertility rate) from first to last year'); "
   ]
  },
  {
   "cell_type": "markdown",
   "metadata": {},
   "source": [
    "Look what kind of variables we have. Years should be a numeric variable for the next grapph, but it is a objective (string)."
   ]
  },
  {
   "cell_type": "code",
   "execution_count": 301,
   "metadata": {},
   "outputs": [
    {
     "data": {
      "text/plain": [
       "country        object\n",
       "year           object\n",
       "gdp_pC        float64\n",
       "pop             int64\n",
       "urban_pop%    float64\n",
       "frt           float64\n",
       "gdp_in_bil    float64\n",
       "dtype: object"
      ]
     },
     "execution_count": 301,
     "metadata": {},
     "output_type": "execute_result"
    }
   ],
   "source": [
    "data_wb.dtypes"
   ]
  },
  {
   "cell_type": "markdown",
   "metadata": {},
   "source": [
    "We convert year into a float variable."
   ]
  },
  {
   "cell_type": "code",
   "execution_count": 302,
   "metadata": {},
   "outputs": [],
   "source": [
    "data_wb['year'] = data_wb.year.astype(float)"
   ]
  },
  {
   "cell_type": "markdown",
   "metadata": {},
   "source": [
    "We prove what we have done."
   ]
  },
  {
   "cell_type": "code",
   "execution_count": 303,
   "metadata": {},
   "outputs": [
    {
     "data": {
      "text/plain": [
       "country        object\n",
       "year          float64\n",
       "gdp_pC        float64\n",
       "pop             int64\n",
       "urban_pop%    float64\n",
       "frt           float64\n",
       "gdp_in_bil    float64\n",
       "dtype: object"
      ]
     },
     "execution_count": 303,
     "metadata": {},
     "output_type": "execute_result"
    }
   ],
   "source": [
    "data_wb.dtypes"
   ]
  },
  {
   "cell_type": "markdown",
   "metadata": {},
   "source": [
    " ## Fertility Rate per Country from 1990 until 2016"
   ]
  },
  {
   "cell_type": "code",
   "execution_count": 304,
   "metadata": {},
   "outputs": [],
   "source": [
    "data_wb = data_wb.set_index([\"year\", \"country\"])"
   ]
  },
  {
   "cell_type": "code",
   "execution_count": 205,
   "metadata": {},
   "outputs": [
    {
     "data": {
      "text/plain": [
       "<matplotlib.axes._subplots.AxesSubplot at 0x15bae8caf98>"
      ]
     },
     "execution_count": 205,
     "metadata": {},
     "output_type": "execute_result"
    },
    {
     "data": {
      "image/png": "[encoded data removed]",
      "text/plain": [
       "<Figure size 432x288 with 1 Axes>"
      ]
     },
     "metadata": {
      "needs_background": "light"
     },
     "output_type": "display_data"
    }
   ],
   "source": [
    "#plot fertility rate over the years\n",
    "data_wb.unstack('country')['frt'].plot()"
   ]
  },
  {
   "cell_type": "markdown",
   "metadata": {},
   "source": [
    "The fertility rate declines continously in the most countries. An exseption is Turkmenistan. In this country the fertility rate seems to oszilliate. The US had a little peak in 2007, but since then the fertility rate is declining. "
   ]
  },
  {
   "cell_type": "markdown",
   "metadata": {},
   "source": [
    "## Correlation Table"
   ]
  },
  {
   "cell_type": "code",
   "execution_count": 305,
   "metadata": {},
   "outputs": [
    {
     "data": {
      "image/png": "[encoded data removed]",
      "text/plain": [
       "<Figure size 720x720 with 2 Axes>"
      ]
     },
     "metadata": {
      "needs_background": "light"
     },
     "output_type": "display_data"
    }
   ],
   "source": [
    "import seaborn as sns\n",
    "fig = plt.subplots(figsize = (10,10))\n",
    "sns.set(font_scale=1.5)\n",
    "sns.heatmap(data_wb.corr(),square = True,cbar=True,annot=True,annot_kws={'size': 10})\n",
    "plt.show()"
   ]
  },
  {
   "cell_type": "markdown",
   "metadata": {},
   "source": [
    "This gives a good indication for what to expect from the regression. \n",
    "As expected, GDP per capita is negatively correlated to population and fertility rate, and \n",
    "positively correlated to urban population.\n",
    "\n",
    "Strong correlation between the explanatory variables might give colinearity problems (?) "
   ]
  },
  {
   "cell_type": "markdown",
   "metadata": {},
   "source": [
    "## Panel Regression"
   ]
  },
  {
   "cell_type": "markdown",
   "metadata": {},
   "source": [
    "We want to perform a regression with fertility rate as dependent variable and gdp per capita, population and urban population as independent variables.\n",
    "\n",
    "**Import the packages** we need. If we do not have the packages, we have to intall them. Therefore, install\n",
    ">`pip install linearmodels`\n",
    ">`pip install linearmodels`"
   ]
  },
  {
   "cell_type": "code",
   "execution_count": 306,
   "metadata": {},
   "outputs": [],
   "source": [
    "from linearmodels.panel import PooledOLS\n",
    "from linearmodels.panel import RandomEffects\n",
    "from linearmodels import PanelOLS\n",
    "import statsmodels.api as sm"
   ]
  },
  {
   "cell_type": "markdown",
   "metadata": {},
   "source": [
    "check for year and country, whether these variables are set as index. And yes they are. But for the following regressions \"years\" has to be the second index. If not the regression command will not work."
   ]
  },
  {
   "cell_type": "code",
   "execution_count": 307,
   "metadata": {},
   "outputs": [
    {
     "name": "stdout",
     "output_type": "stream",
     "text": [
      "                           gdp_pC        pop  urban_pop%   frt  \\\n",
      "year    country                                                  \n",
      "2,016.0 Brazil  10,868.6534435352  207652865      86.042 1.726   \n",
      "2,015.0 Brazil  11,351.5657481703  205962108       85.77  1.74   \n",
      "2,014.0 Brazil  11,870.1484076345  204213133      85.492 1.753   \n",
      "2,013.0 Brazil  11,915.4170541095  202408632      85.209 1.765   \n",
      "2,012.0 Brazil  11,673.7705356922  200560983      84.923 1.777   \n",
      "\n",
      "                         gdp_in_bil  \n",
      "year    country                      \n",
      "2,016.0 Brazil    1,793.98904840929  \n",
      "2,015.0 Brazil    1,802.21437374132  \n",
      "2,014.0 Brazil    2,455.99362515937  \n",
      "2,013.0 Brazil    2,472.80691990167  \n",
      "2,012.0 Brazil  2,465.1886744150297  \n"
     ]
    }
   ],
   "source": [
    "print(data_wb.head())"
   ]
  },
  {
   "cell_type": "markdown",
   "metadata": {},
   "source": [
    "Therefore, we reset the index and set it later correctly"
   ]
  },
  {
   "cell_type": "code",
   "execution_count": 308,
   "metadata": {},
   "outputs": [],
   "source": [
    "data_wb.reset_index(inplace = True )"
   ]
  },
  {
   "cell_type": "code",
   "execution_count": 309,
   "metadata": {},
   "outputs": [
    {
     "name": "stdout",
     "output_type": "stream",
     "text": [
      "     year country            gdp_pC        pop  urban_pop%   frt  \\\n",
      "0 2,016.0  Brazil 10,868.6534435352  207652865      86.042 1.726   \n",
      "1 2,015.0  Brazil 11,351.5657481703  205962108       85.77  1.74   \n",
      "2 2,014.0  Brazil 11,870.1484076345  204213133      85.492 1.753   \n",
      "3 2,013.0  Brazil 11,915.4170541095  202408632      85.209 1.765   \n",
      "4 2,012.0  Brazil 11,673.7705356922  200560983      84.923 1.777   \n",
      "\n",
      "           gdp_in_bil  \n",
      "0   1,793.98904840929  \n",
      "1   1,802.21437374132  \n",
      "2   2,455.99362515937  \n",
      "3   2,472.80691990167  \n",
      "4 2,465.1886744150297  \n"
     ]
    }
   ],
   "source": [
    "print(data_wb.head())"
   ]
  },
  {
   "cell_type": "code",
   "execution_count": 310,
   "metadata": {},
   "outputs": [],
   "source": [
    "data_wb = data_wb.set_index([\"country\",\"year\"], append=False)"
   ]
  },
  {
   "cell_type": "markdown",
   "metadata": {},
   "source": [
    "Pooled OLS-Regression "
   ]
  },
  {
   "cell_type": "markdown",
   "metadata": {},
   "source": [
    "We do the first regression with PooledOLS. We have nine entities (countries) and 27 years. But our results not seem to be trustable. For example gdp per capita seems to have no effect on the fertility rate. Moreover, the effect of gdp per capita and population is unlikely small."
   ]
  },
  {
   "cell_type": "code",
   "execution_count": 311,
   "metadata": {},
   "outputs": [
    {
     "name": "stdout",
     "output_type": "stream",
     "text": [
      "                          PooledOLS Estimation Summary                          \n",
      "================================================================================\n",
      "Dep. Variable:                    frt   R-squared:                        0.6796\n",
      "Estimator:                  PooledOLS   R-squared (Between):              0.7154\n",
      "No. Observations:                 243   R-squared (Within):              -0.0943\n",
      "Date:                Wed, Apr 03 2019   R-squared (Overall):              0.6796\n",
      "Time:                        23:18:25   Log-likelihood                   -292.85\n",
      "Cov. Estimator:            Unadjusted                                           \n",
      "                                        F-statistic:                      168.98\n",
      "Entities:                           9   P-value                           0.0000\n",
      "Avg Obs:                       27.000   Distribution:                   F(3,239)\n",
      "Min Obs:                       27.000                                           \n",
      "Max Obs:                       27.000   F-statistic (robust):             168.98\n",
      "                                        P-value                           0.0000\n",
      "Time periods:                      27   Distribution:                   F(3,239)\n",
      "Avg Obs:                       9.0000                                           \n",
      "Min Obs:                       9.0000                                           \n",
      "Max Obs:                       9.0000                                           \n",
      "                                                                                \n",
      "                             Parameter Estimates                              \n",
      "==============================================================================\n",
      "            Parameter  Std. Err.     T-stat    P-value    Lower CI    Upper CI\n",
      "------------------------------------------------------------------------------\n",
      "const          7.2719     0.2561     28.391     0.0000      6.7674      7.7765\n",
      "gdp_pC     -2.143e-06  4.424e-06    -0.4843     0.6286  -1.086e-05   6.573e-06\n",
      "pop        -2.113e-09  1.417e-10    -14.914     0.0000  -2.392e-09  -1.834e-09\n",
      "urban_pop%    -0.0638     0.0045    -14.023     0.0000     -0.0727     -0.0548\n",
      "==============================================================================\n"
     ]
    }
   ],
   "source": [
    "exog_vars = ['gdp_pC', 'pop', 'urban_pop%']\n",
    "exog = sm.add_constant(data_wb[exog_vars])\n",
    "mod = PooledOLS(data_wb.frt, exog)\n",
    "pooled_res = mod.fit()\n",
    "print(pooled_res)"
   ]
  },
  {
   "cell_type": "markdown",
   "metadata": {},
   "source": [
    "Therefore, we have a look at our dependent variable. But it seems that python takes the variable correctly and also the indexes are correct. Therefore, we decide to run another regression with the same data."
   ]
  },
  {
   "cell_type": "code",
   "execution_count": 312,
   "metadata": {},
   "outputs": [
    {
     "data": {
      "text/plain": [
       "country        year   \n",
       "Brazil         2,016.0    1.726\n",
       "               2,015.0     1.74\n",
       "               2,014.0    1.753\n",
       "               2,013.0    1.765\n",
       "               2,012.0    1.777\n",
       "               2,011.0     1.79\n",
       "               2,010.0    1.805\n",
       "               2,009.0    1.824\n",
       "               2,008.0    1.851\n",
       "               2,007.0    1.884\n",
       "               2,006.0    1.926\n",
       "               2,005.0    1.975\n",
       "               2,004.0    2.033\n",
       "               2,003.0    2.096\n",
       "               2,002.0    2.163\n",
       "               2,001.0    2.232\n",
       "               2,000.0      2.3\n",
       "               1,999.0    2.365\n",
       "               1,998.0    2.426\n",
       "               1,997.0    2.482\n",
       "               1,996.0    2.535\n",
       "               1,995.0    2.586\n",
       "               1,994.0    2.638\n",
       "               1,993.0    2.694\n",
       "               1,992.0    2.756\n",
       "               1,991.0    2.827\n",
       "               1,990.0    2.909\n",
       "China          2,016.0    1.624\n",
       "               2,015.0    1.617\n",
       "               2,014.0     1.61\n",
       "                          ...  \n",
       "Turkmenistan   1,992.0    4.071\n",
       "               1,991.0    4.222\n",
       "               1,990.0    4.344\n",
       "United States  2,016.0      1.8\n",
       "               2,015.0   1.8435\n",
       "               2,014.0   1.8625\n",
       "               2,013.0   1.8575\n",
       "               2,012.0   1.8805\n",
       "               2,011.0   1.8945\n",
       "               2,010.0    1.931\n",
       "               2,009.0    2.002\n",
       "               2,008.0    2.072\n",
       "               2,007.0     2.12\n",
       "               2,006.0    2.108\n",
       "               2,005.0    2.057\n",
       "               2,004.0   2.0515\n",
       "               2,003.0   2.0475\n",
       "               2,002.0   2.0205\n",
       "               2,001.0   2.0305\n",
       "               2,000.0    2.056\n",
       "               1,999.0   2.0075\n",
       "               1,998.0    1.999\n",
       "               1,997.0    1.971\n",
       "               1,996.0    1.976\n",
       "               1,995.0    1.978\n",
       "               1,994.0   2.0015\n",
       "               1,993.0   2.0195\n",
       "               1,992.0    2.046\n",
       "               1,991.0   2.0625\n",
       "               1,990.0    2.081\n",
       "Name: frt, Length: 243, dtype: float64"
      ]
     },
     "execution_count": 312,
     "metadata": {},
     "output_type": "execute_result"
    }
   ],
   "source": [
    "data_wb.frt"
   ]
  },
  {
   "cell_type": "markdown",
   "metadata": {},
   "source": [
    "We run a PanelOLS regression and we control for entity effects and time effects. This has indeed an effect on our results. But we do not think to be on a better page. Population and gdp per capita are now both siginificant, but the effect is still unlikely low. Moreover, urban population seems to have a positive on the fertility rate. This is also unlikely. But in terms of the code the regression should be correct. We think that the results depend on the data not on the code. In a next step we could try to run the regression with another programm and compare the result. "
   ]
  },
  {
   "cell_type": "code",
   "execution_count": 313,
   "metadata": {},
   "outputs": [
    {
     "name": "stdout",
     "output_type": "stream",
     "text": [
      "                          PanelOLS Estimation Summary                           \n",
      "================================================================================\n",
      "Dep. Variable:                    frt   R-squared:                        0.6726\n",
      "Estimator:                   PanelOLS   R-squared (Between):             -5.3319\n",
      "No. Observations:                 243   R-squared (Within):              -1.1795\n",
      "Date:                Wed, Apr 03 2019   R-squared (Overall):             -5.1484\n",
      "Time:                        23:18:52   Log-likelihood                    152.75\n",
      "Cov. Estimator:            Unadjusted                                           \n",
      "                                        F-statistic:                      140.39\n",
      "Entities:                           9   P-value                           0.0000\n",
      "Avg Obs:                       27.000   Distribution:                   F(3,205)\n",
      "Min Obs:                       27.000                                           \n",
      "Max Obs:                       27.000   F-statistic (robust):             140.39\n",
      "                                        P-value                           0.0000\n",
      "Time periods:                      27   Distribution:                   F(3,205)\n",
      "Avg Obs:                       9.0000                                           \n",
      "Min Obs:                       9.0000                                           \n",
      "Max Obs:                       9.0000                                           \n",
      "                                                                                \n",
      "                             Parameter Estimates                              \n",
      "==============================================================================\n",
      "            Parameter  Std. Err.     T-stat    P-value    Lower CI    Upper CI\n",
      "------------------------------------------------------------------------------\n",
      "const         -0.3192     0.2853    -1.1191     0.2644     -0.8817      0.2432\n",
      "gdp_pC      8.134e-05   5.22e-06     15.581     0.0000   7.105e-05   9.163e-05\n",
      "pop        -1.577e-09  2.282e-10    -6.9131     0.0000  -2.027e-09  -1.128e-09\n",
      "urban_pop%     0.0266     0.0035     7.5169     0.0000      0.0196      0.0335\n",
      "==============================================================================\n",
      "\n",
      "F-test for Poolability: 230.04\n",
      "P-value: 0.0000\n",
      "Distribution: F(34,205)\n",
      "\n",
      "Included effects: Entity, Time\n"
     ]
    }
   ],
   "source": [
    "exog_vars = ['gdp_pC', 'pop', 'urban_pop%']\n",
    "exog = sm.add_constant(data_wb[exog_vars])\n",
    "mod = PanelOLS(data_wb.frt, exog, entity_effects=True, time_effects=True)\n",
    "pooled_res = mod.fit()\n",
    "print(pooled_res)"
   ]
  }
 ],
 "metadata": {
  "kernelspec": {
   "display_name": "Python 3",
   "language": "python",
   "name": "python3"
  },
  "language_info": {
   "codemirror_mode": {
    "name": "ipython",
    "version": 3
   },
   "file_extension": ".py",
   "mimetype": "text/x-python",
   "name": "python",
   "nbconvert_exporter": "python",
   "pygments_lexer": "ipython3",
   "version": "3.7.1"
  }
 },
 "nbformat": 4,
 "nbformat_minor": 2
}
