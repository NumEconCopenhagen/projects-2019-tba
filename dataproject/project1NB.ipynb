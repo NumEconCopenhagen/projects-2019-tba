{
 "cells": [
  {
   "cell_type": "code",
   "execution_count": 1,
   "metadata": {},
   "outputs": [
    {
     "data": {
      "text/plain": [
       "country       243\n",
       "year          243\n",
       "gdp pC        243\n",
       "gdp           243\n",
       "pop           243\n",
       "urban_pop%    243\n",
       "frt           243\n",
       "dtype: int64"
      ]
     },
     "execution_count": 1,
     "metadata": {},
     "output_type": "execute_result"
    }
   ],
   "source": [
    "# Setup\n",
    "import pandas as pd\n",
    "import numpy as np\n",
    "\n",
    "#setup to download data directly from the databank\n",
    "import pandas_datareader\n",
    "import datetime\n",
    "\n",
    "#setup to download data directly from world data bank\n",
    "from pandas_datareader import wb\n",
    "\n",
    "#define countries we are looking for\n",
    "countries = [\"CN\",\"JP\",\"BR\",\"US\",\"DK\",\"ES\",\"TM\",\"IN\",\"NG\"]\n",
    "\n",
    "#define indicator\n",
    "indicators = {\"NY.GDP.PCAP.KD\":\"GDP per capita\", \"NY.GDP.MKTP.CD\":\"GDP(current US $)\", \"SP.POP.TOTL\":\"Population total\", \n",
    "              \"SP.URB.TOTL.IN.ZS\":\"Urban Population in %\", \"SP.DYN.TFRT.IN\":\"Fertility Rate\", \"SE.ADT.LITR.ZS\": \"Literacy rate, adult total in %\" }\n",
    "\n",
    "\n",
    "#example download world data bank shown in the lecture\n",
    "data_wb = wb.download(indicator= indicators, country= countries, start=1990, end=2017)\n",
    "data_wb = data_wb.rename(columns = {\"NY.GDP.PCAP.KD\":\"gdp pC\",\"NY.GDP.MKTP.CD\":\"gdp\", \"SP.POP.TOTL\":\"pop\", \"SP.URB.TOTL.IN.ZS\":\"urban_pop%\", \n",
    "                                    \"SP.DYN.TFRT.IN\":\"frt\", \"SE.ADT.LITR.ZS\":\"litr\"})\n",
    "data_wb = data_wb.reset_index()\n",
    "data_wb.head(-5)\n",
    "\n",
    "# save datasheet as excel (just to see it)_index=false to avoid saving the index\n",
    "writer = pd.ExcelWriter('pandas_simple.xlsx', engine='xlsxwriter')\n",
    "data_wb.to_excel(r\"C:\\Users\\BKirs\\OneDrive\\03_Master\\07_IntroToProgramming\\DataProject_IP\\projects-2019-tba\\dataproject\\data_wb.xlsx\")\n",
    "\n",
    "data_wb.shape\n",
    "\n",
    "#summary statistics\n",
    "data_wb.describe()\n",
    "\n",
    "# detect for missing data\n",
    "## count missing data\n",
    "data_wb.isnull().sum().sum()\n",
    "\n",
    "## number of observations\n",
    "data_wb.count()\n",
    "\n",
    "## missing value of each variable\n",
    "data_wb.isnull().sum()\n",
    "\n",
    "# drop litr\n",
    "data_wb.drop(['litr'], axis = 1, inplace = True)\n",
    "\n",
    "#search for the nine missing values in frt\n",
    "data_wb.groupby('year').mean()\n",
    "\n",
    "#show frt only for 2017\n",
    "data_wb.loc[data_wb['year'] == \"2017\", :].head(-1)\n",
    "\n",
    "# drop the year for which the data is missing \n",
    "I = data_wb['year'] == \"2017\"\n",
    "data_wb.drop(data_wb[I].index, inplace = True)\n",
    "# => data cleaning done\n",
    "\n",
    "\n",
    "#summary statistics\n",
    "data_wb.describe()\n",
    "\n",
    "data_wb.shape\n",
    "\n",
    "data_wb.count()\n",
    "#=>data cleaning finished\n",
    "\n",
    "# make some cool groupby things see lecture basic_data\n",
    "##empl.groupby('municipality')['e'].mean().head(10)\n",
    "##empl.groupby('year')['e'].mean().plot\n",
    "# demean to compare it better\n",
    "##stocks2.groupby('firm')['close_demeaned'].plot(legend=True); \n",
    "##plt.title('Stock price: deviation from time-average'); \n",
    "# perform summary statistics\n",
    "## nameofdataset.describe()\n",
    "# maybe create an interactive table for each country\n",
    "##see load_save_and_structure_data\n",
    "#correlation table?\n",
    "# maybe perform a simple regression\n",
    "# world maps as diagramm\n"
   ]
  },
  {
   "cell_type": "code",
   "execution_count": null,
   "metadata": {},
   "outputs": [],
   "source": []
  }
 ],
 "metadata": {
  "kernelspec": {
   "display_name": "Python 3",
   "language": "python",
   "name": "python3"
  },
  "language_info": {
   "codemirror_mode": {
    "name": "ipython",
    "version": 3
   },
   "file_extension": ".py",
   "mimetype": "text/x-python",
   "name": "python",
   "nbconvert_exporter": "python",
   "pygments_lexer": "ipython3",
   "version": "3.7.1"
  }
 },
 "nbformat": 4,
 "nbformat_minor": 2
}
