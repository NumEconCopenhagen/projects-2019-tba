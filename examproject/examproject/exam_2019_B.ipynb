{
 "cells": [
  {
   "cell_type": "code",
   "execution_count": 1,
   "metadata": {},
   "outputs": [],
   "source": [
    "import numpy as np"
   ]
  },
  {
   "cell_type": "markdown",
   "metadata": {},
   "source": [
    "# 1. Human capital accumulation"
   ]
  },
  {
   "cell_type": "markdown",
   "metadata": {},
   "source": [
    "Consider a worker living in **two periods**, $t \\in \\{1,2\\}$. \n",
    "\n",
    "In each period she decides whether to **work ($l_t = 1$) or not ($l_t = 0$)**. \n",
    "\n",
    "She can *not* borrow or save and thus **consumes all of her income** in each period. "
   ]
  },
  {
   "cell_type": "markdown",
   "metadata": {},
   "source": [
    "If she **works** her **consumption** becomes:\n",
    "\n",
    "$$c_t = w h_t l_t\\,\\,\\text{if}\\,\\,l_t=1$$\n",
    "\n",
    "where $w$ is **the wage rate** and $h_t$ is her **human capital**. \n",
    "\n",
    "If she does **not work** her consumption becomes:\n",
    "\n",
    "$$c_t = b\\,\\,\\text{if}\\,\\,l_t=0$$\n",
    "\n",
    "where $b$ is the **unemployment benefits**."
   ]
  },
  {
   "cell_type": "markdown",
   "metadata": {},
   "source": [
    "Her **utility of consumption** is: \n",
    "\n",
    "$$ \\frac{c_t^{1-\\rho}}{1-\\rho} $$\n",
    "\n",
    "Her **disutility of working** is:\n",
    "\n",
    "$$ \\gamma l_t $$"
   ]
  },
  {
   "cell_type": "markdown",
   "metadata": {},
   "source": [
    "From period 1 to period 2, she **accumulates human capital** according to:\n",
    "\n",
    "$$ h_2 = h_1 + l_1 + \n",
    "\\begin{cases}\n",
    "0 & \\text{with prob. }0.5 \\\\\n",
    "\\Delta & \\text{with prob. }0.5 \n",
    "\\end{cases} \\\\\n",
    "$$\n",
    "\n",
    "where $\\Delta$ is a **stochastic experience gain**."
   ]
  },
  {
   "cell_type": "markdown",
   "metadata": {},
   "source": [
    "In the **second period** the worker thus solves:\n",
    "\n",
    "$$\n",
    "\\begin{eqnarray*}\n",
    "v_{2}(h_{2}) & = &\\max_{l_{2}} \\frac{c_2^{1-\\rho}}{1-\\rho} - \\gamma l_2\n",
    "\\\\ & \\text{s.t.} & \\\\\n",
    "c_{2}& = & w h_2 l_2 \\\\\n",
    "l_{2}& \\in &\\{0,1\\}\n",
    "\\end{eqnarray*}\n",
    "$$"
   ]
  },
  {
   "cell_type": "markdown",
   "metadata": {},
   "source": [
    "In the **first period** the worker thus solves:\n",
    "\n",
    "$$\n",
    "\\begin{eqnarray*}\n",
    "v_{1}(h_{1}) &=& \\max_{l_{1}} \\frac{c_1^{1-\\rho}}{1-\\rho} - \\gamma l_1 + \\beta\\mathbb{E}_{1}\\left[v_2(h_2)\\right]\n",
    "\\\\ & \\text{s.t.} & \\\\\n",
    "c_1 &=& w h_1 l_1 \\\\\n",
    "h_2 &=& h_1 + l_1 + \\begin{cases}\n",
    "0 & \\text{with prob. }0.5\\\\\n",
    "\\Delta & \\text{with prob. }0.5 \n",
    "\\end{cases}\\\\\n",
    "l_{1} &\\in& \\{0,1\\}\\\\\n",
    "\\end{eqnarray*}\n",
    "$$\n",
    "\n",
    "where $\\beta$ is the **discount factor** and $\\mathbb{E}_{1}\\left[v_2(h_2)\\right]$ is the **expected value of living in period two**."
   ]
  },
  {
   "cell_type": "markdown",
   "metadata": {},
   "source": [
    "The **parameters** of the model are:"
   ]
  },
  {
   "cell_type": "code",
   "execution_count": 2,
   "metadata": {},
   "outputs": [],
   "source": [
    "rho = 2\n",
    "beta = 0.96\n",
    "gamma = 0.1\n",
    "w = 2\n",
    "b = 1\n",
    "Delta = 0.1"
   ]
  },
  {
   "cell_type": "markdown",
   "metadata": {},
   "source": [
    "The **relevant levels of human capital** are:"
   ]
  },
  {
   "cell_type": "code",
   "execution_count": 3,
   "metadata": {},
   "outputs": [],
   "source": [
    "h_vec = np.linspace(0.1,1.5,100) "
   ]
  },
  {
   "cell_type": "markdown",
   "metadata": {},
   "source": [
    "**Question 1:** Solve the model in period 2 and illustrate the solution (including labor supply as a function of human capital). \n",
    "\n",
    "**Question 2:** Solve the model in period 1 and illustrate the solution (including labor supply as a function of human capital). \n",
    "\n",
    "**Question 3:** Will the worker never work if her potential wage income is lower than the unemployment benefits she can get? Explain and illustrate why or why not."
   ]
  },
  {
   "cell_type": "markdown",
   "metadata": {},
   "source": [
    "# 2. AS-AD model"
   ]
  },
  {
   "cell_type": "markdown",
   "metadata": {},
   "source": [
    "Consider the following **AS-AD model**. The **goods market equilibrium** is given by\n",
    "\n",
    "$$ y_{t} = -\\alpha r_{t} + v_{t} $$\n",
    "\n",
    "where $y_{t}$ is the **output gap**, $r_{t}$ is the **ex ante real interest** and $v_{t}$ is a **demand disturbance**. "
   ]
  },
  {
   "cell_type": "markdown",
   "metadata": {},
   "source": [
    "The central bank's **Taylor rule** is\n",
    "\n",
    "$$ i_{t} = \\pi_{t+1}^{e} + h \\pi_{t} + b y_{t}$$\n",
    "\n",
    "where $i_{t}$ is the **nominal interest rate**, $\\pi_{t}$ is the **inflation gap**, and $\\pi_{t+1}^{e}$ is the **expected inflation gap**. "
   ]
  },
  {
   "cell_type": "markdown",
   "metadata": {},
   "source": [
    "The **ex ante real interest rate** is given by \n",
    "\n",
    "$$ r_{t} = i_{t} - \\pi_{t+1}^{e} $$"
   ]
  },
  {
   "cell_type": "markdown",
   "metadata": {},
   "source": [
    "Together, the above implies that the **AD-curve** is\n",
    "\n",
    "$$ \\pi_{t} = \\frac{1}{h\\alpha}\\left[v_{t} - (1+b\\alpha)y_{t}\\right]$$"
   ]
  },
  {
   "cell_type": "markdown",
   "metadata": {},
   "source": [
    "Further, assume that the **short-run supply curve (SRAS)** is given by\n",
    "\n",
    "$$ \\pi_{t} = \\pi_{t}^{e} + \\gamma y_{t} + s_{t}$$\n",
    "\n",
    "where $s_t$ is a **supply disturbance**."
   ]
  },
  {
   "cell_type": "markdown",
   "metadata": {},
   "source": [
    "**Inflation expectations are adaptive** and given by\n",
    "\n",
    "$$ \\pi_{t}^{e} = \\phi\\pi_{t-1}^{e} + (1-\\phi)\\pi_{t-1}$$"
   ]
  },
  {
   "cell_type": "markdown",
   "metadata": {},
   "source": [
    "Together, this implies that the **SRAS-curve** can also be written as\n",
    "\n",
    "$$ \\pi_{t} = \\pi_{t-1} + \\gamma y_{t} - \\phi\\gamma y_{t-1} + s_{t} - \\phi s_{t-1} $$"
   ]
  },
  {
   "cell_type": "markdown",
   "metadata": {},
   "source": [
    "The **parameters** of the model are:"
   ]
  },
  {
   "cell_type": "code",
   "execution_count": 4,
   "metadata": {},
   "outputs": [],
   "source": [
    "par = {}\n",
    "\n",
    "par['alpha'] = 5.76\n",
    "par['h'] = 0.5\n",
    "par['b'] = 0.5\n",
    "par['phi'] = 0\n",
    "par['gamma'] = 0.075"
   ]
  },
  {
   "cell_type": "markdown",
   "metadata": {},
   "source": [
    "**Question 1:** Use the ``sympy`` module to solve for the equilibrium values of output, $y_t$, and inflation, $\\pi_t$, (where AD = SRAS) given the parameters ($\\alpha$, $h$, $b$, $\\alpha$, $\\gamma$) and $y_{t-1}$ , $\\pi_{t-1}$, $v_t$, $s_t$, and $s_{t-1}$.\n",
    "\n",
    "**Question 2:** Find and illustrate the equilibrium when $y_{t-1} = \\pi_{t-1} = v_t = s_t = s_{t-1} = 0$. Illustrate how the equilibrium changes when instead $v_t = 0.1$."
   ]
  },
  {
   "cell_type": "markdown",
   "metadata": {},
   "source": [
    "**Persistent disturbances:** Now, additionaly, assume that both the demand and the supply disturbances are AR(1) processes\n",
    "\n",
    "$$ v_{t} = \\delta v_{t-1} + x_{t} $$\n",
    "$$ s_{t} = \\omega s_{t-1} + c_{t} $$\n",
    "\n",
    "where $x_{t}$ is a **demand shock**, and $c_t$ is a **supply shock**. The **autoregressive parameters** are:"
   ]
  },
  {
   "cell_type": "code",
   "execution_count": 5,
   "metadata": {},
   "outputs": [],
   "source": [
    "par['delta'] = 0.80\n",
    "par['omega'] = 0.15"
   ]
  },
  {
   "cell_type": "markdown",
   "metadata": {},
   "source": [
    "**Question 3:** Starting from $y_{-1} = \\pi_{-1} = s_{-1} = 0$, how does the economy evolve for $x_0 = 0.1$, $x_t = 0, \\forall t > 0$ and $c_t = 0, \\forall t \\geq 0$?"
   ]
  },
  {
   "cell_type": "markdown",
   "metadata": {},
   "source": [
    "**Stochastic shocks:** Now, additionally, assume that $x_t$ and $c_t$ are stochastic and normally distributed\n",
    "\n",
    "$$ x_{t}\\sim\\mathcal{N}(0,\\sigma_{x}^{2}) $$\n",
    "$$ c_{t}\\sim\\mathcal{N}(0,\\sigma_{c}^{2}) $$\n",
    "\n",
    "The **standard deviations of the shocks** are:"
   ]
  },
  {
   "cell_type": "code",
   "execution_count": 6,
   "metadata": {},
   "outputs": [],
   "source": [
    "par['sigma_x'] = 3.492\n",
    "par['sigma_c'] = 0.2"
   ]
  },
  {
   "cell_type": "markdown",
   "metadata": {},
   "source": [
    "**Question 4:** Simulate the AS-AD model for 1,000 periods. Calculate the following five statistics:\n",
    "\n",
    "1. Variance of $y_t$, $var(y_t)$\n",
    "2. Variance of $\\pi_t$, $var(\\pi_t)$\n",
    "3. Correlation between $y_t$ and $\\pi_t$, $corr(y_t,\\pi_t)$\n",
    "4. Auto-correlation between $y_t$ and $y_{t-1}$, $corr(y_t,y_{t-1})$\n",
    "5. Auto-correlation between $\\pi_t$ and $\\pi_{t-1}$, $corr(\\pi_t,\\pi_{t-1})$"
   ]
  },
  {
   "cell_type": "markdown",
   "metadata": {},
   "source": [
    "**Question 5:** Plot how the correlation between $y_t$ and $\\pi_t$ changes with $\\phi$. Use a numerical optimizer or root finder to choose $\\phi\\in(0,1)$ such that the simulated correlation between $y_t$ and $\\pi_t$ comes close to 0.31. "
   ]
  },
  {
   "cell_type": "markdown",
   "metadata": {},
   "source": [
    "**Quesiton 6:** Use a numerical optimizer to choose $\\sigma_x>0$, $\\sigma_c>0$ and $\\phi\\in(0,1)$ to make the simulated statistics as close as possible to US business cycle data where:\n",
    "\n",
    "1. $var(y_t) = 1.64$\n",
    "2. $var(\\pi_t) = 0.21$\n",
    "3. $corr(y_t,\\pi_t) = 0.31$\n",
    "4. $corr(y_t,y_{t-1}) = 0.84$\n",
    "5. $corr(\\pi_t,\\pi_{t-1}) = 0.48$"
   ]
  },
  {
   "cell_type": "markdown",
   "metadata": {},
   "source": [
    "# 3. Exchange economy"
   ]
  },
  {
   "cell_type": "code",
   "execution_count": 7,
   "metadata": {},
   "outputs": [],
   "source": [
    "from scipy import linalg\n",
    "from scipy import optimize\n",
    "import sympy as sm\n",
    "%matplotlib inline\n",
    "import matplotlib.pyplot as plt\n",
    "%matplotlib inline\n",
    "from matplotlib import cm\n",
    "from mpl_toolkits.mplot3d import Axes3D"
   ]
  },
  {
   "cell_type": "markdown",
   "metadata": {},
   "source": [
    "Consider an **exchange economy** with\n",
    "\n",
    "1. 3 goods, $(x_1,x_2,x_3)$\n",
    "2. $N$ consumers indexed by \\\\( j \\in \\{1,2,\\dots,N\\} \\\\)\n",
    "3. Preferences are Cobb-Douglas with log-normally distributed coefficients\n",
    "\n",
    "    $$ \\begin{eqnarray*}\n",
    "    u^{j}(x_{1},x_{2},x_{3}) &=& \n",
    "    \\left(x_{1}^{\\beta_{1}^{j}}x_{2}^{\\beta_{2}^{j}}x_{3}^{\\beta_{3}^{j}}\\right)^{\\gamma}\\\\\n",
    "     &  & \\,\\,\\,\\beta_{i}^{j}=\\frac{\\alpha_{i}^{j}}{\\alpha_{1}^{j}+\\alpha_{2}^{j}+\\alpha_{3}^{j}} \\\\\n",
    "     &  & \\,\\,\\,\\boldsymbol{\\alpha}^{j}=(\\alpha_{1}^{j},\\alpha_{2}^{j},\\alpha_{3}^{j}) \\\\ \n",
    "     &  & \\,\\,\\,\\log(\\boldsymbol{\\alpha}^j) \\sim \\mathcal{N}(\\mu,\\Sigma) \\\\\n",
    "    \\end{eqnarray*} $$\n",
    "\n",
    "4. Endowments are exponentially distributed,\n",
    "\n",
    "$$\n",
    "\\begin{eqnarray*}\n",
    "\\boldsymbol{e}^{j} &=& (e_{1}^{j},e_{2}^{j},e_{3}^{j}) \\\\\n",
    " &  & e_i^j \\sim f, f(z;\\zeta) =  1/\\zeta \\exp(-z/\\zeta)\n",
    "\\end{eqnarray*}\n",
    "$$"
   ]
  },
  {
   "cell_type": "markdown",
   "metadata": {},
   "source": [
    "Let $p_3 = 1$ be the **numeraire**. The implied **demand functions** are:\n",
    "\n",
    "$$\n",
    "\\begin{eqnarray*}\n",
    "x_{i}^{\\star j}(p_{1},p_{2},\\boldsymbol{e}^{j})&=&\\beta^{j}_i\\frac{I^j}{p_{i}} \\\\\n",
    "\\end{eqnarray*}\n",
    "$$\n",
    "\n",
    "where consumer $j$'s income is\n",
    "\n",
    "$$I^j = p_1 e_1^j + p_2 e_2^j +p_3 e_3^j$$"
   ]
  },
  {
   "cell_type": "markdown",
   "metadata": {},
   "source": [
    "The **parameters** and **random preferences and endowments** are given by:"
   ]
  },
  {
   "cell_type": "code",
   "execution_count": 8,
   "metadata": {},
   "outputs": [],
   "source": [
    "# a. parameters\n",
    "N = 50000\n",
    "mu = np.array([3,2,1])\n",
    "Sigma = np.array([[0.25, 0, 0], [0, 0.25, 0], [0, 0, 0.25]])\n",
    "gamma = 0.8\n",
    "zeta = 1\n",
    "\n",
    "# b. random draws\n",
    "seed = 1986\n",
    "np.random.seed(seed)\n",
    "\n",
    "# preferences\n",
    "alphas = np.exp(np.random.multivariate_normal(mu, Sigma, size=N))\n",
    "betas = alphas/np.reshape(np.sum(alphas,axis=1),(N,1))\n",
    "\n",
    "# endowments\n",
    "e1 = np.random.exponential(zeta,size=N)\n",
    "e2 = np.random.exponential(zeta,size=N)\n",
    "e3 = np.random.exponential(zeta,size=N)"
   ]
  },
  {
   "cell_type": "markdown",
   "metadata": {},
   "source": [
    "**The answer to this question is mostly based on Lecture 2, 3, 4, 10 and Problem Set 2.**\n",
    "\n",
    "\n",
    "# Question 1.1: Plot the histograms of the budget shares for each good across agents."
   ]
  },
  {
   "cell_type": "markdown",
   "metadata": {},
   "source": [
    "Inserting the income function into the implied demand function:\n",
    "\n",
    "$$\n",
    "\\begin{eqnarray*}\n",
    "x_{i}^{\\star j}(p_{1},p_{2},\\boldsymbol{e}^{j})&=&\\beta^{j}_i\\frac{I^j}{p_{i}}&=&\\beta^{j}_i\\frac{p_1 e_1^j + p_2 e_2^j +e_3^j}{p_{i}}\\\\\n",
    "\\end{eqnarray*}\n",
    "$$\n",
    "\n",
    "The equilibrium is a set of prices \\\\( p_1 \\\\), \\\\( p_2 \\\\) and \\\\(p_3\\\\) = 1 (numeraire good) satifying:\n",
    "\n",
    "\n",
    "\\\\[ \n",
    "\\begin{eqnarray*}\n",
    "x_1(p_1,p_2) = \\sum_{j=1}^N x_{1}^{\\star j}(p_{1},p_{2},e^{j}) &=& \\sum_{j=1}^N \\beta_1^j \\frac{p_1 e_1^j + p_2 e_2^j+ e_3^j}{p_1}\\\\\n",
    "x_2(p_1,p_2) = \\sum_{j=1}^N x_{2}^{\\star j}(p_{1},p_{2},e^{j}) &=& \\sum_{j=1}^N \\beta_2^j \\frac{p_1 e_1^j + p_2 e_2^j+ e_3^j}{p_2}\\\\\n",
    "x_3(p_1,p_2) = \\sum_{j=1}^N x_{3}^{\\star j}(p_{1},p_{2},e^{j}) &=& \\sum_{j=1}^N \\beta_3^j (p_1 e_1^j + p_2 e_2^j+ e_3^j)\n",
    "\\end{eqnarray*}\n",
    "\\\\]\n"
   ]
  },
  {
   "cell_type": "markdown",
   "metadata": {},
   "source": [
    "Rearrainging the implied demand function to:\n",
    "$$\n",
    "\\begin{eqnarray*}\n",
    "x_{i}^{\\star j}(p_{1},p_{2},\\boldsymbol{e}^{j})&=&\\beta^{j}_i\\frac{I^j}{p_{i}} \\\\\n",
    "\\end{eqnarray*}\n",
    "$$\n",
    "\n",
    "$$\n",
    "\\begin{eqnarray*}\n",
    "x_{i}^{\\star j} p_{i} &=& \\beta_i^j I^j \\\\\n",
    "\\end{eqnarray*}\n",
    "$$\n",
    "\n",
    "shows that $\\beta$ is the fraction of consumer j's income share for good i. "
   ]
  },
  {
   "cell_type": "code",
   "execution_count": 9,
   "metadata": {},
   "outputs": [
    {
     "name": "stdout",
     "output_type": "stream",
     "text": [
      "[[0.53104511 0.30693723 0.16201766]\n",
      " [0.50866997 0.4162364  0.07509363]\n",
      " [0.83317207 0.07722226 0.08960567]\n",
      " ...\n",
      " [0.63725404 0.22027742 0.14246854]\n",
      " [0.78205036 0.11988119 0.09806844]\n",
      " [0.65552751 0.24728801 0.09718448]]\n"
     ]
    }
   ],
   "source": [
    "print(betas) #gives us an idea of the betas for all 50000 consumers"
   ]
  },
  {
   "cell_type": "code",
   "execution_count": 10,
   "metadata": {},
   "outputs": [
    {
     "data": {
      "text/plain": [
       "numpy.ndarray"
      ]
     },
     "execution_count": 10,
     "metadata": {},
     "output_type": "execute_result"
    }
   ],
   "source": [
    "type(betas)"
   ]
  },
  {
   "cell_type": "code",
   "execution_count": 11,
   "metadata": {},
   "outputs": [
    {
     "name": "stdout",
     "output_type": "stream",
     "text": [
      "[0.53104511 0.50866997 0.83317207 ... 0.63725404 0.78205036 0.65552751]\n"
     ]
    }
   ],
   "source": [
    "#extracting the first, second and third column of the betas goves us the betas for the respective good 1, 2 and 3\n",
    "beta1 = betas[:,0]\n",
    "beta2 = betas[:,1]\n",
    "beta3 = betas[:,2]\n",
    "print(beta1) #to check"
   ]
  },
  {
   "cell_type": "code",
   "execution_count": 12,
   "metadata": {},
   "outputs": [
    {
     "data": {
      "image/png": "[encoded data removed]",
      "text/plain": [
       "<Figure size 432x288 with 1 Axes>"
      ]
     },
     "metadata": {
      "needs_background": "light"
     },
     "output_type": "display_data"
    },
    {
     "data": {
      "image/png": "[encoded data removed]",
      "text/plain": [
       "<Figure size 432x288 with 1 Axes>"
      ]
     },
     "metadata": {
      "needs_background": "light"
     },
     "output_type": "display_data"
    },
    {
     "data": {
      "image/png": "[encoded data removed]",
      "text/plain": [
       "<Figure size 432x288 with 1 Axes>"
      ]
     },
     "metadata": {
      "needs_background": "light"
     },
     "output_type": "display_data"
    }
   ],
   "source": [
    "# Histograms\n",
    "\n",
    "plt.hist(beta1, bins=100) #100 bins means grouping into 100 sections between 0 and 1\n",
    "plt.title(\"Plot of histograms for budget share for good 1 across consumers\")\n",
    "plt.xlabel(\"Budget Share\")\n",
    "plt.ylabel(\"N\")\n",
    "plt.show()\n",
    "\n",
    "plt.hist(beta2, bins=100) #100 bins means grouping into 100 sections between 0 and 1\n",
    "plt.title(\"Plot of histograms for budget share for good 2 across consumers\")\n",
    "plt.xlabel(\"Budget Share\")\n",
    "plt.ylabel(\"N\")\n",
    "plt.show()\n",
    "\n",
    "plt.hist(beta3, bins=100) #100 bins means grouping into 100 sections between 0 and 1\n",
    "plt.title(\"Plot of histograms for budget share for good 3 across consumers\")\n",
    "plt.xlabel(\"Budget Share\")\n",
    "plt.ylabel(\"N\")\n",
    "plt.show()"
   ]
  },
  {
   "cell_type": "markdown",
   "metadata": {},
   "source": [
    "Consider the **excess demand functions:**\n",
    "\n",
    "$$ z_i(p_1,p_2) = \\sum_{j=1}^N x_{i}^{\\star j}(p_{1},p_{2},\\boldsymbol{e}^{j}) - e_i^j$$"
   ]
  },
  {
   "cell_type": "markdown",
   "metadata": {},
   "source": [
    "\n",
    "# Question 3.2: Plot the excess demand functions."
   ]
  },
  {
   "cell_type": "markdown",
   "metadata": {},
   "source": [
    "$$ z_i(p_1,p_2) = \\sum_{j=1}^N x_{i}^{\\star j}(p_{1},p_{2},\\boldsymbol{e}^{j}) - e_i^j = 0 $$\n",
    "\n",
    "If the excess demand equals 0, Walras's law is fulfilled.\n",
    "\n",
    "But first, we define the demand for each good's market dependent on \\\\(p_1\\\\) and \\\\(p_2\\\\)."
   ]
  },
  {
   "cell_type": "code",
   "execution_count": 13,
   "metadata": {},
   "outputs": [],
   "source": [
    "p3 = 1 #define the price of the numeraire good\n",
    "\n",
    "def demand1_EE(betas,p1,p2,e1,e2,e3):\n",
    "    I = p1*e1 + p2*e2 + e3\n",
    "    return beta1*(I/p1)\n",
    "\n",
    "def demand2_EE(betas,p1,p2,e1,e2,e3):\n",
    "    I = p1*e1 + p2*e2 + e3\n",
    "    return beta2*(I/p2)\n",
    "\n",
    "def demand3_EE(betas,p1,p2,e1,e2,e3):\n",
    "    I = p1*e1 + p2*e2 + e3\n",
    "    return beta3*(I/p3)"
   ]
  },
  {
   "cell_type": "markdown",
   "metadata": {},
   "source": [
    "Walras's law constitutes that if all other markets are in an equilibrium, the last one has to be, too. Therefore, solving 2 markets should result in the 3rd one not having any excess demand."
   ]
  },
  {
   "cell_type": "code",
   "execution_count": 14,
   "metadata": {},
   "outputs": [],
   "source": [
    "#defining the excess demand functions for all goods\n",
    "def excess_demand1_EE(betas,p1,p2,e1,e2,e3):\n",
    "    \n",
    "    demand_EE = np.sum(demand1_EE(betas,p1,p2,e1,e2,e3))\n",
    "    \n",
    "    supply_EE = np.sum(e1)\n",
    "    \n",
    "    excess_demand_EE = demand_EE - supply_EE\n",
    "    \n",
    "    return excess_demand_EE\n",
    "\n",
    "def excess_demand2_EE(betas,p1,p2,e1,e2,e3):\n",
    "    \n",
    "    demand_EE = np.sum(demand2_EE(betas,p1,p2,e1,e2,e3))\n",
    "    \n",
    "    supply_EE = np.sum(e2)\n",
    "    \n",
    "    excess_demand_EE = demand_EE - supply_EE\n",
    "    \n",
    "    return excess_demand_EE\n",
    "\n",
    "def excess_demand3_EE(betas,p1,p2,e1,e2,e3):\n",
    "    \n",
    "    demand_EE = np.sum(demand3_EE(betas,p1,p2,e1,e2,e3))\n",
    "    \n",
    "    supply_EE = np.sum(e3)\n",
    "    \n",
    "    excess_demand_EE = demand_EE - supply_EE\n",
    "    \n",
    "    return excess_demand3_EE"
   ]
  },
  {
   "cell_type": "markdown",
   "metadata": {},
   "source": [
    "Since \\\\(p_3 = 1\\\\) is set, we have \\\\(p_1\\\\) and \\\\(p_2\\\\) as the variables on the x and y axis of the 3D graph. The z axsis represents the excess demand for the respective."
   ]
  },
  {
   "cell_type": "code",
   "execution_count": 15,
   "metadata": {
    "scrolled": false
   },
   "outputs": [
    {
     "ename": "ValueError",
     "evalue": "operands could not be broadcast together with shapes (100,100) (50000,) ",
     "output_type": "error",
     "traceback": [
      "\u001b[1;31m---------------------------------------------------------------------------\u001b[0m",
      "\u001b[1;31mValueError\u001b[0m                                Traceback (most recent call last)",
      "\u001b[1;32m<ipython-input-15-05eda2700cab>\u001b[0m in \u001b[0;36m<module>\u001b[1;34m\u001b[0m\n\u001b[0;32m     13\u001b[0m \u001b[1;33m\u001b[0m\u001b[0m\n\u001b[0;32m     14\u001b[0m \u001b[0mp1_grid\u001b[0m\u001b[1;33m,\u001b[0m\u001b[0mp2_grid\u001b[0m \u001b[1;33m=\u001b[0m \u001b[0mnp\u001b[0m\u001b[1;33m.\u001b[0m\u001b[0mmeshgrid\u001b[0m\u001b[1;33m(\u001b[0m\u001b[0mp1_vec\u001b[0m\u001b[1;33m,\u001b[0m\u001b[0mp2_vec\u001b[0m\u001b[1;33m,\u001b[0m\u001b[0mindexing\u001b[0m\u001b[1;33m=\u001b[0m\u001b[1;34m'ij'\u001b[0m\u001b[1;33m)\u001b[0m\u001b[1;33m\u001b[0m\u001b[1;33m\u001b[0m\u001b[0m\n\u001b[1;32m---> 15\u001b[1;33m \u001b[0mexcess_demand1_grid_EE\u001b[0m \u001b[1;33m=\u001b[0m \u001b[0mexcess_demand1_EE\u001b[0m\u001b[1;33m(\u001b[0m\u001b[0mbetas\u001b[0m\u001b[1;33m,\u001b[0m\u001b[0mp1_grid\u001b[0m\u001b[1;33m,\u001b[0m\u001b[0mp2_grid\u001b[0m\u001b[1;33m,\u001b[0m\u001b[0me1\u001b[0m\u001b[1;33m,\u001b[0m\u001b[0me2\u001b[0m\u001b[1;33m,\u001b[0m\u001b[0me3\u001b[0m\u001b[1;33m)\u001b[0m\u001b[1;33m\u001b[0m\u001b[1;33m\u001b[0m\u001b[0m\n\u001b[0m\u001b[0;32m     16\u001b[0m \u001b[1;33m\u001b[0m\u001b[0m\n\u001b[0;32m     17\u001b[0m \u001b[1;31m# b. main\u001b[0m\u001b[1;33m\u001b[0m\u001b[1;33m\u001b[0m\u001b[1;33m\u001b[0m\u001b[0m\n",
      "\u001b[1;32m<ipython-input-14-eb2c61f5f093>\u001b[0m in \u001b[0;36mexcess_demand1_EE\u001b[1;34m(betas, p1, p2, e1, e2, e3)\u001b[0m\n\u001b[0;32m      2\u001b[0m \u001b[1;32mdef\u001b[0m \u001b[0mexcess_demand1_EE\u001b[0m\u001b[1;33m(\u001b[0m\u001b[0mbetas\u001b[0m\u001b[1;33m,\u001b[0m\u001b[0mp1\u001b[0m\u001b[1;33m,\u001b[0m\u001b[0mp2\u001b[0m\u001b[1;33m,\u001b[0m\u001b[0me1\u001b[0m\u001b[1;33m,\u001b[0m\u001b[0me2\u001b[0m\u001b[1;33m,\u001b[0m\u001b[0me3\u001b[0m\u001b[1;33m)\u001b[0m\u001b[1;33m:\u001b[0m\u001b[1;33m\u001b[0m\u001b[1;33m\u001b[0m\u001b[0m\n\u001b[0;32m      3\u001b[0m \u001b[1;33m\u001b[0m\u001b[0m\n\u001b[1;32m----> 4\u001b[1;33m     \u001b[0mdemand_EE\u001b[0m \u001b[1;33m=\u001b[0m \u001b[0mnp\u001b[0m\u001b[1;33m.\u001b[0m\u001b[0msum\u001b[0m\u001b[1;33m(\u001b[0m\u001b[0mdemand1_EE\u001b[0m\u001b[1;33m(\u001b[0m\u001b[0mbetas\u001b[0m\u001b[1;33m,\u001b[0m\u001b[0mp1\u001b[0m\u001b[1;33m,\u001b[0m\u001b[0mp2\u001b[0m\u001b[1;33m,\u001b[0m\u001b[0me1\u001b[0m\u001b[1;33m,\u001b[0m\u001b[0me2\u001b[0m\u001b[1;33m,\u001b[0m\u001b[0me3\u001b[0m\u001b[1;33m)\u001b[0m\u001b[1;33m)\u001b[0m\u001b[1;33m\u001b[0m\u001b[1;33m\u001b[0m\u001b[0m\n\u001b[0m\u001b[0;32m      5\u001b[0m \u001b[1;33m\u001b[0m\u001b[0m\n\u001b[0;32m      6\u001b[0m     \u001b[0msupply_EE\u001b[0m \u001b[1;33m=\u001b[0m \u001b[0mnp\u001b[0m\u001b[1;33m.\u001b[0m\u001b[0msum\u001b[0m\u001b[1;33m(\u001b[0m\u001b[0me1\u001b[0m\u001b[1;33m)\u001b[0m\u001b[1;33m\u001b[0m\u001b[1;33m\u001b[0m\u001b[0m\n",
      "\u001b[1;32m<ipython-input-13-7ed7ea02ecb9>\u001b[0m in \u001b[0;36mdemand1_EE\u001b[1;34m(betas, p1, p2, e1, e2, e3)\u001b[0m\n\u001b[0;32m      2\u001b[0m \u001b[1;33m\u001b[0m\u001b[0m\n\u001b[0;32m      3\u001b[0m \u001b[1;32mdef\u001b[0m \u001b[0mdemand1_EE\u001b[0m\u001b[1;33m(\u001b[0m\u001b[0mbetas\u001b[0m\u001b[1;33m,\u001b[0m\u001b[0mp1\u001b[0m\u001b[1;33m,\u001b[0m\u001b[0mp2\u001b[0m\u001b[1;33m,\u001b[0m\u001b[0me1\u001b[0m\u001b[1;33m,\u001b[0m\u001b[0me2\u001b[0m\u001b[1;33m,\u001b[0m\u001b[0me3\u001b[0m\u001b[1;33m)\u001b[0m\u001b[1;33m:\u001b[0m\u001b[1;33m\u001b[0m\u001b[1;33m\u001b[0m\u001b[0m\n\u001b[1;32m----> 4\u001b[1;33m     \u001b[0mI\u001b[0m \u001b[1;33m=\u001b[0m \u001b[0mp1\u001b[0m\u001b[1;33m*\u001b[0m\u001b[0me1\u001b[0m \u001b[1;33m+\u001b[0m \u001b[0mp2\u001b[0m\u001b[1;33m*\u001b[0m\u001b[0me2\u001b[0m \u001b[1;33m+\u001b[0m \u001b[0me3\u001b[0m\u001b[1;33m\u001b[0m\u001b[1;33m\u001b[0m\u001b[0m\n\u001b[0m\u001b[0;32m      5\u001b[0m     \u001b[1;32mreturn\u001b[0m \u001b[0mbeta1\u001b[0m\u001b[1;33m*\u001b[0m\u001b[1;33m(\u001b[0m\u001b[0mI\u001b[0m\u001b[1;33m/\u001b[0m\u001b[0mp1\u001b[0m\u001b[1;33m)\u001b[0m\u001b[1;33m\u001b[0m\u001b[1;33m\u001b[0m\u001b[0m\n\u001b[0;32m      6\u001b[0m \u001b[1;33m\u001b[0m\u001b[0m\n",
      "\u001b[1;31mValueError\u001b[0m: operands could not be broadcast together with shapes (100,100) (50000,) "
     ]
    }
   ],
   "source": [
    "from mpl_toolkits.mplot3d import Axes3D\n",
    "#grids\n",
    "p1_vec = np.linspace(1,10,100) #create a linear vector in the interval [1,10] with 100 evenly spaced points\n",
    "p2_vec = np.linspace(1,10,100)\n",
    "\n",
    "#we need empty grids for the excess demand 1\n",
    "e_demand1_grid_EE = np.empty((100,100))\n",
    "\n",
    "for i,p1 in enumerate(p1_vec):\n",
    "    for j,p2 in enumerate(p2_vec):\n",
    "        e_demand1_grid_EE[i,j] = excess_demand1_EE(betas,p1,p2,e1,e2,e3)\n",
    "\n",
    "\n",
    "p1_grid,p2_grid = np.meshgrid(p1_vec,p2_vec,indexing='ij')\n",
    "excess_demand1_grid_EE = excess_demand1_EE(betas,p1_grid,p2_grid,e1,e2,e3)\n",
    "\n",
    "# b. main\n",
    "fig_excess_demand1_EE = plt.figure()\n",
    "ax = fig.add_subplot(projection='3d')\n",
    "ax.contour3D(p1_grid,p2_grid,50,cmap='binary')\n",
    "#cs = ax.plot_surface(p1_grid,p2_grid,excess_demand1_grid_EE,cmap=cm.jet)\n",
    "\n",
    "# c. add labels\n",
    "ax.set_xlabel('$p_1$')\n",
    "ax.set_ylabel('$p_2$')\n",
    "ax.set_zlabel('$Z_1$')\n",
    "\n",
    "\n",
    "plt.show()"
   ]
  },
  {
   "cell_type": "markdown",
   "metadata": {},
   "source": [
    "# Quesiton 3.3: Find the Walras-equilibrium prices, $(p_1,p_2)$, where both excess demands are (approximately) zero, e.g. by using the following tâtonnement process:\n",
    "\n",
    "1. Guess on $p_1 > 0$, $p_2 > 0$ and choose tolerance $\\epsilon > 0$ and adjustment aggressivity parameter, $\\kappa > 0$.\n",
    "2. Calculate $z_1(p_1,p_2)$ and $z_2(p_1,p_2)$.\n",
    "3. If $|z_1| < \\epsilon$ and $|z_2| < \\epsilon$ then stop.\n",
    "4. Else set $p_1 = p_1 + \\kappa \\frac{z_1}{N}$ and $p_2 = p_2 + \\kappa \\frac{z_2}{N}$ and return to step 2."
   ]
  },
  {
   "cell_type": "code",
   "execution_count": 16,
   "metadata": {},
   "outputs": [],
   "source": [
    "#step 1: Guess on p1 and p2, tolerance epsilon and adjustment parameter kappa\n",
    "p1 = 0.5\n",
    "p2 = 0.5\n",
    "kappa = 0.8\n",
    "eps = 1e-8\n",
    "\n",
    "\n",
    "def equilibrium_EE(betas,p1,p2,e1,e2,e3,kappa=0.8,eps=1e-8,maxiter=10000):\n",
    "    \n",
    "    t = 0\n",
    "    while True:\n",
    "\n",
    "        #step 2: Define the equilibrium function incl. the excess demand functions for good 1 and 2\n",
    "        Z1 = excess_demand1_EE(betas,p1,p2,e1,e2,e3)\n",
    "        Z2 = excess_demand2_EE(betas,p1,p2,e1,e2,e3)\n",
    "\n",
    "        \n",
    "        #step 3: define whether to stop or not\n",
    "        if  np.abs(Z1) < eps or np.abs(Z2) < eps or t >= maxiter:\n",
    "            print(f'{t:3d}: p1 = {p1:12.8f} -> excess demand -> {Z1:14.8f}')\n",
    "            print(f'{t:3d}: p2 = {p2:12.8f} -> excess demand -> {Z2:14.8f}')\n",
    "            break    \n",
    "    \n",
    "        # step 4: change p's if not stopping\n",
    "        p1 = p1 + kappa*Z1/N\n",
    "        p2 = p2 + kappa*Z2/N\n",
    "            \n",
    "        \n",
    "        if t < 5 or t%1000 == 0:\n",
    "            print(f'{t:3d}: p1 = {p1:12.8f} -> excess demand -> {Z1:14.8f}')\n",
    "            print(f'{t:3d}: p2 = {p1:12.8f} -> excess demand -> {Z2:14.8f}')\n",
    "        elif t == 5:\n",
    "            print('   ...')\n",
    "            \n",
    "        \n",
    "        t += 1\n",
    "\n",
    "    return p1, p2"
   ]
  },
  {
   "cell_type": "code",
   "execution_count": 17,
   "metadata": {
    "scrolled": false
   },
   "outputs": [
    {
     "name": "stdout",
     "output_type": "stream",
     "text": [
      "  0: p1 =   1.75618758 -> excess demand -> 78511.72403675\n",
      "  0: p2 =   1.75618758 -> excess demand ->  1976.77594850\n",
      "  1: p1 =   1.91889553 -> excess demand -> 10169.24631720\n",
      "  1: p2 =   1.91889553 -> excess demand -> 30068.91485501\n",
      "  2: p1 =   2.17170082 -> excess demand -> 15800.33081485\n",
      "  2: p2 =   2.17170082 -> excess demand ->   331.86779583\n",
      "  3: p1 =   2.36310422 -> excess demand -> 11962.71228988\n",
      "  3: p2 =   2.36310422 -> excess demand ->  3333.01765190\n",
      "  4: p1 =   2.52741831 -> excess demand -> 10269.63063665\n",
      "  4: p2 =   2.52741831 -> excess demand ->  3630.14563580\n",
      "   ...\n",
      "1000: p1 =   6.49005422 -> excess demand ->     0.00085602\n",
      "1000: p2 =   6.49005422 -> excess demand ->     0.00031934\n",
      "1705: p1 =   6.49005515 -> excess demand ->     0.00000003\n",
      "1705: p2 =   2.61669400 -> excess demand ->     0.00000001\n"
     ]
    }
   ],
   "source": [
    "# call the equilibrium function\n",
    "p1, p2 = equilibrium_EE(betas,p1,p2,e1,e2,e3,kappa=kappa,eps=eps)"
   ]
  },
  {
   "cell_type": "code",
   "execution_count": 18,
   "metadata": {},
   "outputs": [
    {
     "name": "stdout",
     "output_type": "stream",
     "text": [
      "2.6746420189738274e-08 9.975337889045477e-09\n"
     ]
    }
   ],
   "source": [
    "#Check whether excess demand is actually close to zero\n",
    "Z1 = excess_demand1_EE(betas,p1,p2,e1,e2,e3)\n",
    "Z2 = excess_demand2_EE(betas,p1,p2,e1,e2,e3)\n",
    "print(Z1,Z2)"
   ]
  },
  {
   "cell_type": "code",
   "execution_count": 19,
   "metadata": {},
   "outputs": [
    {
     "data": {
      "text/plain": [
       "(6.490055145458315, 2.616694000470743)"
      ]
     },
     "execution_count": 19,
     "metadata": {},
     "output_type": "execute_result"
    }
   ],
   "source": [
    "#the equilibrium prices are\n",
    "p1, p2"
   ]
  },
  {
   "cell_type": "code",
   "execution_count": 20,
   "metadata": {},
   "outputs": [],
   "source": [
    "p1_old = p1\n",
    "p2_old = p2"
   ]
  },
  {
   "cell_type": "markdown",
   "metadata": {},
   "source": [
    "# Question 4: Plot the distribution of utility in the Walras-equilibrium and calculate its mean and variance.\n",
    "\n",
    "\n",
    "(Additional orientation Exercise 1)\n"
   ]
  },
  {
   "cell_type": "code",
   "execution_count": 21,
   "metadata": {},
   "outputs": [],
   "source": [
    "#defining the utility function\n",
    "def utlity_func_EE(beta1,beta2,beta3,p1,p2,e1,e2,e3,gamma):\n",
    "    I = p1*e1 + p2*e2 + e3\n",
    "    return (((beta1*(I/p1))**beta1)*((beta2*(I/p2))**beta2)*((beta3*I)**beta3))**gamma"
   ]
  },
  {
   "cell_type": "code",
   "execution_count": 22,
   "metadata": {},
   "outputs": [
    {
     "name": "stdout",
     "output_type": "stream",
     "text": [
      "[0.39804894 0.94209408 1.84280866 ... 0.9075745  1.07227294 1.34035517]\n"
     ]
    }
   ],
   "source": [
    "#defining the utility vector - except endowments all known\n",
    "utility_vec_EE = utlity_func_EE(beta1,beta2,beta3,p1,p2,e1,e2,e3,gamma)\n",
    "\n",
    "print(utility_vec_EE)"
   ]
  },
  {
   "cell_type": "code",
   "execution_count": 23,
   "metadata": {},
   "outputs": [
    {
     "data": {
      "image/png": "[encoded data removed]",
      "text/plain": [
       "<Figure size 360x360 with 1 Axes>"
      ]
     },
     "metadata": {
      "needs_background": "light"
     },
     "output_type": "display_data"
    }
   ],
   "source": [
    "#plotting the distribution of utility as histogram (visualising the distribution)\n",
    "fig_distr_utility = plt.figure(figsize=(5,5))\n",
    "\n",
    "plt.hist(utility_vec_EE, bins=100) #100 bins means grouping into 100 sections between 0 and 1\n",
    "plt.title(\"Distribution of Utility\")\n",
    "plt.xlabel(\"Utility\")\n",
    "plt.ylabel(\"N\") # N refers to the number of consumers\n",
    "plt.show()"
   ]
  },
  {
   "cell_type": "code",
   "execution_count": 24,
   "metadata": {},
   "outputs": [
    {
     "data": {
      "text/plain": [
       "(1.010164459864386, 0.3173402050016366)"
      ]
     },
     "execution_count": 24,
     "metadata": {},
     "output_type": "execute_result"
    }
   ],
   "source": [
    "#mean\n",
    "mean = np.mean(utility_vec_EE)\n",
    "\n",
    "#variance\n",
    "var = np.var(utility_vec_EE)\n",
    "\n",
    "mean, var"
   ]
  },
  {
   "cell_type": "markdown",
   "metadata": {},
   "source": [
    "# Question 5: Find the Walras-equilibrium prices if instead all endowments were distributed equally. Discuss the implied changes in the distribution of utility. Does the value of $\\gamma$ play a role for your conclusions?"
   ]
  },
  {
   "cell_type": "code",
   "execution_count": 25,
   "metadata": {},
   "outputs": [],
   "source": [
    "#define the endowments as equally distributed\n",
    "\n",
    "e1 = np.random.uniform(zeta,size=N)\n",
    "e2 = np.random.uniform(zeta,size=N)\n",
    "e3 = np.random.uniform(zeta,size=N)"
   ]
  },
  {
   "cell_type": "code",
   "execution_count": 26,
   "metadata": {},
   "outputs": [],
   "source": [
    "\"\"\"Redo all the steps as previously when calculating the Walras Equilibrium\"\"\"\n",
    "\n",
    "#step 1: Guess on p1 and p2, tolerance epsilon and adjustment parameter kappa\n",
    "p1 = 0.5\n",
    "p2 = 0.5\n",
    "kappa = 0.8\n",
    "eps = 1e-8\n",
    "\n",
    "\n",
    "def equilibrium_EE(betas,p1,p2,e1,e2,e3,kappa=0.8,eps=1e-8,maxiter=10000):\n",
    "    \n",
    "    t = 0\n",
    "    while True:\n",
    "\n",
    "        #step 2: Define the equilibrium function incl. the excess demand functions for good 1 and 2\n",
    "        Z1 = excess_demand1_EE(betas,p1,p2,e1,e2,e3)\n",
    "        Z2 = excess_demand2_EE(betas,p1,p2,e1,e2,e3)\n",
    "\n",
    "        \n",
    "        #step 3: define whether to stop or not\n",
    "        if  np.abs(Z1) < eps or np.abs(Z2) < eps or t >= maxiter:\n",
    "            print(f'{t:3d}: p1 = {p1:12.8f} -> excess demand -> {Z1:14.8f}')\n",
    "            print(f'{t:3d}: p2 = {p2:12.8f} -> excess demand -> {Z2:14.8f}')\n",
    "            break    \n",
    "    \n",
    "        # step 4: change p's if not stopping\n",
    "        p1 = p1 + kappa*Z1/N\n",
    "        p2 = p2 + kappa*Z2/N\n",
    "            \n",
    "        \n",
    "        if t < 5 or t%1000 == 0:\n",
    "            print(f'{t:3d}: p1 = {p1:12.8f} -> excess demand -> {Z1:14.8f}')\n",
    "            print(f'{t:3d}: p2 = {p1:12.8f} -> excess demand -> {Z2:14.8f}')\n",
    "        elif t == 5:\n",
    "            print('   ...')\n",
    "            \n",
    "        \n",
    "        t += 1\n",
    "\n",
    "    return p1, p2"
   ]
  },
  {
   "cell_type": "code",
   "execution_count": 28,
   "metadata": {},
   "outputs": [
    {
     "name": "stdout",
     "output_type": "stream",
     "text": [
      "  0: p1 =   1.75530416 -> excess demand -> 78456.50975081\n",
      "  0: p2 =   1.75530416 -> excess demand ->  1619.49434941\n",
      "  1: p1 =   1.91580678 -> excess demand -> 10031.41422554\n",
      "  1: p2 =   1.91580678 -> excess demand -> 30514.77399013\n",
      "  2: p1 =   2.16983440 -> excess demand -> 15876.72579924\n",
      "  2: p2 =   2.16983440 -> excess demand ->     8.04497900\n",
      "  3: p1 =   2.36064982 -> excess demand -> 11925.96413845\n",
      "  3: p2 =   2.36064982 -> excess demand ->  3235.38650474\n",
      "  4: p1 =   2.52417695 -> excess demand -> 10220.44540570\n",
      "  4: p2 =   2.52417695 -> excess demand ->  3586.86588124\n",
      "   ...\n",
      "1000: p1 =   6.44732586 -> excess demand ->     0.00073970\n",
      "1000: p2 =   6.44732586 -> excess demand ->     0.00027504\n",
      "1688: p1 =   6.44732665 -> excess demand ->     0.00000003\n",
      "1688: p2 =   2.59082037 -> excess demand ->     0.00000001\n"
     ]
    }
   ],
   "source": [
    "# call find equilibrium function\n",
    "\n",
    "p1, p2 = equilibrium_EE(betas,p1,p2,e1,e2,e3,kappa=kappa,eps=eps)\n"
   ]
  },
  {
   "cell_type": "code",
   "execution_count": 29,
   "metadata": {},
   "outputs": [
    {
     "data": {
      "text/plain": [
       "(6.447326650556338, 6.490055145458315, 2.5908203659970717, 2.616694000470743)"
      ]
     },
     "execution_count": 29,
     "metadata": {},
     "output_type": "execute_result"
    }
   ],
   "source": [
    "p1, p1_old, p2, p2_old"
   ]
  },
  {
   "cell_type": "markdown",
   "metadata": {},
   "source": [
    "The prices for the goods with uniformaly distributed endowments are minimally lower thanwith exponentially distributed endowments."
   ]
  },
  {
   "cell_type": "code",
   "execution_count": 31,
   "metadata": {},
   "outputs": [
    {
     "data": {
      "text/plain": [
       "(2.6746420189738274e-08, 9.975337889045477e-09)"
      ]
     },
     "execution_count": 31,
     "metadata": {},
     "output_type": "execute_result"
    }
   ],
   "source": [
    "Z1, Z2 #just to check"
   ]
  },
  {
   "cell_type": "markdown",
   "metadata": {},
   "source": [
    "Since the excess demand functions are close to zero, the result is credible.\n",
    "\n",
    "**Plotting the distribution of utility:**"
   ]
  },
  {
   "cell_type": "code",
   "execution_count": 38,
   "metadata": {},
   "outputs": [
    {
     "name": "stdout",
     "output_type": "stream",
     "text": [
      "[1.0251062  1.04838704 1.09560015 ... 1.0088854  1.04959874 1.00031624]\n"
     ]
    }
   ],
   "source": [
    "#vector of utility dependent on endowments\n",
    "utility_vec2_EE = utlity_func_EE(beta1,beta2,beta3,p1,p2,e1,e2,e3,gamma)\n",
    "\n",
    "print(utility_vec_EE)"
   ]
  },
  {
   "cell_type": "code",
   "execution_count": 40,
   "metadata": {},
   "outputs": [
    {
     "data": {
      "image/png": "[encoded data removed]",
      "text/plain": [
       "<Figure size 720x432 with 1 Axes>"
      ]
     },
     "metadata": {
      "needs_background": "light"
     },
     "output_type": "display_data"
    }
   ],
   "source": [
    "fig_distr_utility = plt.figure(figsize=(10,6))\n",
    "\n",
    "plt.hist(utility_vec2_EE, bins=400) #400 bins means grouping into 400 sections between 0 and 1\n",
    "plt.title(\"Distribution of Utility\")\n",
    "plt.xlabel(\"Utility\")\n",
    "plt.ylabel(\"N\")\n",
    "plt.show()\n"
   ]
  },
  {
   "cell_type": "code",
   "execution_count": 41,
   "metadata": {},
   "outputs": [
    {
     "data": {
      "text/plain": [
       "(1.010164459864386, 1.048024618603132, 0.3173402050016366, 0.00303580247992415)"
      ]
     },
     "execution_count": 41,
     "metadata": {},
     "output_type": "execute_result"
    }
   ],
   "source": [
    "mean_new = np.mean(utility_vec2_EE)\n",
    "\n",
    "#variance\n",
    "var_new = np.var(utility_vec2_EE)\n",
    "\n",
    "mean, mean_new, var, var_new"
   ]
  },
  {
   "cell_type": "markdown",
   "metadata": {},
   "source": [
    "The new utility function has a higher mean and a lot lower variance than before.\n",
    "Now: does the value of \\\\(\\gamma\\\\) play a role?"
   ]
  },
  {
   "cell_type": "code",
   "execution_count": null,
   "metadata": {},
   "outputs": [],
   "source": []
  }
 ],
 "metadata": {
  "kernelspec": {
   "display_name": "Python 3",
   "language": "python",
   "name": "python3"
  },
  "language_info": {
   "codemirror_mode": {
    "name": "ipython",
    "version": 3
   },
   "file_extension": ".py",
   "mimetype": "text/x-python",
   "name": "python",
   "nbconvert_exporter": "python",
   "pygments_lexer": "ipython3",
   "version": "3.7.1"
  },
  "toc-autonumbering": false
 },
 "nbformat": 4,
 "nbformat_minor": 2
}
