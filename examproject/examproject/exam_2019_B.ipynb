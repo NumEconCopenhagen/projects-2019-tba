{
 "cells": [
  {
   "cell_type": "code",
   "execution_count": 1,
   "metadata": {},
   "outputs": [],
   "source": [
    "import numpy as np"
   ]
  },
  {
   "cell_type": "markdown",
   "metadata": {},
   "source": [
    "# 1. Human capital accumulation"
   ]
  },
  {
   "cell_type": "markdown",
   "metadata": {},
   "source": [
    "Consider a worker living in **two periods**, $t \\in \\{1,2\\}$. \n",
    "\n",
    "In each period she decides whether to **work ($l_t = 1$) or not ($l_t = 0$)**. \n",
    "\n",
    "She can *not* borrow or save and thus **consumes all of her income** in each period. "
   ]
  },
  {
   "cell_type": "markdown",
   "metadata": {},
   "source": [
    "If she **works** her **consumption** becomes:\n",
    "\n",
    "$$c_t = w h_t l_t\\,\\,\\text{if}\\,\\,l_t=1$$\n",
    "\n",
    "where $w$ is **the wage rate** and $h_t$ is her **human capital**. \n",
    "\n",
    "If she does **not work** her consumption becomes:\n",
    "\n",
    "$$c_t = b\\,\\,\\text{if}\\,\\,l_t=0$$\n",
    "\n",
    "where $b$ is the **unemployment benefits**."
   ]
  },
  {
   "cell_type": "markdown",
   "metadata": {},
   "source": [
    "Her **utility of consumption** is: \n",
    "\n",
    "$$ \\frac{c_t^{1-\\rho}}{1-\\rho} $$\n",
    "\n",
    "Her **disutility of working** is:\n",
    "\n",
    "$$ \\gamma l_t $$"
   ]
  },
  {
   "cell_type": "markdown",
   "metadata": {},
   "source": [
    "From period 1 to period 2, she **accumulates human capital** according to:\n",
    "\n",
    "$$ h_2 = h_1 + l_1 + \n",
    "\\begin{cases}\n",
    "0 & \\text{with prob. }0.5 \\\\\n",
    "\\Delta & \\text{with prob. }0.5 \n",
    "\\end{cases} \\\\\n",
    "$$\n",
    "\n",
    "where $\\Delta$ is a **stochastic experience gain**."
   ]
  },
  {
   "cell_type": "markdown",
   "metadata": {},
   "source": [
    "In the **second period** the worker thus solves:\n",
    "\n",
    "$$\n",
    "\\begin{eqnarray*}\n",
    "v_{2}(h_{2}) & = &\\max_{l_{2}} \\frac{c_2^{1-\\rho}}{1-\\rho} - \\gamma l_2\n",
    "\\\\ & \\text{s.t.} & \\\\\n",
    "c_{2}& = & w h_2 l_2 \\\\\n",
    "l_{2}& \\in &\\{0,1\\}\n",
    "\\end{eqnarray*}\n",
    "$$"
   ]
  },
  {
   "cell_type": "markdown",
   "metadata": {},
   "source": [
    "In the **first period** the worker thus solves:\n",
    "\n",
    "$$\n",
    "\\begin{eqnarray*}\n",
    "v_{1}(h_{1}) &=& \\max_{l_{1}} \\frac{c_1^{1-\\rho}}{1-\\rho} - \\gamma l_1 + \\beta\\mathbb{E}_{1}\\left[v_2(h_2)\\right]\n",
    "\\\\ & \\text{s.t.} & \\\\\n",
    "c_1 &=& w h_1 l_1 \\\\\n",
    "h_2 &=& h_1 + l_1 + \\begin{cases}\n",
    "0 & \\text{with prob. }0.5\\\\\n",
    "\\Delta & \\text{with prob. }0.5 \n",
    "\\end{cases}\\\\\n",
    "l_{1} &\\in& \\{0,1\\}\\\\\n",
    "\\end{eqnarray*}\n",
    "$$\n",
    "\n",
    "where $\\beta$ is the **discount factor** and $\\mathbb{E}_{1}\\left[v_2(h_2)\\right]$ is the **expected value of living in period two**."
   ]
  },
  {
   "cell_type": "markdown",
   "metadata": {},
   "source": [
    "The **parameters** of the model are:"
   ]
  },
  {
   "cell_type": "code",
   "execution_count": 2,
   "metadata": {},
   "outputs": [],
   "source": [
    "rho = 2\n",
    "beta = 0.96\n",
    "gamma = 0.1\n",
    "w = 2\n",
    "b = 1\n",
    "Delta = 0.1"
   ]
  },
  {
   "cell_type": "markdown",
   "metadata": {},
   "source": [
    "The **relevant levels of human capital** are:"
   ]
  },
  {
   "cell_type": "code",
   "execution_count": 3,
   "metadata": {},
   "outputs": [],
   "source": [
    "h_vec = np.linspace(0.1,1.5,100) "
   ]
  },
  {
   "cell_type": "markdown",
   "metadata": {},
   "source": [
    "**Question 1:** Solve the model in period 2 and illustrate the solution (including labor supply as a function of human capital). \n",
    "\n",
    "**Question 2:** Solve the model in period 1 and illustrate the solution (including labor supply as a function of human capital). \n",
    "\n",
    "**Question 3:** Will the worker never work if her potential wage income is lower than the unemployment benefits she can get? Explain and illustrate why or why not."
   ]
  },
  {
   "cell_type": "markdown",
   "metadata": {},
   "source": [
    "# 2. AS-AD model"
   ]
  },
  {
   "cell_type": "markdown",
   "metadata": {},
   "source": [
    "Consider the following **AS-AD model**. The **goods market equilibrium** is given by\n",
    "\n",
    "$$ y_{t} = -\\alpha r_{t} + v_{t} $$\n",
    "\n",
    "where $y_{t}$ is the **output gap**, $r_{t}$ is the **ex ante real interest** and $v_{t}$ is a **demand disturbance**. "
   ]
  },
  {
   "cell_type": "markdown",
   "metadata": {},
   "source": [
    "The central bank's **Taylor rule** is\n",
    "\n",
    "$$ i_{t} = \\pi_{t+1}^{e} + h \\pi_{t} + b y_{t}$$\n",
    "\n",
    "where $i_{t}$ is the **nominal interest rate**, $\\pi_{t}$ is the **inflation gap**, and $\\pi_{t+1}^{e}$ is the **expected inflation gap**. "
   ]
  },
  {
   "cell_type": "markdown",
   "metadata": {},
   "source": [
    "The **ex ante real interest rate** is given by \n",
    "\n",
    "$$ r_{t} = i_{t} - \\pi_{t+1}^{e} $$"
   ]
  },
  {
   "cell_type": "markdown",
   "metadata": {},
   "source": [
    "Together, the above implies that the **AD-curve** is\n",
    "\n",
    "$$ \\pi_{t} = \\frac{1}{h\\alpha}\\left[v_{t} - (1+b\\alpha)y_{t}\\right]$$"
   ]
  },
  {
   "cell_type": "markdown",
   "metadata": {},
   "source": [
    "Further, assume that the **short-run supply curve (SRAS)** is given by\n",
    "\n",
    "$$ \\pi_{t} = \\pi_{t}^{e} + \\gamma y_{t} + s_{t}$$\n",
    "\n",
    "where $s_t$ is a **supply disturbance**."
   ]
  },
  {
   "cell_type": "markdown",
   "metadata": {},
   "source": [
    "**Inflation expectations are adaptive** and given by\n",
    "\n",
    "$$ \\pi_{t}^{e} = \\phi\\pi_{t-1}^{e} + (1-\\phi)\\pi_{t-1}$$"
   ]
  },
  {
   "cell_type": "markdown",
   "metadata": {},
   "source": [
    "Together, this implies that the **SRAS-curve** can also be written as\n",
    "\n",
    "$$ \\pi_{t} = \\pi_{t-1} + \\gamma y_{t} - \\phi\\gamma y_{t-1} + s_{t} - \\phi s_{t-1} $$"
   ]
  },
  {
   "cell_type": "markdown",
   "metadata": {},
   "source": [
    "The **parameters** of the model are:"
   ]
  },
  {
   "cell_type": "code",
   "execution_count": 4,
   "metadata": {},
   "outputs": [],
   "source": [
    "par = {}\n",
    "\n",
    "par['alpha'] = 5.76\n",
    "par['h'] = 0.5\n",
    "par['b'] = 0.5\n",
    "par['phi'] = 0\n",
    "par['gamma'] = 0.075"
   ]
  },
  {
   "cell_type": "markdown",
   "metadata": {},
   "source": [
    "**Question 1:** Use the ``sympy`` module to solve for the equilibrium values of output, $y_t$, and inflation, $\\pi_t$, (where AD = SRAS) given the parameters ($\\alpha$, $h$, $b$, $\\alpha$, $\\gamma$) and $y_{t-1}$ , $\\pi_{t-1}$, $v_t$, $s_t$, and $s_{t-1}$.\n",
    "\n",
    "**Question 2:** Find and illustrate the equilibrium when $y_{t-1} = \\pi_{t-1} = v_t = s_t = s_{t-1} = 0$. Illustrate how the equilibrium changes when instead $v_t = 0.1$."
   ]
  },
  {
   "cell_type": "markdown",
   "metadata": {},
   "source": [
    "**Persistent disturbances:** Now, additionaly, assume that both the demand and the supply disturbances are AR(1) processes\n",
    "\n",
    "$$ v_{t} = \\delta v_{t-1} + x_{t} $$\n",
    "$$ s_{t} = \\omega s_{t-1} + c_{t} $$\n",
    "\n",
    "where $x_{t}$ is a **demand shock**, and $c_t$ is a **supply shock**. The **autoregressive parameters** are:"
   ]
  },
  {
   "cell_type": "code",
   "execution_count": 5,
   "metadata": {},
   "outputs": [],
   "source": [
    "par['delta'] = 0.80\n",
    "par['omega'] = 0.15"
   ]
  },
  {
   "cell_type": "markdown",
   "metadata": {},
   "source": [
    "**Question 3:** Starting from $y_{-1} = \\pi_{-1} = s_{-1} = 0$, how does the economy evolve for $x_0 = 0.1$, $x_t = 0, \\forall t > 0$ and $c_t = 0, \\forall t \\geq 0$?"
   ]
  },
  {
   "cell_type": "markdown",
   "metadata": {},
   "source": [
    "**Stochastic shocks:** Now, additionally, assume that $x_t$ and $c_t$ are stochastic and normally distributed\n",
    "\n",
    "$$ x_{t}\\sim\\mathcal{N}(0,\\sigma_{x}^{2}) $$\n",
    "$$ c_{t}\\sim\\mathcal{N}(0,\\sigma_{c}^{2}) $$\n",
    "\n",
    "The **standard deviations of the shocks** are:"
   ]
  },
  {
   "cell_type": "code",
   "execution_count": 6,
   "metadata": {},
   "outputs": [],
   "source": [
    "par['sigma_x'] = 3.492\n",
    "par['sigma_c'] = 0.2"
   ]
  },
  {
   "cell_type": "markdown",
   "metadata": {},
   "source": [
    "**Question 4:** Simulate the AS-AD model for 1,000 periods. Calculate the following five statistics:\n",
    "\n",
    "1. Variance of $y_t$, $var(y_t)$\n",
    "2. Variance of $\\pi_t$, $var(\\pi_t)$\n",
    "3. Correlation between $y_t$ and $\\pi_t$, $corr(y_t,\\pi_t)$\n",
    "4. Auto-correlation between $y_t$ and $y_{t-1}$, $corr(y_t,y_{t-1})$\n",
    "5. Auto-correlation between $\\pi_t$ and $\\pi_{t-1}$, $corr(\\pi_t,\\pi_{t-1})$"
   ]
  },
  {
   "cell_type": "markdown",
   "metadata": {},
   "source": [
    "**Question 5:** Plot how the correlation between $y_t$ and $\\pi_t$ changes with $\\phi$. Use a numerical optimizer or root finder to choose $\\phi\\in(0,1)$ such that the simulated correlation between $y_t$ and $\\pi_t$ comes close to 0.31. "
   ]
  },
  {
   "cell_type": "markdown",
   "metadata": {},
   "source": [
    "**Quesiton 6:** Use a numerical optimizer to choose $\\sigma_x>0$, $\\sigma_c>0$ and $\\phi\\in(0,1)$ to make the simulated statistics as close as possible to US business cycle data where:\n",
    "\n",
    "1. $var(y_t) = 1.64$\n",
    "2. $var(\\pi_t) = 0.21$\n",
    "3. $corr(y_t,\\pi_t) = 0.31$\n",
    "4. $corr(y_t,y_{t-1}) = 0.84$\n",
    "5. $corr(\\pi_t,\\pi_{t-1}) = 0.48$"
   ]
  },
  {
   "cell_type": "markdown",
   "metadata": {},
   "source": [
    "# 3. Exchange economy"
   ]
  },
  {
   "cell_type": "code",
   "execution_count": 2,
   "metadata": {},
   "outputs": [],
   "source": [
    "from scipy import linalg\n",
    "from scipy import optimize\n",
    "import sympy as sm\n",
    "%matplotlib inline\n",
    "import matplotlib.pyplot as plt"
   ]
  },
  {
   "cell_type": "markdown",
   "metadata": {},
   "source": [
    "Consider an **exchange economy** with\n",
    "\n",
    "1. 3 goods, $(x_1,x_2,x_3)$\n",
    "2. $N$ consumers indexed by \\\\( j \\in \\{1,2,\\dots,N\\} \\\\)\n",
    "3. Preferences are Cobb-Douglas with log-normally distributed coefficients\n",
    "\n",
    "    $$ \\begin{eqnarray*}\n",
    "    u^{j}(x_{1},x_{2},x_{3}) &=& \n",
    "    \\left(x_{1}^{\\beta_{1}^{j}}x_{2}^{\\beta_{2}^{j}}x_{3}^{\\beta_{3}^{j}}\\right)^{\\gamma}\\\\\n",
    "     &  & \\,\\,\\,\\beta_{i}^{j}=\\frac{\\alpha_{i}^{j}}{\\alpha_{1}^{j}+\\alpha_{2}^{j}+\\alpha_{3}^{j}} \\\\\n",
    "     &  & \\,\\,\\,\\boldsymbol{\\alpha}^{j}=(\\alpha_{1}^{j},\\alpha_{2}^{j},\\alpha_{3}^{j}) \\\\ \n",
    "     &  & \\,\\,\\,\\log(\\boldsymbol{\\alpha}^j) \\sim \\mathcal{N}(\\mu,\\Sigma) \\\\\n",
    "    \\end{eqnarray*} $$\n",
    "\n",
    "4. Endowments are exponentially distributed,\n",
    "\n",
    "$$\n",
    "\\begin{eqnarray*}\n",
    "\\boldsymbol{e}^{j} &=& (e_{1}^{j},e_{2}^{j},e_{3}^{j}) \\\\\n",
    " &  & e_i^j \\sim f, f(z;\\zeta) =  1/\\zeta \\exp(-z/\\zeta)\n",
    "\\end{eqnarray*}\n",
    "$$"
   ]
  },
  {
   "cell_type": "markdown",
   "metadata": {},
   "source": [
    "Let $p_3 = 1$ be the **numeraire**. The implied **demand functions** are:\n",
    "\n",
    "$$\n",
    "\\begin{eqnarray*}\n",
    "x_{i}^{\\star j}(p_{1},p_{2},\\boldsymbol{e}^{j})&=&\\beta^{j}_i\\frac{I^j}{p_{i}} \\\\\n",
    "\\end{eqnarray*}\n",
    "$$\n",
    "\n",
    "where consumer $j$'s income is\n",
    "\n",
    "$$I^j = p_1 e_1^j + p_2 e_2^j +p_3 e_3^j$$"
   ]
  },
  {
   "cell_type": "markdown",
   "metadata": {},
   "source": [
    "The **parameters** and **random preferences and endowments** are given by:"
   ]
  },
  {
   "cell_type": "code",
   "execution_count": 3,
   "metadata": {},
   "outputs": [],
   "source": [
    "# a. parameters\n",
    "N = 50000\n",
    "mu = np.array([3,2,1])\n",
    "Sigma = np.array([[0.25, 0, 0], [0, 0.25, 0], [0, 0, 0.25]])\n",
    "gamma = 0.8\n",
    "zeta = 1\n",
    "\n",
    "# b. random draws\n",
    "seed = 1986\n",
    "np.random.seed(seed)\n",
    "\n",
    "# preferences\n",
    "alphas = np.exp(np.random.multivariate_normal(mu, Sigma, size=N))\n",
    "betas = alphas/np.reshape(np.sum(alphas,axis=1),(N,1))\n",
    "\n",
    "# endowments\n",
    "e1 = np.random.exponential(zeta,size=N)\n",
    "e2 = np.random.exponential(zeta,size=N)\n",
    "e3 = np.random.exponential(zeta,size=N)"
   ]
  },
  {
   "cell_type": "markdown",
   "metadata": {},
   "source": [
    "**Question 1:** Plot the histograms of the budget shares for each good across agents."
   ]
  },
  {
   "cell_type": "markdown",
   "metadata": {},
   "source": [
    "Aligning with the lecture (Random Numbers and Simulation):\n",
    "\n",
    "Inserting the Income function into the implied demand function:\n",
    "\n",
    "$$\n",
    "\\begin{eqnarray*}\n",
    "x_{i}^{\\star j}(p_{1},p_{2},\\boldsymbol{e}^{j})&=&\\beta^{j}_i\\frac{I^j}{p_{i}}&=&\\beta^{j}_i\\frac{p_1 e_1^j + p_2 e_2^j +p_3 e_3^j}{p_{i}}&=&\\beta^{j}_i\\frac{p_1 e_1^j + p_2 e_2^j +e_3^j}{p_{i}}\\\\\n",
    "\\end{eqnarray*}\n",
    "$$\n",
    "\n",
    "The equilibrium for a random draw of \\\\( \\alpha^j = \\{\\alpha^1,\\alpha^2, \\alpha^3 \\dots,\\alpha^N\\} \\\\) is a set of prices \\\\( p_1 \\\\), \\\\( p_2 \\\\) and \\\\(p_3\\\\) = 1 (numeraire good) satifying:\n",
    "\n",
    "\n",
    "\\\\[ \n",
    "\\begin{eqnarray*}\n",
    "x_1(p_1,p_2) = \\sum_{j=1}^N x_{1}^{\\star j}(p_{1},p_{2},e^{j}) &=& \\sum_{j=1}^N \\beta_1^j \\frac{p_1 e_1^j + p_2 e_2^j+ e_3^j}{p_1}\\\\\n",
    "x_2(p_1,p_2) = \\sum_{j=1}^N x_{2}^{\\star j}(p_{1},p_{2},e^{j}) &=& \\sum_{j=1}^N \\beta_2^j \\frac{p_1 e_1^j + p_2 e_2^j+ e_3^j}{p_2}\\\\\n",
    "x_3(p_1,p_2) = \\sum_{j=1}^N x_{3}^{\\star j}(p_{1},p_{2},e^{j}) &=& \\sum_{j=1}^N \\beta_3^j \\frac{p_1 e_1^j + p_2 e_2^j+ e_3^j}{p_3}\n",
    "\\end{eqnarray*}\n",
    "\\\\]"
   ]
  },
  {
   "cell_type": "code",
   "execution_count": 26,
   "metadata": {},
   "outputs": [],
   "source": [
    "p3 = 1 #define the numeraire\n",
    "\n",
    "# demand functions:\n",
    "\n",
    "def demand1_EE(betas,p1,p2,e1,e2,e3):\n",
    "    I = p1*e1 + p2*e2 + e3\n",
    "    return betas[:,0]*(I/p1)\n",
    "\n",
    "def demand2_EE(betas,p1,p2,e1,e2,e3):\n",
    "    I = p1*e1 + p2*e2 + e3\n",
    "    return betas[:,1]*(I/p2)\n",
    "\n",
    "def demand3_EE(betas,p1,p2,e1,e2,e3):\n",
    "    I = p1*e1 + p2*e2 + e3\n",
    "    return betas[:,2]*(I/p3)"
   ]
  },
  {
   "cell_type": "markdown",
   "metadata": {},
   "source": [
    "Rearrainging the implied demand function\n",
    "$$\n",
    "\\begin{eqnarray*}\n",
    "x_{i}^{\\star j}(p_{1},p_{2},\\boldsymbol{e}^{j})&=&\\beta^{j}_i\\frac{I^j}{p_{i}} \\\\\n",
    "\\end{eqnarray*}\n",
    "$$\n",
    "\n",
    "to \n",
    "$$\n",
    "\\begin{eqnarray*}\n",
    "x_{i}^{\\star j} p_{i} &=& \\beta_i^j I^j \\\\\n",
    "\\end{eqnarray*}\n",
    "$$\n",
    "\n",
    "shows that $\\beta$ is the fraction of consumer j's income share for good i. "
   ]
  },
  {
   "cell_type": "code",
   "execution_count": 27,
   "metadata": {},
   "outputs": [
    {
     "name": "stdout",
     "output_type": "stream",
     "text": [
      "[[0.53104511 0.30693723 0.16201766]\n",
      " [0.50866997 0.4162364  0.07509363]\n",
      " [0.83317207 0.07722226 0.08960567]\n",
      " ...\n",
      " [0.63725404 0.22027742 0.14246854]\n",
      " [0.78205036 0.11988119 0.09806844]\n",
      " [0.65552751 0.24728801 0.09718448]]\n"
     ]
    }
   ],
   "source": [
    "print(betas) #gives us the betas for all 50000 consumers"
   ]
  },
  {
   "cell_type": "code",
   "execution_count": 28,
   "metadata": {},
   "outputs": [
    {
     "data": {
      "text/plain": [
       "numpy.ndarray"
      ]
     },
     "execution_count": 28,
     "metadata": {},
     "output_type": "execute_result"
    }
   ],
   "source": [
    "type(betas)"
   ]
  },
  {
   "cell_type": "code",
   "execution_count": 29,
   "metadata": {},
   "outputs": [
    {
     "name": "stdout",
     "output_type": "stream",
     "text": [
      "[0.53104511 0.50866997 0.83317207 ... 0.63725404 0.78205036 0.65552751]\n"
     ]
    }
   ],
   "source": [
    "#extracting the first column\n",
    "beta1 = betas[:,0]\n",
    "beta2 = betas[:,1]\n",
    "beta3 = betas[:,2]\n",
    "print(beta1)"
   ]
  },
  {
   "cell_type": "code",
   "execution_count": 30,
   "metadata": {},
   "outputs": [
    {
     "data": {
      "image/png": "[encoded data removed]",
      "text/plain": [
       "<Figure size 432x288 with 1 Axes>"
      ]
     },
     "metadata": {
      "needs_background": "light"
     },
     "output_type": "display_data"
    },
    {
     "data": {
      "image/png": "[encoded data removed]",
      "text/plain": [
       "<Figure size 432x288 with 1 Axes>"
      ]
     },
     "metadata": {
      "needs_background": "light"
     },
     "output_type": "display_data"
    },
    {
     "data": {
      "image/png": "[encoded data removed]",
      "text/plain": [
       "<Figure size 432x288 with 1 Axes>"
      ]
     },
     "metadata": {
      "needs_background": "light"
     },
     "output_type": "display_data"
    }
   ],
   "source": [
    "# Histogram\n",
    "\n",
    "plt.hist(beta1, bins=100) #100 bins means grouping into 100 sections between 0 and 1\n",
    "plt.title(\"Plot of histograms for budget share for good 1 across consumers\")\n",
    "plt.show()\n",
    "\n",
    "plt.hist(beta2, bins=100) #100 bins means grouping into 100 sections between 0 and 1\n",
    "plt.title(\"Plot of histograms for budget share for good 2 across consumers\")\n",
    "plt.show()\n",
    "\n",
    "plt.hist(beta3, bins=100) #100 bins means grouping into 100 sections between 0 and 1\n",
    "plt.title(\"Plot of histograms for budget share for good 3 across consumers\")\n",
    "plt.show()"
   ]
  },
  {
   "cell_type": "markdown",
   "metadata": {},
   "source": [
    "Consider the **excess demand functions:**\n",
    "\n",
    "$$ z_i(p_1,p_2) = \\sum_{j=1}^N x_{i}^{\\star j}(p_{1},p_{2},\\boldsymbol{e}^{j}) - e_i^j$$"
   ]
  },
  {
   "cell_type": "markdown",
   "metadata": {},
   "source": [
    "\n",
    "**Question 2:** Plot the excess demand functions."
   ]
  },
  {
   "cell_type": "code",
   "execution_count": 31,
   "metadata": {},
   "outputs": [],
   "source": [
    "def excess_demand1_EE(betas,p1,p2,e1,e2,e3):\n",
    "    \n",
    "    demand_EE = np.sum(demand1_EE(betas,p1,p2,e1,e2,e3))\n",
    "    \n",
    "    supply_EE = np.sum(e1)\n",
    "    \n",
    "    excess_demand_EE = demand_EE - supply_EE\n",
    "    \n",
    "    return excess_demand_EE\n",
    "\n",
    "def excess_demand2_EE(betas,p1,p2,e1,e2,e3):\n",
    "    \n",
    "    demand_EE = np.sum(demand2_EE(betas,p1,p2,e1,e2,e3))\n",
    "    \n",
    "    supply_EE = np.sum(e2)\n",
    "    \n",
    "    excess_demand_EE = demand_EE - supply_EE\n",
    "    \n",
    "    return excess_demand_EE\n",
    "\n",
    "def excess_demand3_EE(betas,p1,p2,e1,e2,e3):\n",
    "    \n",
    "    demand_EE = np.sum(demand3_EE(betas,p1,p2,e1,e2,e3))\n",
    "    \n",
    "    supply_EE = np.sum(e3)\n",
    "    \n",
    "    excess_demand_EE = demand_EE - supply_EE\n",
    "    \n",
    "    return excess_demand_EE"
   ]
  },
  {
   "cell_type": "markdown",
   "metadata": {},
   "source": [
    "**ALTER & FIT FOR THE QUESTION**\n",
    "\n",
    "**Algorithm:** Choose a tolerance \\\\( \\epsilon > 0 \\\\) and an adjustment factor \\\\( \\kappa \\\\), and guess on \\\\( p_1 > 0\\\\). \n",
    "\n",
    "Find the equilibrium price by:\n",
    "\n",
    "1. Calculate excess demand \\\\( Z_1 = \\sum_{j=1}^N x_{1}^{\\star j}(p_{1},p_{2},e^{j}) - Nk\\\\)\n",
    "2. If \\\\( |Z_1| < \\epsilon \\\\) stop\n",
    "3. If \\\\( |Z_1| \\geq \\epsilon \\\\) set \\\\( p_1 = p_1 + \\kappa \\cdot \\frac{Z_1}{N} \\\\)\n",
    "4. Return to step 1"
   ]
  },
  {
   "cell_type": "code",
   "execution_count": 60,
   "metadata": {},
   "outputs": [],
   "source": [
    "def equilibrium_EE(betas,p1,p2,e1,e2,e3,kappa=0.8,eps=1e-8,maxiter=1000):\n",
    "    \n",
    "    t = 0\n",
    "    while True:\n",
    "\n",
    "        #step 1\n",
    "        Z1 = excess_demand1_EE(betas,p1,p2,e1,e2,e3)\n",
    "        \n",
    "        #step 2\n",
    "        if  np.abs(Z1) < eps or t >= maxiter:\n",
    "            print(f'{t:3d}: p1 = {p1:12.8f} -> excess demand -> {Z1:14.8f}')\n",
    "            break    \n",
    "    \n",
    "        # step 3\n",
    "        p1 = p1 + kappa*Z1/betas.size\n",
    "            \n",
    "        #step 4\n",
    "        if t < 5 or t%25 == 0:\n",
    "            print(f'{t:3d}: p1 = {p1:12.8f} -> excess demand -> {Z1:14.8f}')\n",
    "        elif t == 5:\n",
    "            print('   ...')\n",
    "            \n",
    "        t += 1    \n",
    "\n",
    "    return p1\n",
    "\n",
    "    t = 0\n",
    "    while True:\n",
    "\n",
    "        #step 1\n",
    "        Z2 = excess_demand2_EE(betas,p1,p2,e1,e2,e3)\n",
    "        \n",
    "        #step 2\n",
    "        if  np.abs(Z2) < eps or t >= maxiter:\n",
    "            print(f'{t:3d}: p1 = {p1:12.8f} -> excess demand -> {Z1:14.8f}')\n",
    "            break    \n",
    "    \n",
    "        # step 3\n",
    "        p1 = p1 + kappa*Z2/betas.size\n",
    "            \n",
    "        #step 4\n",
    "        if t < 5 or t%25 == 0:\n",
    "            print(f'{t:3d}: p2 = {p1:12.8f} -> excess demand -> {Z1:14.8f}')\n",
    "        elif t == 5:\n",
    "            print('   ...')\n",
    "            \n",
    "        t += 1    \n",
    "\n",
    "    return p2"
   ]
  },
  {
   "cell_type": "code",
   "execution_count": 61,
   "metadata": {},
   "outputs": [
    {
     "name": "stdout",
     "output_type": "stream",
     "text": [
      "  0: p1 =   1.54921233 -> excess demand -> 27977.31151752\n",
      "  1: p1 =   1.67489074 -> excess demand -> 23564.70154283\n",
      "  2: p1 =   1.78400032 -> excess demand -> 20458.04628648\n",
      "  3: p1 =   1.88061853 -> excess demand -> 18115.91468981\n",
      "  4: p1 =   1.96738548 -> excess demand -> 16268.80293132\n",
      "   ...\n",
      " 25: p1 =   2.88332478 -> excess demand ->  4598.99157235\n",
      " 50: p1 =   3.26953167 -> excess demand ->  1839.50477487\n",
      " 75: p1 =   3.43673273 -> excess demand ->   850.71838859\n",
      "100: p1 =   3.51630239 -> excess demand ->   415.21812900\n",
      "125: p1 =   3.55563132 -> excess demand ->   207.57985373\n",
      "150: p1 =   3.57541147 -> excess demand ->   104.97405486\n",
      "175: p1 =   3.58544411 -> excess demand ->    53.38854335\n",
      "200: p1 =   3.59055421 -> excess demand ->    27.23056932\n",
      "225: p1 =   3.59316256 -> excess demand ->    13.90899386\n",
      "250: p1 =   3.59449539 -> excess demand ->     7.10977401\n",
      "275: p1 =   3.59517681 -> excess demand ->     3.63563081\n",
      "300: p1 =   3.59552530 -> excess demand ->     1.85946285\n",
      "325: p1 =   3.59570354 -> excess demand ->     0.95112600\n",
      "350: p1 =   3.59579472 -> excess demand ->     0.48653098\n",
      "375: p1 =   3.59584136 -> excess demand ->     0.24888238\n",
      "400: p1 =   3.59586521 -> excess demand ->     0.12731616\n",
      "425: p1 =   3.59587742 -> excess demand ->     0.06512921\n",
      "450: p1 =   3.59588366 -> excess demand ->     0.03331729\n",
      "475: p1 =   3.59588686 -> excess demand ->     0.01704371\n",
      "500: p1 =   3.59588849 -> excess demand ->     0.00871885\n",
      "525: p1 =   3.59588933 -> excess demand ->     0.00446020\n",
      "550: p1 =   3.59588975 -> excess demand ->     0.00228165\n",
      "575: p1 =   3.59588997 -> excess demand ->     0.00116720\n",
      "600: p1 =   3.59589008 -> excess demand ->     0.00059709\n",
      "625: p1 =   3.59589014 -> excess demand ->     0.00030545\n",
      "650: p1 =   3.59589017 -> excess demand ->     0.00015625\n",
      "675: p1 =   3.59589019 -> excess demand ->     0.00007993\n",
      "700: p1 =   3.59589019 -> excess demand ->     0.00004089\n",
      "725: p1 =   3.59589020 -> excess demand ->     0.00002092\n",
      "750: p1 =   3.59589020 -> excess demand ->     0.00001070\n",
      "775: p1 =   3.59589020 -> excess demand ->     0.00000547\n",
      "800: p1 =   3.59589020 -> excess demand ->     0.00000280\n",
      "825: p1 =   3.59589020 -> excess demand ->     0.00000143\n",
      "850: p1 =   3.59589020 -> excess demand ->     0.00000073\n",
      "875: p1 =   3.59589020 -> excess demand ->     0.00000037\n",
      "900: p1 =   3.59589020 -> excess demand ->     0.00000019\n",
      "925: p1 =   3.59589020 -> excess demand ->     0.00000010\n",
      "950: p1 =   3.59589020 -> excess demand ->     0.00000005\n",
      "975: p1 =   3.59589020 -> excess demand ->     0.00000003\n",
      "1000: p1 =   3.59589020 -> excess demand ->     0.00000001\n"
     ]
    }
   ],
   "source": [
    "# call find equilibrium function\n",
    "p1 = 1.4\n",
    "p2 = 1\n",
    "kappa = 0.8\n",
    "eps = 1e-8\n",
    "p1 = equilibrium_EE(betas,p1,p2,e1,e2,e3,kappa=kappa,eps=eps)\n"
   ]
  },
  {
   "cell_type": "code",
   "execution_count": 57,
   "metadata": {},
   "outputs": [
    {
     "name": "stdout",
     "output_type": "stream",
     "text": [
      "1.3133103493601084e-08 22383.751405424744 -22383.751405471958\n"
     ]
    }
   ],
   "source": [
    "#Check whether excess demand is actually close to zero\n",
    "Z1 = excess_demand1_EE(betas,p1,p2,e1,e2,e3)\n",
    "Z2 = excess_demand2_EE(betas,p1,p2,e1,e2,e3)\n",
    "Z3 = excess_demand3_EE(betas,p1,p2,e1,e2,e3)\n",
    "print(Z1,Z2,Z3)"
   ]
  },
  {
   "cell_type": "markdown",
   "metadata": {},
   "source": [
    "**Quesiton 3:** Find the Walras-equilibrium prices, $(p_1,p_2)$, where both excess demands are (approximately) zero, e.g. by using the following tâtonnement process:\n",
    "\n",
    "1. Guess on $p_1 > 0$, $p_2 > 0$ and choose tolerance $\\epsilon > 0$ and adjustment aggressivity parameter, $\\kappa > 0$.\n",
    "2. Calculate $z_1(p_1,p_2)$ and $z_2(p_1,p_2)$.\n",
    "3. If $|z_1| < \\epsilon$ and $|z_2| < \\epsilon$ then stop.\n",
    "4. Else set $p_1 = p_1 + \\kappa \\frac{z_1}{N}$ and $p_2 = p_2 + \\kappa \\frac{z_2}{N}$ and return to step 2."
   ]
  },
  {
   "cell_type": "markdown",
   "metadata": {},
   "source": [
    "**Question 4:** Plot the distribution of utility in the Walras-equilibrium and calculate its mean and variance."
   ]
  },
  {
   "cell_type": "markdown",
   "metadata": {},
   "source": [
    "**Question 5:** Find the Walras-equilibrium prices if instead all endowments were distributed equally. Discuss the implied changes in the distribution of utility. Does the value of $\\gamma$ play a role for your conclusions?"
   ]
  },
  {
   "cell_type": "code",
   "execution_count": null,
   "metadata": {},
   "outputs": [],
   "source": []
  }
 ],
 "metadata": {
  "kernelspec": {
   "display_name": "Python 3",
   "language": "python",
   "name": "python3"
  },
  "language_info": {
   "codemirror_mode": {
    "name": "ipython",
    "version": 3
   },
   "file_extension": ".py",
   "mimetype": "text/x-python",
   "name": "python",
   "nbconvert_exporter": "python",
   "pygments_lexer": "ipython3",
   "version": "3.7.1"
  },
  "toc-autonumbering": false
 },
 "nbformat": 4,
 "nbformat_minor": 2
}
