{
 "cells": [
  {
   "cell_type": "markdown",
   "metadata": {},
   "source": [
    "# Model Project "
   ]
  },
  {
   "cell_type": "markdown",
   "metadata": {},
   "source": [
    "We start by importing necessary packages:"
   ]
  },
  {
   "cell_type": "code",
   "execution_count": 6,
   "metadata": {},
   "outputs": [],
   "source": [
    "import pandas as pd\n",
    "import numpy as np\n",
    "\n",
    "import matplotlib.pyplot as plt\n",
    "import ipywidgets as widgets\n",
    "import time\n",
    "from scipy import linalg\n",
    "from scipy import optimize\n",
    "import sympy as sm"
   ]
  },
  {
   "cell_type": "markdown",
   "metadata": {},
   "source": [
    "# Solow model with climate change "
   ]
  },
  {
   "cell_type": "markdown",
   "metadata": {},
   "source": [
    "Consider the standard Solow-model with an indicator for climate change where:\n",
    "\n",
    "$K_t$ is capital\n",
    "    $L_t$ is labor (growing with a constant rate of $n$)\n",
    "    $A_t$ is technology (growing with a constant rate of $g$)\n",
    "    $D_t$ is the damage function (growing with a constant rate of $n$)\n",
    "    $Y_t = F(K_t,A_t,L_t,D_t)$ is GDP\n",
    "\n",
    "    \n",
    "The Damage-function depends on temperature T\n",
    "\n",
    "$$ D_t = 1-\\frac{1}{1+\\theta_1T_t^{\\theta_2}} =< 1 $$\n",
    "\n",
    "$T_t^{\\theta_2}$ is the global mean temperature change at time t. $\\theta_1$ is the damage parameter.\n",
    "    \n",
    "Cobb-Douglas production-function\n",
    "\n",
    "\n",
    "$$ F(K_{t},A_{t}L_{t},D_{t})=  (1-D_{t})A_{t}K_{t}^{\\alpha}L_{t}^{1-\\alpha}$$\n",
    "\n",
    "It is convenient to express all variables of interest in terms of per effective worker, as this can we used as a measure of welfare of sociely. We use small letters to denote per effective worker, so $y=Y/AL$ and $k=K/AL $, which gives: \n",
    "\n",
    "$$ f({k}_{t})=(1-D){k}_{t}^{\\alpha} $$\n",
    "\n",
    "\n",
    "Saving is a constant fraction of GDP\n",
    "\n",
    "$$ S_t = sY_t,\\,s\\in(0,1) $$\n",
    "\n",
    "\n",
    " **Capital accumulates** according to\n",
    "\n",
    "\\\\[ K_{t+1}=S_{t}+(1-\\delta)K_{t}=sF(K_{t},A_{t}L_{t})+(1-\\delta)K_{t}, \\delta \\in (0,1) \\\\]\n",
    "\n",
    "The economy is growing over time (due to exogenous technological progress and population growth), which makes it useful to focus on the behavior of capital stock per unit of effective labor. The transition in the model can be decribed by\n",
    "\n",
    "\n",
    "\\\\[ \\tilde{k}_{t+1}= \\frac{1}{(1+n)(1+g)}[sf(\\tilde{k}_{t})+(1-\\delta)\\tilde{k}_{t}] \\\\]\n",
    "\n",
    "\n"
   ]
  },
  {
   "cell_type": "markdown",
   "metadata": {},
   "source": [
    "# Behavior of capital stock per unit of effective labor over time"
   ]
  },
  {
   "cell_type": "markdown",
   "metadata": {},
   "source": [
    "## Model including climate change "
   ]
  },
  {
   "cell_type": "code",
   "execution_count": 7,
   "metadata": {},
   "outputs": [],
   "source": [
    "k = sm.symbols('k')\n",
    "alpha = sm.symbols('alpha')\n",
    "delta = sm.symbols('delta')\n",
    "s = sm.symbols('s')\n",
    "A = sm.symbols('A')\n",
    "D = sm.symbols('D')\n",
    "n = sm.symbols('n')\n",
    "g = sm.symbols('g')\n",
    "\n",
    "sm.init_printing(use_unicode=True)"
   ]
  },
  {
   "cell_type": "markdown",
   "metadata": {},
   "source": [
    "Equation of capital stock per unit of effective labour"
   ]
  },
  {
   "cell_type": "code",
   "execution_count": 26,
   "metadata": {},
   "outputs": [
    {
     "data": {
      "image/png": "[encoded data removed]",
      "text/latex": [
       "$$k = \\frac{k \\left(- \\delta + 1\\right) + k^{\\alpha} s \\left(- D + 1\\right)}{\\left(g + 1\\right) \\left(n + 1\\right)}$$"
      ],
      "text/plain": [
       "                  α           \n",
       "    k⋅(-δ + 1) + k ⋅s⋅(-D + 1)\n",
       "k = ──────────────────────────\n",
       "         (g + 1)⋅(n + 1)      "
      ]
     },
     "execution_count": 26,
     "metadata": {},
     "output_type": "execute_result"
    }
   ],
   "source": [
    "ss1 = sm.Eq(k,(s*((1-D)*((k)**alpha))+(1-delta)*k)/((1+n)*(1+g)))\n",
    "ss1"
   ]
  },
  {
   "cell_type": "markdown",
   "metadata": {},
   "source": [
    "Create a vector for time, t "
   ]
  },
  {
   "cell_type": "code",
   "execution_count": 27,
   "metadata": {},
   "outputs": [],
   "source": [
    "x_vec = np.zeros((100,1))"
   ]
  },
  {
   "cell_type": "code",
   "execution_count": 28,
   "metadata": {},
   "outputs": [],
   "source": [
    "x_vec[0] = 1"
   ]
  },
  {
   "cell_type": "markdown",
   "metadata": {},
   "source": [
    "Then we select some parameter values, Let\n",
    "$$s=0.2 $$\n",
    "$$ g=0.02 $$ \n",
    "$$ n=0.01 $$\n",
    "$$ delta=0.1$$\n",
    "$$ alpha=1/3 $$\n",
    "$$ D=0,1 $$"
   ]
  },
  {
   "cell_type": "code",
   "execution_count": 12,
   "metadata": {},
   "outputs": [],
   "source": [
    "s = 0.2\n",
    "g = 0.02\n",
    "n = 0.01\n",
    "delta = 0.1\n",
    "alpha = (1/3)\n",
    "D = 0.1"
   ]
  },
  {
   "cell_type": "markdown",
   "metadata": {},
   "source": [
    "Now, plug vector x_vec into the capital transition equation: "
   ]
  },
  {
   "cell_type": "code",
   "execution_count": 13,
   "metadata": {},
   "outputs": [],
   "source": [
    "for i in range(1, 100):\n",
    "    x_vec[i] = (s*(1-D)*x_vec[i-1]**alpha+(1-delta)*x_vec[i-1])/((1+g)*(1+n))"
   ]
  },
  {
   "cell_type": "markdown",
   "metadata": {},
   "source": [
    "Now we can check whether the x_vec [steady state capital] converges to a steady state."
   ]
  },
  {
   "cell_type": "code",
   "execution_count": 14,
   "metadata": {},
   "outputs": [
    {
     "data": {
      "text/plain": [
       "array([[1.        ],\n",
       "       [1.04834013],\n",
       "       [1.09334207],\n",
       "       [1.13516079],\n",
       "       [1.17396056],\n",
       "       [1.20991008],\n",
       "       [1.24317873],\n",
       "       [1.27393383],\n",
       "       [1.30233866],\n",
       "       [1.328551  ],\n",
       "       [1.35272218],\n",
       "       [1.3749964 ],\n",
       "       [1.39551038],\n",
       "       [1.4143932 ],\n",
       "       [1.43176626],\n",
       "       [1.44774341],\n",
       "       [1.46243112],\n",
       "       [1.47592874],\n",
       "       [1.48832876],\n",
       "       [1.49971719],\n",
       "       [1.51017383],\n",
       "       [1.51977267],\n",
       "       [1.5285822 ],\n",
       "       [1.53666575],\n",
       "       [1.54408184],\n",
       "       [1.5508845 ],\n",
       "       [1.55712355],\n",
       "       [1.56284493],\n",
       "       [1.56809096],\n",
       "       [1.57290059],\n",
       "       [1.5773097 ],\n",
       "       [1.58135125],\n",
       "       [1.58505559],\n",
       "       [1.58845058],\n",
       "       [1.59156185],\n",
       "       [1.59441292],\n",
       "       [1.5970254 ],\n",
       "       [1.59941913],\n",
       "       [1.60161232],\n",
       "       [1.60362169],\n",
       "       [1.60546255],\n",
       "       [1.60714899],\n",
       "       [1.60869391],\n",
       "       [1.61010912],\n",
       "       [1.6114055 ],\n",
       "       [1.61259299],\n",
       "       [1.6136807 ],\n",
       "       [1.61467699],\n",
       "       [1.61558955],\n",
       "       [1.61642538],\n",
       "       [1.61719092],\n",
       "       [1.61789208],\n",
       "       [1.61853426],\n",
       "       [1.61912241],\n",
       "       [1.61966108],\n",
       "       [1.62015441],\n",
       "       [1.62060623],\n",
       "       [1.62102003],\n",
       "       [1.62139899],\n",
       "       [1.62174605],\n",
       "       [1.62206389],\n",
       "       [1.62235497],\n",
       "       [1.62262154],\n",
       "       [1.62286567],\n",
       "       [1.62308924],\n",
       "       [1.62329398],\n",
       "       [1.62348148],\n",
       "       [1.62365319],\n",
       "       [1.62381044],\n",
       "       [1.62395444],\n",
       "       [1.62408632],\n",
       "       [1.62420708],\n",
       "       [1.62431768],\n",
       "       [1.62441896],\n",
       "       [1.6245117 ],\n",
       "       [1.62459664],\n",
       "       [1.62467442],\n",
       "       [1.62474564],\n",
       "       [1.62481087],\n",
       "       [1.6248706 ],\n",
       "       [1.6249253 ],\n",
       "       [1.6249754 ],\n",
       "       [1.62502127],\n",
       "       [1.62506328],\n",
       "       [1.62510174],\n",
       "       [1.62513697],\n",
       "       [1.62516923],\n",
       "       [1.62519877],\n",
       "       [1.62522583],\n",
       "       [1.6252506 ],\n",
       "       [1.62527329],\n",
       "       [1.62529406],\n",
       "       [1.62531309],\n",
       "       [1.62533051],\n",
       "       [1.62534646],\n",
       "       [1.62536107],\n",
       "       [1.62537445],\n",
       "       [1.6253867 ],\n",
       "       [1.62539792],\n",
       "       [1.6254082 ]])"
      ]
     },
     "execution_count": 14,
     "metadata": {},
     "output_type": "execute_result"
    }
   ],
   "source": [
    "x_vec"
   ]
  },
  {
   "cell_type": "markdown",
   "metadata": {},
   "source": [
    "## Model ignoring climate change"
   ]
  },
  {
   "cell_type": "code",
   "execution_count": 15,
   "metadata": {},
   "outputs": [
    {
     "data": {
      "image/png": "[encoded data removed]",
      "text/latex": [
       "$$k = 0.1941370607649 k^{0.333333333333333} + 0.87361677344205 k$$"
      ],
      "text/plain": [
       "                     0.333333333333333                     \n",
       "k = 0.1941370607649⋅k                  + 0.87361677344205⋅k"
      ]
     },
     "execution_count": 15,
     "metadata": {},
     "output_type": "execute_result"
    }
   ],
   "source": [
    "ss2 = sm.Eq(k,(s*(((k)**alpha))+(1-delta)*k)/((1+n)*(1+g)))\n",
    "ss2"
   ]
  },
  {
   "cell_type": "markdown",
   "metadata": {},
   "source": [
    "Create a vector to plug in for time, t"
   ]
  },
  {
   "cell_type": "code",
   "execution_count": 16,
   "metadata": {},
   "outputs": [],
   "source": [
    "y_vec = np.zeros((100,1))"
   ]
  },
  {
   "cell_type": "code",
   "execution_count": 17,
   "metadata": {},
   "outputs": [],
   "source": [
    "y_vec[0] = 1"
   ]
  },
  {
   "cell_type": "markdown",
   "metadata": {},
   "source": [
    "plug vector y_vec in the equation for behavior of capital stock per unit of effective labour."
   ]
  },
  {
   "cell_type": "code",
   "execution_count": 18,
   "metadata": {},
   "outputs": [],
   "source": [
    "for i in range(1, 100):\n",
    "    y_vec[i] = (s*y_vec[i-1]**alpha+(1-delta)*y_vec[i-1])/((1+g)*(1+n))"
   ]
  },
  {
   "cell_type": "markdown",
   "metadata": {},
   "source": [
    "### Plot both functions in the same graph"
   ]
  },
  {
   "cell_type": "code",
   "execution_count": 19,
   "metadata": {},
   "outputs": [
    {
     "data": {
      "image/png": "[encoded data removed]",
      "text/plain": [
       "<Figure size 432x288 with 1 Axes>"
      ]
     },
     "metadata": {
      "needs_background": "light"
     },
     "output_type": "display_data"
    }
   ],
   "source": [
    "fid, ax = plt.subplots()\n",
    "ax.plot(x_vec, label=\"model including climate change\")\n",
    "ax.plot(y_vec, label=\"model ignoring climate change\")\n",
    "ax.set(xlabel = 'time, t', ylabel ='k(t)')\n",
    "plt.title('capital stock per unit of effective labour over time')\n",
    "plt.legend()\n",
    "plt.show()"
   ]
  },
  {
   "cell_type": "markdown",
   "metadata": {},
   "source": [
    "Both equations converge to a steady state over time. The model including climate change has a lower steady state because it implements climate change as a external cost."
   ]
  },
  {
   "cell_type": "markdown",
   "metadata": {},
   "source": [
    "# Steady state calculations "
   ]
  },
  {
   "cell_type": "markdown",
   "metadata": {},
   "source": [
    "We now want to find an **analytic an analytical** expression for the steady state, that is: where $ k_{t+1} = k_{t} =k_{ss}$"
   ]
  },
  {
   "cell_type": "code",
   "execution_count": 20,
   "metadata": {},
   "outputs": [],
   "source": [
    "\n",
    "k = sm.symbols('k')\n",
    "alpha = sm.symbols('alpha')\n",
    "delta = sm.symbols('delta')\n",
    "s = sm.symbols('s')\n",
    "A = sm.symbols('A')\n",
    "D = sm.symbols('D')\n",
    "n = sm.symbols('n')\n",
    "g = sm.symbols('g')"
   ]
  },
  {
   "cell_type": "code",
   "execution_count": 21,
   "metadata": {},
   "outputs": [
    {
     "data": {
      "image/png": "[encoded data removed]",
      "text/latex": [
       "$$\\left(\\frac{- \\delta - g n - g - n}{s \\left(D - 1\\right)}\\right)^{\\frac{1}{\\alpha - 1}}$$"
      ],
      "text/plain": [
       "                    1  \n",
       "                  ─────\n",
       "                  α - 1\n",
       "⎛-δ - g⋅n - g - n⎞     \n",
       "⎜────────────────⎟     \n",
       "⎝   s⋅(D - 1)    ⎠     "
      ]
     },
     "execution_count": 21,
     "metadata": {},
     "output_type": "execute_result"
    }
   ],
   "source": [
    "sm.init_printing(use_unicode=True)\n",
    "\n",
    "f = (1-D)*((k)**alpha)\n",
    "ss = sm.Eq(k,(s*f+(1-delta)*k)/((1+n)*(1+g)))\n",
    "kss = sm.solve(ss,k)[0]\n",
    "kss\n"
   ]
  },
  {
   "cell_type": "markdown",
   "metadata": {},
   "source": [
    "In the standard Solow model, **without the damage-function**, the steady state capital is given by: "
   ]
  },
  {
   "cell_type": "code",
   "execution_count": 22,
   "metadata": {},
   "outputs": [
    {
     "data": {
      "image/png": "[encoded data removed]",
      "text/latex": [
       "$$\\left(\\frac{\\delta + g n + g + n}{s}\\right)^{\\frac{1}{\\alpha - 1}}$$"
      ],
      "text/plain": [
       "                   1  \n",
       "                 ─────\n",
       "                 α - 1\n",
       "⎛δ + g⋅n + g + n⎞     \n",
       "⎜───────────────⎟     \n",
       "⎝       s       ⎠     "
      ]
     },
     "execution_count": 22,
     "metadata": {},
     "output_type": "execute_result"
    }
   ],
   "source": [
    "f1= (k)**alpha\n",
    "ss1 = sm.Eq(k,(s*f1+(1-delta)*k)/((1+n)*(1+g)))\n",
    "kss1 = sm.solve(ss1,k)[0]\n",
    "kss1"
   ]
  },
  {
   "cell_type": "markdown",
   "metadata": {},
   "source": [
    "From these equations it becomes clear that, with D≤1, the steady state capital growth is reduced by including the damage-function, compared to the the model without"
   ]
  },
  {
   "cell_type": "markdown",
   "metadata": {},
   "source": [
    "We can also find the **specific numerical value** for steady state capital. Usning the same parameter values as before, we have \n",
    "\n",
    "$$s=0.2 $$\n",
    "$$ g=0.02 $$ \n",
    "$$ n=0.01 $$\n",
    "$$ delta=0.1$$\n",
    "$$ alpha=1/3 $$\n",
    "$$ D=0,1 $$"
   ]
  },
  {
   "cell_type": "code",
   "execution_count": 30,
   "metadata": {},
   "outputs": [],
   "source": [
    "ss_func = sm.lambdify((s,g,n,delta,alpha,D),kss)"
   ]
  },
  {
   "cell_type": "markdown",
   "metadata": {},
   "source": [
    "Steady state capital, including the damage function, is then given by:"
   ]
  },
  {
   "cell_type": "code",
   "execution_count": 31,
   "metadata": {},
   "outputs": [
    {
     "data": {
      "image/png": "[encoded data removed]",
      "text/latex": [
       "$$1.6255198652134988$$"
      ],
      "text/plain": [
       "1.6255198652134988"
      ]
     },
     "execution_count": 31,
     "metadata": {},
     "output_type": "execute_result"
    }
   ],
   "source": [
    "ss_func(0.2,0.02,0.01,0.1,1/3, 0.1)"
   ]
  },
  {
   "cell_type": "markdown",
   "metadata": {},
   "source": [
    "By comparison, excluding the damage function, the steady state is given by:"
   ]
  },
  {
   "cell_type": "code",
   "execution_count": 32,
   "metadata": {},
   "outputs": [
    {
     "data": {
      "image/png": "[encoded data removed]",
      "text/latex": [
       "$$1.903831539231319$$"
      ],
      "text/plain": [
       "1.903831539231319"
      ]
     },
     "execution_count": 32,
     "metadata": {},
     "output_type": "execute_result"
    }
   ],
   "source": [
    "ss_func(0.2,0.02,0.01,0.1,1/3, 0)"
   ]
  },
  {
   "cell_type": "markdown",
   "metadata": {},
   "source": [
    "Notice how these values corresponds to steady state levels the figure. "
   ]
  },
  {
   "cell_type": "markdown",
   "metadata": {},
   "source": [
    "It becomes clear that the steady state capital excluding the damage function (representing climate change) is higher than the steady state capital in case of climate damage. Climate change is a negative externality for the society. For example, increased temperature causes sea level to rise and drought periods. This again, can increase human conflicts. Today's generation benefits from the use of fossil fuels, which releases greenhouse gases into the atmosphere and in turn causes climate change. But the benefit from using fossil fuels, does not internalize these external costs of climate change. "
   ]
  },
  {
   "cell_type": "markdown",
   "metadata": {},
   "source": [
    "# Impact of damage on steady state capital "
   ]
  },
  {
   "cell_type": "markdown",
   "metadata": {},
   "source": [
    "In order to visualize the impact of damage due to climate change (ceteris paribus), we plot the steady state as a dependent variable of D."
   ]
  },
  {
   "cell_type": "markdown",
   "metadata": {},
   "source": [
    "First, create a list that contains all values we want D to take"
   ]
  },
  {
   "cell_type": "code",
   "execution_count": 33,
   "metadata": {},
   "outputs": [],
   "source": [
    "Ds = [0, 0.1, 0.2, 0.3, 0.4, 0.5, 0.6, 0.7, 0.8, 0.9]"
   ]
  },
  {
   "cell_type": "markdown",
   "metadata": {},
   "source": [
    "Define the function that returns the steady state only dependent on D.\n"
   ]
  },
  {
   "cell_type": "code",
   "execution_count": 34,
   "metadata": {},
   "outputs": [],
   "source": [
    "def calc_ss(D):\n",
    "    return ss_func(0.2,0.02,0.01,0.1,1/3, D)\n"
   ]
  },
  {
   "cell_type": "markdown",
   "metadata": {},
   "source": [
    "Create a while loop so that a new list (nDs)is generated that contains all steady states for the respective D.\n"
   ]
  },
  {
   "cell_type": "code",
   "execution_count": 35,
   "metadata": {},
   "outputs": [
    {
     "name": "stdout",
     "output_type": "stream",
     "text": [
      "[1.903831539231319, 1.6255198652134988, 1.3622709566173723, 1.1150018222907796, 0.8848209414512797, 0.6731060958136442, 0.4816355156188146, 0.31283144391803264, 0.17028386957717148, 0.06020443945235181]\n"
     ]
    }
   ],
   "source": [
    "index = 0\n",
    "while index <= len(Ds)-1:\n",
    "    Ds[index] = calc_ss(Ds[index])\n",
    "    index = index +1\n",
    "\n",
    "print(Ds)"
   ]
  },
  {
   "cell_type": "code",
   "execution_count": 36,
   "metadata": {},
   "outputs": [],
   "source": [
    "Damage = [0,0.1, 0.2, 0.3, 0.4, 0.5, 0.6, 0.7, 0.8, 0.9]"
   ]
  },
  {
   "cell_type": "markdown",
   "metadata": {},
   "source": [
    "## Plot: "
   ]
  },
  {
   "cell_type": "code",
   "execution_count": 37,
   "metadata": {},
   "outputs": [
    {
     "data": {
      "image/png": "[encoded data removed]",
      "text/plain": [
       "<Figure size 432x288 with 1 Axes>"
      ]
     },
     "metadata": {
      "needs_background": "light"
     },
     "output_type": "display_data"
    }
   ],
   "source": [
    "fid, ax = plt.subplots()\n",
    "ax.plot(Damage, Ds)\n",
    "ax.set(xlabel = 'Damage', ylabel ='Steady state')\n",
    "plt.show()"
   ]
  },
  {
   "cell_type": "markdown",
   "metadata": {},
   "source": [
    "From the plot we can see that as damage increases, the steady state capital decreases. This could be due to higher expenses in order to compensate for i.e. agricultural damage."
   ]
  },
  {
   "cell_type": "code",
   "execution_count": null,
   "metadata": {},
   "outputs": [],
   "source": []
  }
 ],
 "metadata": {
  "kernelspec": {
   "display_name": "Python 3",
   "language": "python",
   "name": "python3"
  },
  "language_info": {
   "codemirror_mode": {
    "name": "ipython",
    "version": 3
   },
   "file_extension": ".py",
   "mimetype": "text/x-python",
   "name": "python",
   "nbconvert_exporter": "python",
   "pygments_lexer": "ipython3",
   "version": "3.7.1"
  }
 },
 "nbformat": 4,
 "nbformat_minor": 2
}
